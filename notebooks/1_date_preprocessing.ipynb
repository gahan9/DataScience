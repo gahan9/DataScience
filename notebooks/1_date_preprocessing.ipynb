{
 "cells": [
  {
   "cell_type": "markdown",
   "id": "1b5fe4fa-b351-4719-9b9c-3e3195582538",
   "metadata": {},
   "source": [
    "## Working on Rental Housing Price data\n",
    "\n",
    "### About Dataset\n",
    "This dataset provides comprehensive information about rental house prices across various locations in India. It includes details such as house type, size, location, city, latitude, longitude, price, currency, number of bathrooms, number of balconies, negotiability of price, price per square foot, verification date, description of the property, security deposit, and status of furnishing (furnished, unfurnished, semi-furnished).\n",
    "\n",
    "> Note: This is Recently scraped data of April 2024.\n",
    "\n",
    "### Dataset Glossary (Column-Wise)\n",
    "\n",
    "| Column                | Meaning                                                                                   |\n",
    "|-----------------------|-------------------------------------------------------------------------------------------|\n",
    "| House Type            | Type of house (e.g., apartment, villa, duplex).                                           |\n",
    "| House Size            | Size of the house in square feet or square meters.                                        |\n",
    "| Location              | Specific area or neighborhood where the property is located.                              |\n",
    "| City                  | City in India where the property is situated.                                             |\n",
    "| Latitude              | Geographic latitude coordinates of the property location.                                 |\n",
    "| Longitude             | Geographic longitude coordinates of the property location.                                |\n",
    "| Price                 | Rental price of the house.                                                                |\n",
    "| Currency              | Currency in which the price is denoted (e.g., INR - Indian Rupees).                       |\n",
    "| Number of Bathrooms   | Total number of bathrooms in the house.                                                   |\n",
    "| Number of Balconies   | Total number of balconies in the house.                                                   |\n",
    "| Negotiability         | Indicates whether the price is negotiable (Yes/No).                                       |\n",
    "| Price per Square Foot | Price of the house per square foot.                                                       |\n",
    "| Verification Date     | Date when the rental information was verified.                                            |\n",
    "| Description           | Additional description or details about the property.                                     |\n",
    "| Security Deposit      | Amount of security deposit required for renting the property.                             |\n",
    "| Status                | Indicates the furnishing status of the property (furnished, unfurnished, semi-furnished). |\n",
    "\n",
    "\n",
    "Source: https://www.kaggle.com/datasets/bhavyadhingra00020/india-rental-house-price\n",
    "\n"
   ]
  },
  {
   "cell_type": "code",
   "execution_count": 1,
   "id": "initial_id",
   "metadata": {},
   "outputs": [],
   "source": [
    "# Built-in imports\n",
    "import os\n",
    "import sys\n",
    "\n",
    "# Module imports\n",
    "import pandas as pd\n",
    "import plotly.express as px\n",
    "\n",
    "# Setup project environment\n",
    "\n",
    "PROJECT_DIR = os.path.dirname(os.getcwd())\n",
    "\n",
    "sys.path.append(PROJECT_DIR)\n",
    "\n",
    "# Project Imports\n",
    "\n",
    "from src.utils import WORKING_DIR, PROCESSED_DATA_DIR, get_raw_training_data_path"
   ]
  },
  {
   "cell_type": "code",
   "execution_count": 2,
   "id": "d3f5db06-beb2-4bee-b877-2110f5649728",
   "metadata": {},
   "outputs": [
    {
     "data": {
      "text/html": [
       "<div>\n",
       "<style scoped>\n",
       "    .dataframe tbody tr th:only-of-type {\n",
       "        vertical-align: middle;\n",
       "    }\n",
       "\n",
       "    .dataframe tbody tr th {\n",
       "        vertical-align: top;\n",
       "    }\n",
       "\n",
       "    .dataframe thead th {\n",
       "        text-align: right;\n",
       "    }\n",
       "</style>\n",
       "<table border=\"1\" class=\"dataframe\">\n",
       "  <thead>\n",
       "    <tr style=\"text-align: right;\">\n",
       "      <th></th>\n",
       "      <th>house_type</th>\n",
       "      <th>house_size</th>\n",
       "      <th>location</th>\n",
       "      <th>city</th>\n",
       "      <th>latitude</th>\n",
       "      <th>longitude</th>\n",
       "      <th>price</th>\n",
       "      <th>currency</th>\n",
       "      <th>numBathrooms</th>\n",
       "      <th>numBalconies</th>\n",
       "      <th>isNegotiable</th>\n",
       "      <th>priceSqFt</th>\n",
       "      <th>verificationDate</th>\n",
       "      <th>description</th>\n",
       "      <th>SecurityDeposit</th>\n",
       "      <th>Status</th>\n",
       "    </tr>\n",
       "  </thead>\n",
       "  <tbody>\n",
       "    <tr>\n",
       "      <th>0</th>\n",
       "      <td>2 BHK Apartment</td>\n",
       "      <td>1,180 sq ft</td>\n",
       "      <td>Ulwe</td>\n",
       "      <td>Mumbai</td>\n",
       "      <td>18.971046</td>\n",
       "      <td>73.017723</td>\n",
       "      <td>19000</td>\n",
       "      <td>INR</td>\n",
       "      <td>2.0</td>\n",
       "      <td>NaN</td>\n",
       "      <td>NaN</td>\n",
       "      <td>NaN</td>\n",
       "      <td>Posted 2 years ago</td>\n",
       "      <td>It has area of 1180 sqft and is available at a...</td>\n",
       "      <td>No Deposit</td>\n",
       "      <td>Furnished</td>\n",
       "    </tr>\n",
       "    <tr>\n",
       "      <th>1</th>\n",
       "      <td>2 BHK Apartment</td>\n",
       "      <td>1,120 sq ft</td>\n",
       "      <td>Ulwe</td>\n",
       "      <td>Mumbai</td>\n",
       "      <td>18.966377</td>\n",
       "      <td>73.012802</td>\n",
       "      <td>12500</td>\n",
       "      <td>INR</td>\n",
       "      <td>2.0</td>\n",
       "      <td>NaN</td>\n",
       "      <td>NaN</td>\n",
       "      <td>NaN</td>\n",
       "      <td>Posted 2 years ago</td>\n",
       "      <td>Well designed 2 bhk multistorey apartment is a...</td>\n",
       "      <td>No Deposit</td>\n",
       "      <td>Unfurnished</td>\n",
       "    </tr>\n",
       "    <tr>\n",
       "      <th>2</th>\n",
       "      <td>2 BHK Apartment</td>\n",
       "      <td>1,200 sq ft</td>\n",
       "      <td>Panvel</td>\n",
       "      <td>Mumbai</td>\n",
       "      <td>18.965979</td>\n",
       "      <td>73.124649</td>\n",
       "      <td>22000</td>\n",
       "      <td>INR</td>\n",
       "      <td>2.0</td>\n",
       "      <td>NaN</td>\n",
       "      <td>NaN</td>\n",
       "      <td>NaN</td>\n",
       "      <td>Posted a month ago</td>\n",
       "      <td>A spacious 2 bhk multistorey apartment is avai...</td>\n",
       "      <td>No Deposit</td>\n",
       "      <td>Unfurnished</td>\n",
       "    </tr>\n",
       "    <tr>\n",
       "      <th>3</th>\n",
       "      <td>2 BHK Apartment</td>\n",
       "      <td>750 sq ft</td>\n",
       "      <td>Kandivali West</td>\n",
       "      <td>Mumbai</td>\n",
       "      <td>19.213598</td>\n",
       "      <td>72.833633</td>\n",
       "      <td>28500</td>\n",
       "      <td>INR</td>\n",
       "      <td>2.0</td>\n",
       "      <td>NaN</td>\n",
       "      <td>NaN</td>\n",
       "      <td>NaN</td>\n",
       "      <td>Posted 3 years ago</td>\n",
       "      <td>It has a built-up area of 750 sqft and is avai...</td>\n",
       "      <td>No Deposit</td>\n",
       "      <td>Unfurnished</td>\n",
       "    </tr>\n",
       "    <tr>\n",
       "      <th>4</th>\n",
       "      <td>3 BHK Apartment</td>\n",
       "      <td>1,400 sq ft</td>\n",
       "      <td>Chembur</td>\n",
       "      <td>Mumbai</td>\n",
       "      <td>19.062933</td>\n",
       "      <td>72.892395</td>\n",
       "      <td>50000</td>\n",
       "      <td>INR</td>\n",
       "      <td>3.0</td>\n",
       "      <td>NaN</td>\n",
       "      <td>NaN</td>\n",
       "      <td>NaN</td>\n",
       "      <td>Posted 3 years ago</td>\n",
       "      <td>The house is semi-furnished. It has power back...</td>\n",
       "      <td>No Deposit</td>\n",
       "      <td>Semi-Furnished</td>\n",
       "    </tr>\n",
       "  </tbody>\n",
       "</table>\n",
       "</div>"
      ],
      "text/plain": [
       "         house_type   house_size        location    city   latitude  \\\n",
       "0  2 BHK Apartment   1,180 sq ft            Ulwe  Mumbai  18.971046   \n",
       "1  2 BHK Apartment   1,120 sq ft            Ulwe  Mumbai  18.966377   \n",
       "2  2 BHK Apartment   1,200 sq ft          Panvel  Mumbai  18.965979   \n",
       "3  2 BHK Apartment     750 sq ft  Kandivali West  Mumbai  19.213598   \n",
       "4  3 BHK Apartment   1,400 sq ft         Chembur  Mumbai  19.062933   \n",
       "\n",
       "   longitude  price currency  numBathrooms  numBalconies isNegotiable  \\\n",
       "0  73.017723  19000      INR           2.0           NaN          NaN   \n",
       "1  73.012802  12500      INR           2.0           NaN          NaN   \n",
       "2  73.124649  22000      INR           2.0           NaN          NaN   \n",
       "3  72.833633  28500      INR           2.0           NaN          NaN   \n",
       "4  72.892395  50000      INR           3.0           NaN          NaN   \n",
       "\n",
       "   priceSqFt    verificationDate  \\\n",
       "0        NaN  Posted 2 years ago   \n",
       "1        NaN  Posted 2 years ago   \n",
       "2        NaN  Posted a month ago   \n",
       "3        NaN  Posted 3 years ago   \n",
       "4        NaN  Posted 3 years ago   \n",
       "\n",
       "                                         description SecurityDeposit  \\\n",
       "0  It has area of 1180 sqft and is available at a...      No Deposit   \n",
       "1  Well designed 2 bhk multistorey apartment is a...      No Deposit   \n",
       "2  A spacious 2 bhk multistorey apartment is avai...      No Deposit   \n",
       "3  It has a built-up area of 750 sqft and is avai...      No Deposit   \n",
       "4  The house is semi-furnished. It has power back...      No Deposit   \n",
       "\n",
       "           Status  \n",
       "0       Furnished  \n",
       "1     Unfurnished  \n",
       "2     Unfurnished  \n",
       "3     Unfurnished  \n",
       "4  Semi-Furnished  "
      ]
     },
     "execution_count": 2,
     "metadata": {},
     "output_type": "execute_result"
    }
   ],
   "source": [
    "df = pd.read_csv(get_raw_training_data_path())\n",
    "df.head()"
   ]
  },
  {
   "cell_type": "code",
   "execution_count": 3,
   "id": "58b8283b-6173-491f-aafe-99a29a0fb7bd",
   "metadata": {},
   "outputs": [
    {
     "data": {
      "text/plain": [
       "Index(['house_type', 'house_size', 'location', 'city', 'latitude', 'longitude',\n",
       "       'price', 'currency', 'numBathrooms', 'numBalconies', 'isNegotiable',\n",
       "       'priceSqFt', 'verificationDate', 'description', 'SecurityDeposit',\n",
       "       'Status'],\n",
       "      dtype='object')"
      ]
     },
     "execution_count": 3,
     "metadata": {},
     "output_type": "execute_result"
    }
   ],
   "source": [
    "df.columns"
   ]
  },
  {
   "cell_type": "code",
   "execution_count": 4,
   "id": "8ea8eeee-c637-49ac-a12f-7090628e34a0",
   "metadata": {},
   "outputs": [
    {
     "name": "stdout",
     "output_type": "stream",
     "text": [
      "<class 'pandas.core.frame.DataFrame'>\n",
      "RangeIndex: 5000 entries, 0 to 4999\n",
      "Data columns (total 16 columns):\n",
      " #   Column            Non-Null Count  Dtype  \n",
      "---  ------            --------------  -----  \n",
      " 0   house_type        5000 non-null   object \n",
      " 1   house_size        5000 non-null   object \n",
      " 2   location          5000 non-null   object \n",
      " 3   city              5000 non-null   object \n",
      " 4   latitude          5000 non-null   float64\n",
      " 5   longitude         5000 non-null   float64\n",
      " 6   price             5000 non-null   int64  \n",
      " 7   currency          5000 non-null   object \n",
      " 8   numBathrooms      4986 non-null   float64\n",
      " 9   numBalconies      733 non-null    float64\n",
      " 10  isNegotiable      571 non-null    object \n",
      " 11  priceSqFt         0 non-null      float64\n",
      " 12  verificationDate  5000 non-null   object \n",
      " 13  description       4922 non-null   object \n",
      " 14  SecurityDeposit   5000 non-null   object \n",
      " 15  Status            5000 non-null   object \n",
      "dtypes: float64(5), int64(1), object(10)\n",
      "memory usage: 625.1+ KB\n"
     ]
    }
   ],
   "source": [
    "df.info()"
   ]
  },
  {
   "cell_type": "markdown",
   "id": "dcdfba45-5914-4400-a119-2071288170e6",
   "metadata": {},
   "source": [
    "#### OBSERVATION: \n",
    "\n",
    "As observed in above records, house_size can be formatted to `int` type for better parsing."
   ]
  },
  {
   "cell_type": "code",
   "execution_count": 5,
   "id": "5390351c-d1bb-446f-9e1c-7481a3fef7b9",
   "metadata": {},
   "outputs": [
    {
     "name": "stdout",
     "output_type": "stream",
     "text": [
      "<class 'pandas.core.frame.DataFrame'>\n",
      "RangeIndex: 5000 entries, 0 to 4999\n",
      "Data columns (total 16 columns):\n",
      " #   Column            Non-Null Count  Dtype  \n",
      "---  ------            --------------  -----  \n",
      " 0   house_type        5000 non-null   object \n",
      " 1   house_size        5000 non-null   int64  \n",
      " 2   location          5000 non-null   object \n",
      " 3   city              5000 non-null   object \n",
      " 4   latitude          5000 non-null   float64\n",
      " 5   longitude         5000 non-null   float64\n",
      " 6   price             5000 non-null   int64  \n",
      " 7   currency          5000 non-null   object \n",
      " 8   numBathrooms      4986 non-null   float64\n",
      " 9   numBalconies      733 non-null    float64\n",
      " 10  isNegotiable      571 non-null    object \n",
      " 11  priceSqFt         0 non-null      float64\n",
      " 12  verificationDate  5000 non-null   object \n",
      " 13  description       4922 non-null   object \n",
      " 14  SecurityDeposit   5000 non-null   object \n",
      " 15  Status            5000 non-null   object \n",
      "dtypes: float64(5), int64(2), object(9)\n",
      "memory usage: 625.1+ KB\n"
     ]
    }
   ],
   "source": [
    "df[\"house_size\"] = df[\"house_size\"].astype(\"str\").str.replace(\"[,| sq ft]+\", \"\", regex=True).astype('int')\n",
    "df.info()"
   ]
  },
  {
   "cell_type": "markdown",
   "id": "9380d5b7-3192-44a6-907f-ed320487bd64",
   "metadata": {},
   "source": [
    "### Keeping only most useful columns to process further"
   ]
  },
  {
   "cell_type": "code",
   "execution_count": 6,
   "id": "3a9f7de3-c0b4-4a2b-a72a-5ed98f61b80b",
   "metadata": {},
   "outputs": [
    {
     "data": {
      "text/html": [
       "<div>\n",
       "<style scoped>\n",
       "    .dataframe tbody tr th:only-of-type {\n",
       "        vertical-align: middle;\n",
       "    }\n",
       "\n",
       "    .dataframe tbody tr th {\n",
       "        vertical-align: top;\n",
       "    }\n",
       "\n",
       "    .dataframe thead th {\n",
       "        text-align: right;\n",
       "    }\n",
       "</style>\n",
       "<table border=\"1\" class=\"dataframe\">\n",
       "  <thead>\n",
       "    <tr style=\"text-align: right;\">\n",
       "      <th></th>\n",
       "      <th>house_type</th>\n",
       "      <th>house_size</th>\n",
       "      <th>location</th>\n",
       "      <th>price</th>\n",
       "      <th>numBalconies</th>\n",
       "      <th>numBathrooms</th>\n",
       "      <th>SecurityDeposit</th>\n",
       "      <th>Status</th>\n",
       "    </tr>\n",
       "  </thead>\n",
       "  <tbody>\n",
       "    <tr>\n",
       "      <th>0</th>\n",
       "      <td>2 BHK Apartment</td>\n",
       "      <td>1180</td>\n",
       "      <td>Ulwe</td>\n",
       "      <td>19000</td>\n",
       "      <td>NaN</td>\n",
       "      <td>2.0</td>\n",
       "      <td>No Deposit</td>\n",
       "      <td>Furnished</td>\n",
       "    </tr>\n",
       "    <tr>\n",
       "      <th>1</th>\n",
       "      <td>2 BHK Apartment</td>\n",
       "      <td>1120</td>\n",
       "      <td>Ulwe</td>\n",
       "      <td>12500</td>\n",
       "      <td>NaN</td>\n",
       "      <td>2.0</td>\n",
       "      <td>No Deposit</td>\n",
       "      <td>Unfurnished</td>\n",
       "    </tr>\n",
       "    <tr>\n",
       "      <th>2</th>\n",
       "      <td>2 BHK Apartment</td>\n",
       "      <td>1200</td>\n",
       "      <td>Panvel</td>\n",
       "      <td>22000</td>\n",
       "      <td>NaN</td>\n",
       "      <td>2.0</td>\n",
       "      <td>No Deposit</td>\n",
       "      <td>Unfurnished</td>\n",
       "    </tr>\n",
       "    <tr>\n",
       "      <th>3</th>\n",
       "      <td>2 BHK Apartment</td>\n",
       "      <td>750</td>\n",
       "      <td>Kandivali West</td>\n",
       "      <td>28500</td>\n",
       "      <td>NaN</td>\n",
       "      <td>2.0</td>\n",
       "      <td>No Deposit</td>\n",
       "      <td>Unfurnished</td>\n",
       "    </tr>\n",
       "    <tr>\n",
       "      <th>4</th>\n",
       "      <td>3 BHK Apartment</td>\n",
       "      <td>1400</td>\n",
       "      <td>Chembur</td>\n",
       "      <td>50000</td>\n",
       "      <td>NaN</td>\n",
       "      <td>3.0</td>\n",
       "      <td>No Deposit</td>\n",
       "      <td>Semi-Furnished</td>\n",
       "    </tr>\n",
       "  </tbody>\n",
       "</table>\n",
       "</div>"
      ],
      "text/plain": [
       "         house_type  house_size        location  price  numBalconies  \\\n",
       "0  2 BHK Apartment         1180            Ulwe  19000           NaN   \n",
       "1  2 BHK Apartment         1120            Ulwe  12500           NaN   \n",
       "2  2 BHK Apartment         1200          Panvel  22000           NaN   \n",
       "3  2 BHK Apartment          750  Kandivali West  28500           NaN   \n",
       "4  3 BHK Apartment         1400         Chembur  50000           NaN   \n",
       "\n",
       "   numBathrooms SecurityDeposit          Status  \n",
       "0           2.0      No Deposit       Furnished  \n",
       "1           2.0      No Deposit     Unfurnished  \n",
       "2           2.0      No Deposit     Unfurnished  \n",
       "3           2.0      No Deposit     Unfurnished  \n",
       "4           3.0      No Deposit  Semi-Furnished  "
      ]
     },
     "execution_count": 6,
     "metadata": {},
     "output_type": "execute_result"
    }
   ],
   "source": [
    "processed_df = df[['house_type', \"house_size\", \"location\", \"price\", \"numBalconies\", \"numBathrooms\", \"SecurityDeposit\", \"Status\"]]\n",
    "processed_df.head()"
   ]
  },
  {
   "cell_type": "code",
   "execution_count": 7,
   "id": "a39979a1-c6f6-49e9-88bb-de0d6427f371",
   "metadata": {},
   "outputs": [
    {
     "data": {
      "text/html": [
       "<div>\n",
       "<style scoped>\n",
       "    .dataframe tbody tr th:only-of-type {\n",
       "        vertical-align: middle;\n",
       "    }\n",
       "\n",
       "    .dataframe tbody tr th {\n",
       "        vertical-align: top;\n",
       "    }\n",
       "\n",
       "    .dataframe thead th {\n",
       "        text-align: right;\n",
       "    }\n",
       "</style>\n",
       "<table border=\"1\" class=\"dataframe\">\n",
       "  <thead>\n",
       "    <tr style=\"text-align: right;\">\n",
       "      <th></th>\n",
       "      <th>house_type</th>\n",
       "      <th>house_size</th>\n",
       "      <th>location</th>\n",
       "      <th>price</th>\n",
       "      <th>numBathrooms</th>\n",
       "      <th>description</th>\n",
       "    </tr>\n",
       "  </thead>\n",
       "  <tbody>\n",
       "    <tr>\n",
       "      <th>997</th>\n",
       "      <td>1 BHK Apartment</td>\n",
       "      <td>585</td>\n",
       "      <td>Boisar</td>\n",
       "      <td>5000</td>\n",
       "      <td>NaN</td>\n",
       "      <td>Itâs a 1 bhk multistorey apartment situated ...</td>\n",
       "    </tr>\n",
       "    <tr>\n",
       "      <th>1255</th>\n",
       "      <td>3 BHK Apartment</td>\n",
       "      <td>1380</td>\n",
       "      <td>Bhandup West</td>\n",
       "      <td>57000</td>\n",
       "      <td>NaN</td>\n",
       "      <td>A 3 bhk property is available for rental in Ma...</td>\n",
       "    </tr>\n",
       "    <tr>\n",
       "      <th>1675</th>\n",
       "      <td>2 BHK Apartment</td>\n",
       "      <td>980</td>\n",
       "      <td>Virar</td>\n",
       "      <td>11000</td>\n",
       "      <td>NaN</td>\n",
       "      <td>A 2 bhk property is available for rent in Vira...</td>\n",
       "    </tr>\n",
       "    <tr>\n",
       "      <th>1883</th>\n",
       "      <td>1 BHK Apartment</td>\n",
       "      <td>345</td>\n",
       "      <td>Andheri West</td>\n",
       "      <td>6000</td>\n",
       "      <td>NaN</td>\n",
       "      <td>Itâs a 1 bhk multistorey apartment situated ...</td>\n",
       "    </tr>\n",
       "    <tr>\n",
       "      <th>1901</th>\n",
       "      <td>1 BHK Apartment</td>\n",
       "      <td>1200</td>\n",
       "      <td>Kalyan West</td>\n",
       "      <td>17000</td>\n",
       "      <td>NaN</td>\n",
       "      <td>A 1 bhk property is available for rental in Ko...</td>\n",
       "    </tr>\n",
       "    <tr>\n",
       "      <th>2802</th>\n",
       "      <td>2 BHK Apartment</td>\n",
       "      <td>1010</td>\n",
       "      <td>Kharghar</td>\n",
       "      <td>26000</td>\n",
       "      <td>NaN</td>\n",
       "      <td>A 2 bhk property is available for rental in Sw...</td>\n",
       "    </tr>\n",
       "    <tr>\n",
       "      <th>3044</th>\n",
       "      <td>2 BHK Apartment</td>\n",
       "      <td>1200</td>\n",
       "      <td>Bandra West</td>\n",
       "      <td>110000</td>\n",
       "      <td>NaN</td>\n",
       "      <td>2 BHK FULLY FURNISHED FLAT ON RENT VERY GOOD C...</td>\n",
       "    </tr>\n",
       "    <tr>\n",
       "      <th>3548</th>\n",
       "      <td>3 BHK Apartment</td>\n",
       "      <td>1550</td>\n",
       "      <td>Lokhandwala</td>\n",
       "      <td>130000</td>\n",
       "      <td>NaN</td>\n",
       "      <td>Available 3 bhk flat at Andheri West\\nFamily a...</td>\n",
       "    </tr>\n",
       "    <tr>\n",
       "      <th>3559</th>\n",
       "      <td>3 BHK Apartment</td>\n",
       "      <td>1550</td>\n",
       "      <td>Lokhandwala</td>\n",
       "      <td>130000</td>\n",
       "      <td>NaN</td>\n",
       "      <td>Available 3 bhk flat at Andheri West\\nFamily a...</td>\n",
       "    </tr>\n",
       "    <tr>\n",
       "      <th>3709</th>\n",
       "      <td>1 BHK Apartment</td>\n",
       "      <td>610</td>\n",
       "      <td>Virar</td>\n",
       "      <td>6500</td>\n",
       "      <td>NaN</td>\n",
       "      <td>A spacious 1 bhk multistorey apartment is avai...</td>\n",
       "    </tr>\n",
       "    <tr>\n",
       "      <th>3828</th>\n",
       "      <td>1 RK Studio Apartment</td>\n",
       "      <td>400</td>\n",
       "      <td>Devidas Rd</td>\n",
       "      <td>17000</td>\n",
       "      <td>NaN</td>\n",
       "      <td>A studio property is available for rent in Dev...</td>\n",
       "    </tr>\n",
       "    <tr>\n",
       "      <th>4260</th>\n",
       "      <td>2 BHK Apartment</td>\n",
       "      <td>1100</td>\n",
       "      <td>Kurla West</td>\n",
       "      <td>48000</td>\n",
       "      <td>NaN</td>\n",
       "      <td>This spacious 2 bhk multistorey apartment is a...</td>\n",
       "    </tr>\n",
       "    <tr>\n",
       "      <th>4261</th>\n",
       "      <td>3 BHK Apartment</td>\n",
       "      <td>1515</td>\n",
       "      <td>Kurla</td>\n",
       "      <td>90000</td>\n",
       "      <td>NaN</td>\n",
       "      <td>A 3 bhk property is available for rental in Ko...</td>\n",
       "    </tr>\n",
       "    <tr>\n",
       "      <th>4741</th>\n",
       "      <td>1 BHK Apartment</td>\n",
       "      <td>450</td>\n",
       "      <td>Goregaon East</td>\n",
       "      <td>22000</td>\n",
       "      <td>NaN</td>\n",
       "      <td>Well designed 1 bhk multistorey apartment is a...</td>\n",
       "    </tr>\n",
       "  </tbody>\n",
       "</table>\n",
       "</div>"
      ],
      "text/plain": [
       "                  house_type  house_size       location   price  numBathrooms  \\\n",
       "997         1 BHK Apartment          585         Boisar    5000           NaN   \n",
       "1255        3 BHK Apartment         1380   Bhandup West   57000           NaN   \n",
       "1675        2 BHK Apartment          980          Virar   11000           NaN   \n",
       "1883        1 BHK Apartment          345   Andheri West    6000           NaN   \n",
       "1901        1 BHK Apartment         1200    Kalyan West   17000           NaN   \n",
       "2802        2 BHK Apartment         1010       Kharghar   26000           NaN   \n",
       "3044        2 BHK Apartment         1200    Bandra West  110000           NaN   \n",
       "3548        3 BHK Apartment         1550    Lokhandwala  130000           NaN   \n",
       "3559        3 BHK Apartment         1550    Lokhandwala  130000           NaN   \n",
       "3709        1 BHK Apartment          610          Virar    6500           NaN   \n",
       "3828  1 RK Studio Apartment          400     Devidas Rd   17000           NaN   \n",
       "4260        2 BHK Apartment         1100     Kurla West   48000           NaN   \n",
       "4261        3 BHK Apartment         1515          Kurla   90000           NaN   \n",
       "4741        1 BHK Apartment          450  Goregaon East   22000           NaN   \n",
       "\n",
       "                                            description  \n",
       "997   Itâs a 1 bhk multistorey apartment situated ...  \n",
       "1255  A 3 bhk property is available for rental in Ma...  \n",
       "1675  A 2 bhk property is available for rent in Vira...  \n",
       "1883  Itâs a 1 bhk multistorey apartment situated ...  \n",
       "1901  A 1 bhk property is available for rental in Ko...  \n",
       "2802  A 2 bhk property is available for rental in Sw...  \n",
       "3044  2 BHK FULLY FURNISHED FLAT ON RENT VERY GOOD C...  \n",
       "3548  Available 3 bhk flat at Andheri West\\nFamily a...  \n",
       "3559  Available 3 bhk flat at Andheri West\\nFamily a...  \n",
       "3709  A spacious 1 bhk multistorey apartment is avai...  \n",
       "3828  A studio property is available for rent in Dev...  \n",
       "4260  This spacious 2 bhk multistorey apartment is a...  \n",
       "4261  A 3 bhk property is available for rental in Ko...  \n",
       "4741  Well designed 1 bhk multistorey apartment is a...  "
      ]
     },
     "execution_count": 7,
     "metadata": {},
     "output_type": "execute_result"
    }
   ],
   "source": [
    "df[df[\"numBathrooms\"].isnull()][['house_type', 'house_size', 'location', 'price', 'numBathrooms', 'description']]"
   ]
  },
  {
   "cell_type": "markdown",
   "id": "bed0d15c-374c-481b-bebc-381ef4449a00",
   "metadata": {},
   "source": [
    "### Observation:\n",
    "\n",
    "As per records above, it's heavily unlikely that bathrooms are not available in these apartments and hence filling with N/A would'nt make sense."
   ]
  },
  {
   "cell_type": "code",
   "execution_count": 8,
   "id": "454412f9-8d15-43fe-998a-1435e64c1718",
   "metadata": {},
   "outputs": [
    {
     "name": "stdout",
     "output_type": "stream",
     "text": [
      "2 BHK Apartment \n",
      "3 BHK Apartment \n",
      "1 RK Studio Apartment \n",
      "1 BHK Apartment \n",
      "4 BHK Apartment \n",
      "1 BHK Independent Floor \n",
      "3 BHK Villa \n",
      "3 BHK Independent House \n",
      "4 BHK Independent House \n",
      "4 BHK Villa \n",
      "6 BHK Apartment \n",
      "2 BHK Independent House \n",
      "5 BHK Apartment \n",
      "1 BHK Villa \n",
      "4 BHK Independent Floor \n",
      "6 BHK Villa \n",
      "5 BHK Villa \n",
      "3 BHK Independent Floor \n",
      "2 BHK Independent Floor \n",
      "6 BHK penthouse \n",
      "1 BHK Independent House \n"
     ]
    }
   ],
   "source": [
    "print(*processed_df[\"house_type\"].unique(), sep=\"\\n\")"
   ]
  },
  {
   "cell_type": "markdown",
   "id": "29ca92a5-efed-44ea-ba7d-37bcea26b25a",
   "metadata": {},
   "source": [
    "### Data Transformation\n",
    "\n",
    "Split house type into meaningful values of columns for better analysis:\n",
    "\n",
    "1. Map house category to the Apartment/villa/studio\n",
    "2. Keep a new column to keep track of number of bedrooms"
   ]
  },
  {
   "cell_type": "code",
   "execution_count": 9,
   "id": "fbc2d3a9-1eae-44ad-b75f-7916c96bd1f8",
   "metadata": {},
   "outputs": [],
   "source": [
    "from collections import OrderedDict\n",
    "\n",
    "house_type_map = OrderedDict({\n",
    "    \"studio apartment\": \"studio\",\n",
    "    \"villa\": \"villa\", \n",
    "    \"apartment\": \"apartment\", \n",
    "    \"penthouse\": \"apartment\",\n",
    "    \"independent house\": \"villa\", \n",
    "    \"independent floor\": \"apartment\"\n",
    "})\n",
    "\n",
    "intermediate_records = []\n",
    "for record in processed_df[\"house_type\"]:\n",
    "    for house_type, category in house_type_map.items():\n",
    "        if house_type in record.lower():\n",
    "            intermediate_records.append(category)\n",
    "            break\n",
    "            "
   ]
  },
  {
   "cell_type": "code",
   "execution_count": 10,
   "id": "bcbb83cd-4fba-4bf9-8468-7040939987f3",
   "metadata": {},
   "outputs": [
    {
     "data": {
      "text/plain": [
       "5000"
      ]
     },
     "execution_count": 10,
     "metadata": {},
     "output_type": "execute_result"
    }
   ],
   "source": [
    "len(intermediate_records)"
   ]
  },
  {
   "cell_type": "code",
   "execution_count": 11,
   "id": "c2f2c3f5-9de9-4479-8060-009a19b5b822",
   "metadata": {},
   "outputs": [
    {
     "data": {
      "text/plain": [
       "5000"
      ]
     },
     "execution_count": 11,
     "metadata": {},
     "output_type": "execute_result"
    }
   ],
   "source": [
    "len(processed_df[\"house_type\"])"
   ]
  },
  {
   "cell_type": "code",
   "execution_count": 12,
   "id": "d781b259-8a51-450c-a5af-364f1ac5732e",
   "metadata": {},
   "outputs": [],
   "source": [
    "# validating replacement\n",
    "# print(*(i for i in zip(processed_df[\"house_type\"].to_list(), intermediate_records)), sep=\"\\n\")"
   ]
  },
  {
   "cell_type": "code",
   "execution_count": 13,
   "id": "afdc769e-420b-4377-bfe0-3a658d2522bd",
   "metadata": {},
   "outputs": [
    {
     "name": "stderr",
     "output_type": "stream",
     "text": [
      "C:\\Users\\gahan\\AppData\\Local\\Temp\\ipykernel_8420\\2314682587.py:1: SettingWithCopyWarning: \n",
      "A value is trying to be set on a copy of a slice from a DataFrame.\n",
      "Try using .loc[row_indexer,col_indexer] = value instead\n",
      "\n",
      "See the caveats in the documentation: https://pandas.pydata.org/pandas-docs/stable/user_guide/indexing.html#returning-a-view-versus-a-copy\n",
      "  processed_df['category'] = intermediate_records\n"
     ]
    },
    {
     "data": {
      "text/html": [
       "<div>\n",
       "<style scoped>\n",
       "    .dataframe tbody tr th:only-of-type {\n",
       "        vertical-align: middle;\n",
       "    }\n",
       "\n",
       "    .dataframe tbody tr th {\n",
       "        vertical-align: top;\n",
       "    }\n",
       "\n",
       "    .dataframe thead th {\n",
       "        text-align: right;\n",
       "    }\n",
       "</style>\n",
       "<table border=\"1\" class=\"dataframe\">\n",
       "  <thead>\n",
       "    <tr style=\"text-align: right;\">\n",
       "      <th></th>\n",
       "      <th>house_type</th>\n",
       "      <th>house_size</th>\n",
       "      <th>location</th>\n",
       "      <th>price</th>\n",
       "      <th>numBalconies</th>\n",
       "      <th>numBathrooms</th>\n",
       "      <th>SecurityDeposit</th>\n",
       "      <th>Status</th>\n",
       "      <th>category</th>\n",
       "    </tr>\n",
       "  </thead>\n",
       "  <tbody>\n",
       "    <tr>\n",
       "      <th>0</th>\n",
       "      <td>2 BHK Apartment</td>\n",
       "      <td>1180</td>\n",
       "      <td>Ulwe</td>\n",
       "      <td>19000</td>\n",
       "      <td>NaN</td>\n",
       "      <td>2.0</td>\n",
       "      <td>No Deposit</td>\n",
       "      <td>Furnished</td>\n",
       "      <td>apartment</td>\n",
       "    </tr>\n",
       "    <tr>\n",
       "      <th>1</th>\n",
       "      <td>2 BHK Apartment</td>\n",
       "      <td>1120</td>\n",
       "      <td>Ulwe</td>\n",
       "      <td>12500</td>\n",
       "      <td>NaN</td>\n",
       "      <td>2.0</td>\n",
       "      <td>No Deposit</td>\n",
       "      <td>Unfurnished</td>\n",
       "      <td>apartment</td>\n",
       "    </tr>\n",
       "    <tr>\n",
       "      <th>2</th>\n",
       "      <td>2 BHK Apartment</td>\n",
       "      <td>1200</td>\n",
       "      <td>Panvel</td>\n",
       "      <td>22000</td>\n",
       "      <td>NaN</td>\n",
       "      <td>2.0</td>\n",
       "      <td>No Deposit</td>\n",
       "      <td>Unfurnished</td>\n",
       "      <td>apartment</td>\n",
       "    </tr>\n",
       "    <tr>\n",
       "      <th>3</th>\n",
       "      <td>2 BHK Apartment</td>\n",
       "      <td>750</td>\n",
       "      <td>Kandivali West</td>\n",
       "      <td>28500</td>\n",
       "      <td>NaN</td>\n",
       "      <td>2.0</td>\n",
       "      <td>No Deposit</td>\n",
       "      <td>Unfurnished</td>\n",
       "      <td>apartment</td>\n",
       "    </tr>\n",
       "    <tr>\n",
       "      <th>4</th>\n",
       "      <td>3 BHK Apartment</td>\n",
       "      <td>1400</td>\n",
       "      <td>Chembur</td>\n",
       "      <td>50000</td>\n",
       "      <td>NaN</td>\n",
       "      <td>3.0</td>\n",
       "      <td>No Deposit</td>\n",
       "      <td>Semi-Furnished</td>\n",
       "      <td>apartment</td>\n",
       "    </tr>\n",
       "  </tbody>\n",
       "</table>\n",
       "</div>"
      ],
      "text/plain": [
       "         house_type  house_size        location  price  numBalconies  \\\n",
       "0  2 BHK Apartment         1180            Ulwe  19000           NaN   \n",
       "1  2 BHK Apartment         1120            Ulwe  12500           NaN   \n",
       "2  2 BHK Apartment         1200          Panvel  22000           NaN   \n",
       "3  2 BHK Apartment          750  Kandivali West  28500           NaN   \n",
       "4  3 BHK Apartment         1400         Chembur  50000           NaN   \n",
       "\n",
       "   numBathrooms SecurityDeposit          Status   category  \n",
       "0           2.0      No Deposit       Furnished  apartment  \n",
       "1           2.0      No Deposit     Unfurnished  apartment  \n",
       "2           2.0      No Deposit     Unfurnished  apartment  \n",
       "3           2.0      No Deposit     Unfurnished  apartment  \n",
       "4           3.0      No Deposit  Semi-Furnished  apartment  "
      ]
     },
     "execution_count": 13,
     "metadata": {},
     "output_type": "execute_result"
    }
   ],
   "source": [
    "processed_df['category'] = intermediate_records\n",
    "processed_df.head()"
   ]
  },
  {
   "cell_type": "code",
   "execution_count": 14,
   "id": "7b1864a4-6009-42eb-b0cb-6d565c127370",
   "metadata": {},
   "outputs": [],
   "source": [
    "# processed_df[processed_df[\"house_type\"]==\"1 RK Studio Apartment \"]"
   ]
  },
  {
   "cell_type": "code",
   "execution_count": 15,
   "id": "5e72057e-795e-40d3-9f73-286a5cb07d83",
   "metadata": {
    "scrolled": true
   },
   "outputs": [
    {
     "name": "stderr",
     "output_type": "stream",
     "text": [
      "C:\\Users\\gahan\\AppData\\Local\\Temp\\ipykernel_8420\\2318267807.py:1: SettingWithCopyWarning: \n",
      "A value is trying to be set on a copy of a slice from a DataFrame.\n",
      "Try using .loc[row_indexer,col_indexer] = value instead\n",
      "\n",
      "See the caveats in the documentation: https://pandas.pydata.org/pandas-docs/stable/user_guide/indexing.html#returning-a-view-versus-a-copy\n",
      "  processed_df[\"numBedrooms\"] = [int(record.split(\" \", 1)[0]) for record in processed_df[\"house_type\"]]\n"
     ]
    }
   ],
   "source": [
    "processed_df[\"numBedrooms\"] = [int(record.split(\" \", 1)[0]) for record in processed_df[\"house_type\"]]"
   ]
  },
  {
   "cell_type": "code",
   "execution_count": 16,
   "id": "b78326f9-d747-477b-86cb-18105253097b",
   "metadata": {},
   "outputs": [
    {
     "data": {
      "text/html": [
       "<div>\n",
       "<style scoped>\n",
       "    .dataframe tbody tr th:only-of-type {\n",
       "        vertical-align: middle;\n",
       "    }\n",
       "\n",
       "    .dataframe tbody tr th {\n",
       "        vertical-align: top;\n",
       "    }\n",
       "\n",
       "    .dataframe thead th {\n",
       "        text-align: right;\n",
       "    }\n",
       "</style>\n",
       "<table border=\"1\" class=\"dataframe\">\n",
       "  <thead>\n",
       "    <tr style=\"text-align: right;\">\n",
       "      <th></th>\n",
       "      <th>house_type</th>\n",
       "      <th>house_size</th>\n",
       "      <th>location</th>\n",
       "      <th>price</th>\n",
       "      <th>numBalconies</th>\n",
       "      <th>numBathrooms</th>\n",
       "      <th>SecurityDeposit</th>\n",
       "      <th>Status</th>\n",
       "      <th>category</th>\n",
       "      <th>numBedrooms</th>\n",
       "    </tr>\n",
       "  </thead>\n",
       "  <tbody>\n",
       "    <tr>\n",
       "      <th>5</th>\n",
       "      <td>1 RK Studio Apartment</td>\n",
       "      <td>450</td>\n",
       "      <td>Badlapur East</td>\n",
       "      <td>3000</td>\n",
       "      <td>NaN</td>\n",
       "      <td>1.0</td>\n",
       "      <td>No Deposit</td>\n",
       "      <td>Unfurnished</td>\n",
       "      <td>studio</td>\n",
       "      <td>1</td>\n",
       "    </tr>\n",
       "    <tr>\n",
       "      <th>6</th>\n",
       "      <td>1 BHK Apartment</td>\n",
       "      <td>700</td>\n",
       "      <td>Dombivali</td>\n",
       "      <td>9500</td>\n",
       "      <td>NaN</td>\n",
       "      <td>2.0</td>\n",
       "      <td>No Deposit</td>\n",
       "      <td>Unfurnished</td>\n",
       "      <td>apartment</td>\n",
       "      <td>1</td>\n",
       "    </tr>\n",
       "    <tr>\n",
       "      <th>7</th>\n",
       "      <td>1 BHK Apartment</td>\n",
       "      <td>600</td>\n",
       "      <td>Bandra West</td>\n",
       "      <td>55000</td>\n",
       "      <td>NaN</td>\n",
       "      <td>2.0</td>\n",
       "      <td>No Deposit</td>\n",
       "      <td>Furnished</td>\n",
       "      <td>apartment</td>\n",
       "      <td>1</td>\n",
       "    </tr>\n",
       "    <tr>\n",
       "      <th>8</th>\n",
       "      <td>1 BHK Apartment</td>\n",
       "      <td>600</td>\n",
       "      <td>Andheri East</td>\n",
       "      <td>50000</td>\n",
       "      <td>NaN</td>\n",
       "      <td>2.0</td>\n",
       "      <td>No Deposit</td>\n",
       "      <td>Furnished</td>\n",
       "      <td>apartment</td>\n",
       "      <td>1</td>\n",
       "    </tr>\n",
       "    <tr>\n",
       "      <th>11</th>\n",
       "      <td>1 BHK Apartment</td>\n",
       "      <td>750</td>\n",
       "      <td>Colaba</td>\n",
       "      <td>100000</td>\n",
       "      <td>NaN</td>\n",
       "      <td>2.0</td>\n",
       "      <td>No Deposit</td>\n",
       "      <td>Furnished</td>\n",
       "      <td>apartment</td>\n",
       "      <td>1</td>\n",
       "    </tr>\n",
       "    <tr>\n",
       "      <th>...</th>\n",
       "      <td>...</td>\n",
       "      <td>...</td>\n",
       "      <td>...</td>\n",
       "      <td>...</td>\n",
       "      <td>...</td>\n",
       "      <td>...</td>\n",
       "      <td>...</td>\n",
       "      <td>...</td>\n",
       "      <td>...</td>\n",
       "      <td>...</td>\n",
       "    </tr>\n",
       "    <tr>\n",
       "      <th>4988</th>\n",
       "      <td>1 BHK Apartment</td>\n",
       "      <td>474</td>\n",
       "      <td>Malad East</td>\n",
       "      <td>38000</td>\n",
       "      <td>NaN</td>\n",
       "      <td>2.0</td>\n",
       "      <td>1,00,000</td>\n",
       "      <td>Furnished</td>\n",
       "      <td>apartment</td>\n",
       "      <td>1</td>\n",
       "    </tr>\n",
       "    <tr>\n",
       "      <th>4989</th>\n",
       "      <td>1 BHK Apartment</td>\n",
       "      <td>474</td>\n",
       "      <td>Malad East</td>\n",
       "      <td>40000</td>\n",
       "      <td>NaN</td>\n",
       "      <td>2.0</td>\n",
       "      <td>1,00,000</td>\n",
       "      <td>Furnished</td>\n",
       "      <td>apartment</td>\n",
       "      <td>1</td>\n",
       "    </tr>\n",
       "    <tr>\n",
       "      <th>4990</th>\n",
       "      <td>1 BHK Apartment</td>\n",
       "      <td>553</td>\n",
       "      <td>Kandivali West</td>\n",
       "      <td>30000</td>\n",
       "      <td>NaN</td>\n",
       "      <td>2.0</td>\n",
       "      <td>1,00,000</td>\n",
       "      <td>Semi-Furnished</td>\n",
       "      <td>apartment</td>\n",
       "      <td>1</td>\n",
       "    </tr>\n",
       "    <tr>\n",
       "      <th>4992</th>\n",
       "      <td>1 BHK Apartment</td>\n",
       "      <td>650</td>\n",
       "      <td>Borivali East</td>\n",
       "      <td>32000</td>\n",
       "      <td>NaN</td>\n",
       "      <td>2.0</td>\n",
       "      <td>1,00,000</td>\n",
       "      <td>Unfurnished</td>\n",
       "      <td>apartment</td>\n",
       "      <td>1</td>\n",
       "    </tr>\n",
       "    <tr>\n",
       "      <th>4993</th>\n",
       "      <td>1 RK Studio Apartment</td>\n",
       "      <td>330</td>\n",
       "      <td>Borivali East</td>\n",
       "      <td>15000</td>\n",
       "      <td>1.0</td>\n",
       "      <td>1.0</td>\n",
       "      <td>1,00,000</td>\n",
       "      <td>Semi-Furnished</td>\n",
       "      <td>studio</td>\n",
       "      <td>1</td>\n",
       "    </tr>\n",
       "  </tbody>\n",
       "</table>\n",
       "<p>1762 rows × 10 columns</p>\n",
       "</div>"
      ],
      "text/plain": [
       "                  house_type  house_size        location   price  \\\n",
       "5     1 RK Studio Apartment          450   Badlapur East    3000   \n",
       "6           1 BHK Apartment          700       Dombivali    9500   \n",
       "7           1 BHK Apartment          600     Bandra West   55000   \n",
       "8           1 BHK Apartment          600    Andheri East   50000   \n",
       "11          1 BHK Apartment          750          Colaba  100000   \n",
       "...                      ...         ...             ...     ...   \n",
       "4988        1 BHK Apartment          474      Malad East   38000   \n",
       "4989        1 BHK Apartment          474      Malad East   40000   \n",
       "4990        1 BHK Apartment          553  Kandivali West   30000   \n",
       "4992        1 BHK Apartment          650   Borivali East   32000   \n",
       "4993  1 RK Studio Apartment          330   Borivali East   15000   \n",
       "\n",
       "      numBalconies  numBathrooms SecurityDeposit          Status   category  \\\n",
       "5              NaN           1.0      No Deposit     Unfurnished     studio   \n",
       "6              NaN           2.0      No Deposit     Unfurnished  apartment   \n",
       "7              NaN           2.0      No Deposit       Furnished  apartment   \n",
       "8              NaN           2.0      No Deposit       Furnished  apartment   \n",
       "11             NaN           2.0      No Deposit       Furnished  apartment   \n",
       "...            ...           ...             ...             ...        ...   \n",
       "4988           NaN           2.0        1,00,000       Furnished  apartment   \n",
       "4989           NaN           2.0        1,00,000       Furnished  apartment   \n",
       "4990           NaN           2.0        1,00,000  Semi-Furnished  apartment   \n",
       "4992           NaN           2.0        1,00,000     Unfurnished  apartment   \n",
       "4993           1.0           1.0        1,00,000  Semi-Furnished     studio   \n",
       "\n",
       "      numBedrooms  \n",
       "5               1  \n",
       "6               1  \n",
       "7               1  \n",
       "8               1  \n",
       "11              1  \n",
       "...           ...  \n",
       "4988            1  \n",
       "4989            1  \n",
       "4990            1  \n",
       "4992            1  \n",
       "4993            1  \n",
       "\n",
       "[1762 rows x 10 columns]"
      ]
     },
     "execution_count": 16,
     "metadata": {},
     "output_type": "execute_result"
    }
   ],
   "source": [
    "processed_df[processed_df[\"numBedrooms\"]==1]"
   ]
  },
  {
   "cell_type": "markdown",
   "id": "b259414a-9346-4135-9426-f1bc8c9730e8",
   "metadata": {},
   "source": [
    "### Map ratio of price per bedroom"
   ]
  },
  {
   "cell_type": "code",
   "execution_count": 17,
   "id": "48adf66e-b683-409d-a572-56f4f719c93d",
   "metadata": {},
   "outputs": [
    {
     "name": "stderr",
     "output_type": "stream",
     "text": [
      "C:\\Users\\gahan\\AppData\\Local\\Temp\\ipykernel_8420\\1233540222.py:1: SettingWithCopyWarning: \n",
      "A value is trying to be set on a copy of a slice from a DataFrame.\n",
      "Try using .loc[row_indexer,col_indexer] = value instead\n",
      "\n",
      "See the caveats in the documentation: https://pandas.pydata.org/pandas-docs/stable/user_guide/indexing.html#returning-a-view-versus-a-copy\n",
      "  processed_df.eval(\"ratio_per_room = price/numBedrooms\", inplace=True)\n"
     ]
    },
    {
     "data": {
      "text/html": [
       "<div>\n",
       "<style scoped>\n",
       "    .dataframe tbody tr th:only-of-type {\n",
       "        vertical-align: middle;\n",
       "    }\n",
       "\n",
       "    .dataframe tbody tr th {\n",
       "        vertical-align: top;\n",
       "    }\n",
       "\n",
       "    .dataframe thead th {\n",
       "        text-align: right;\n",
       "    }\n",
       "</style>\n",
       "<table border=\"1\" class=\"dataframe\">\n",
       "  <thead>\n",
       "    <tr style=\"text-align: right;\">\n",
       "      <th></th>\n",
       "      <th>house_type</th>\n",
       "      <th>house_size</th>\n",
       "      <th>location</th>\n",
       "      <th>price</th>\n",
       "      <th>numBalconies</th>\n",
       "      <th>numBathrooms</th>\n",
       "      <th>SecurityDeposit</th>\n",
       "      <th>Status</th>\n",
       "      <th>category</th>\n",
       "      <th>numBedrooms</th>\n",
       "      <th>ratio_per_room</th>\n",
       "    </tr>\n",
       "  </thead>\n",
       "  <tbody>\n",
       "    <tr>\n",
       "      <th>0</th>\n",
       "      <td>2 BHK Apartment</td>\n",
       "      <td>1180</td>\n",
       "      <td>Ulwe</td>\n",
       "      <td>19000</td>\n",
       "      <td>NaN</td>\n",
       "      <td>2.0</td>\n",
       "      <td>No Deposit</td>\n",
       "      <td>Furnished</td>\n",
       "      <td>apartment</td>\n",
       "      <td>2</td>\n",
       "      <td>9500.000000</td>\n",
       "    </tr>\n",
       "    <tr>\n",
       "      <th>1</th>\n",
       "      <td>2 BHK Apartment</td>\n",
       "      <td>1120</td>\n",
       "      <td>Ulwe</td>\n",
       "      <td>12500</td>\n",
       "      <td>NaN</td>\n",
       "      <td>2.0</td>\n",
       "      <td>No Deposit</td>\n",
       "      <td>Unfurnished</td>\n",
       "      <td>apartment</td>\n",
       "      <td>2</td>\n",
       "      <td>6250.000000</td>\n",
       "    </tr>\n",
       "    <tr>\n",
       "      <th>2</th>\n",
       "      <td>2 BHK Apartment</td>\n",
       "      <td>1200</td>\n",
       "      <td>Panvel</td>\n",
       "      <td>22000</td>\n",
       "      <td>NaN</td>\n",
       "      <td>2.0</td>\n",
       "      <td>No Deposit</td>\n",
       "      <td>Unfurnished</td>\n",
       "      <td>apartment</td>\n",
       "      <td>2</td>\n",
       "      <td>11000.000000</td>\n",
       "    </tr>\n",
       "    <tr>\n",
       "      <th>3</th>\n",
       "      <td>2 BHK Apartment</td>\n",
       "      <td>750</td>\n",
       "      <td>Kandivali West</td>\n",
       "      <td>28500</td>\n",
       "      <td>NaN</td>\n",
       "      <td>2.0</td>\n",
       "      <td>No Deposit</td>\n",
       "      <td>Unfurnished</td>\n",
       "      <td>apartment</td>\n",
       "      <td>2</td>\n",
       "      <td>14250.000000</td>\n",
       "    </tr>\n",
       "    <tr>\n",
       "      <th>4</th>\n",
       "      <td>3 BHK Apartment</td>\n",
       "      <td>1400</td>\n",
       "      <td>Chembur</td>\n",
       "      <td>50000</td>\n",
       "      <td>NaN</td>\n",
       "      <td>3.0</td>\n",
       "      <td>No Deposit</td>\n",
       "      <td>Semi-Furnished</td>\n",
       "      <td>apartment</td>\n",
       "      <td>3</td>\n",
       "      <td>16666.666667</td>\n",
       "    </tr>\n",
       "  </tbody>\n",
       "</table>\n",
       "</div>"
      ],
      "text/plain": [
       "         house_type  house_size        location  price  numBalconies  \\\n",
       "0  2 BHK Apartment         1180            Ulwe  19000           NaN   \n",
       "1  2 BHK Apartment         1120            Ulwe  12500           NaN   \n",
       "2  2 BHK Apartment         1200          Panvel  22000           NaN   \n",
       "3  2 BHK Apartment          750  Kandivali West  28500           NaN   \n",
       "4  3 BHK Apartment         1400         Chembur  50000           NaN   \n",
       "\n",
       "   numBathrooms SecurityDeposit          Status   category  numBedrooms  \\\n",
       "0           2.0      No Deposit       Furnished  apartment            2   \n",
       "1           2.0      No Deposit     Unfurnished  apartment            2   \n",
       "2           2.0      No Deposit     Unfurnished  apartment            2   \n",
       "3           2.0      No Deposit     Unfurnished  apartment            2   \n",
       "4           3.0      No Deposit  Semi-Furnished  apartment            3   \n",
       "\n",
       "   ratio_per_room  \n",
       "0     9500.000000  \n",
       "1     6250.000000  \n",
       "2    11000.000000  \n",
       "3    14250.000000  \n",
       "4    16666.666667  "
      ]
     },
     "execution_count": 17,
     "metadata": {},
     "output_type": "execute_result"
    }
   ],
   "source": [
    "processed_df.eval(\"ratio_per_room = price/numBedrooms\", inplace=True)\n",
    "processed_df.head()"
   ]
  },
  {
   "cell_type": "markdown",
   "id": "ee390f26-52cf-4d68-95d9-6c25ac4ab6fa",
   "metadata": {},
   "source": [
    "### Map price per sq feet"
   ]
  },
  {
   "cell_type": "code",
   "execution_count": 18,
   "id": "05b463ad-27ef-4a8c-969f-e3c8bfae6c10",
   "metadata": {},
   "outputs": [
    {
     "name": "stderr",
     "output_type": "stream",
     "text": [
      "C:\\Users\\gahan\\AppData\\Local\\Temp\\ipykernel_8420\\2556400597.py:1: SettingWithCopyWarning: \n",
      "A value is trying to be set on a copy of a slice from a DataFrame.\n",
      "Try using .loc[row_indexer,col_indexer] = value instead\n",
      "\n",
      "See the caveats in the documentation: https://pandas.pydata.org/pandas-docs/stable/user_guide/indexing.html#returning-a-view-versus-a-copy\n",
      "  processed_df.eval(\"PricePerSqft = price/house_size\", inplace=True)\n"
     ]
    },
    {
     "data": {
      "text/html": [
       "<div>\n",
       "<style scoped>\n",
       "    .dataframe tbody tr th:only-of-type {\n",
       "        vertical-align: middle;\n",
       "    }\n",
       "\n",
       "    .dataframe tbody tr th {\n",
       "        vertical-align: top;\n",
       "    }\n",
       "\n",
       "    .dataframe thead th {\n",
       "        text-align: right;\n",
       "    }\n",
       "</style>\n",
       "<table border=\"1\" class=\"dataframe\">\n",
       "  <thead>\n",
       "    <tr style=\"text-align: right;\">\n",
       "      <th></th>\n",
       "      <th>house_type</th>\n",
       "      <th>house_size</th>\n",
       "      <th>location</th>\n",
       "      <th>price</th>\n",
       "      <th>numBalconies</th>\n",
       "      <th>numBathrooms</th>\n",
       "      <th>SecurityDeposit</th>\n",
       "      <th>Status</th>\n",
       "      <th>category</th>\n",
       "      <th>numBedrooms</th>\n",
       "      <th>ratio_per_room</th>\n",
       "      <th>PricePerSqft</th>\n",
       "    </tr>\n",
       "  </thead>\n",
       "  <tbody>\n",
       "    <tr>\n",
       "      <th>0</th>\n",
       "      <td>2 BHK Apartment</td>\n",
       "      <td>1180</td>\n",
       "      <td>Ulwe</td>\n",
       "      <td>19000</td>\n",
       "      <td>NaN</td>\n",
       "      <td>2.0</td>\n",
       "      <td>No Deposit</td>\n",
       "      <td>Furnished</td>\n",
       "      <td>apartment</td>\n",
       "      <td>2</td>\n",
       "      <td>9500.000000</td>\n",
       "      <td>16.101695</td>\n",
       "    </tr>\n",
       "    <tr>\n",
       "      <th>1</th>\n",
       "      <td>2 BHK Apartment</td>\n",
       "      <td>1120</td>\n",
       "      <td>Ulwe</td>\n",
       "      <td>12500</td>\n",
       "      <td>NaN</td>\n",
       "      <td>2.0</td>\n",
       "      <td>No Deposit</td>\n",
       "      <td>Unfurnished</td>\n",
       "      <td>apartment</td>\n",
       "      <td>2</td>\n",
       "      <td>6250.000000</td>\n",
       "      <td>11.160714</td>\n",
       "    </tr>\n",
       "    <tr>\n",
       "      <th>2</th>\n",
       "      <td>2 BHK Apartment</td>\n",
       "      <td>1200</td>\n",
       "      <td>Panvel</td>\n",
       "      <td>22000</td>\n",
       "      <td>NaN</td>\n",
       "      <td>2.0</td>\n",
       "      <td>No Deposit</td>\n",
       "      <td>Unfurnished</td>\n",
       "      <td>apartment</td>\n",
       "      <td>2</td>\n",
       "      <td>11000.000000</td>\n",
       "      <td>18.333333</td>\n",
       "    </tr>\n",
       "    <tr>\n",
       "      <th>3</th>\n",
       "      <td>2 BHK Apartment</td>\n",
       "      <td>750</td>\n",
       "      <td>Kandivali West</td>\n",
       "      <td>28500</td>\n",
       "      <td>NaN</td>\n",
       "      <td>2.0</td>\n",
       "      <td>No Deposit</td>\n",
       "      <td>Unfurnished</td>\n",
       "      <td>apartment</td>\n",
       "      <td>2</td>\n",
       "      <td>14250.000000</td>\n",
       "      <td>38.000000</td>\n",
       "    </tr>\n",
       "    <tr>\n",
       "      <th>4</th>\n",
       "      <td>3 BHK Apartment</td>\n",
       "      <td>1400</td>\n",
       "      <td>Chembur</td>\n",
       "      <td>50000</td>\n",
       "      <td>NaN</td>\n",
       "      <td>3.0</td>\n",
       "      <td>No Deposit</td>\n",
       "      <td>Semi-Furnished</td>\n",
       "      <td>apartment</td>\n",
       "      <td>3</td>\n",
       "      <td>16666.666667</td>\n",
       "      <td>35.714286</td>\n",
       "    </tr>\n",
       "  </tbody>\n",
       "</table>\n",
       "</div>"
      ],
      "text/plain": [
       "         house_type  house_size        location  price  numBalconies  \\\n",
       "0  2 BHK Apartment         1180            Ulwe  19000           NaN   \n",
       "1  2 BHK Apartment         1120            Ulwe  12500           NaN   \n",
       "2  2 BHK Apartment         1200          Panvel  22000           NaN   \n",
       "3  2 BHK Apartment          750  Kandivali West  28500           NaN   \n",
       "4  3 BHK Apartment         1400         Chembur  50000           NaN   \n",
       "\n",
       "   numBathrooms SecurityDeposit          Status   category  numBedrooms  \\\n",
       "0           2.0      No Deposit       Furnished  apartment            2   \n",
       "1           2.0      No Deposit     Unfurnished  apartment            2   \n",
       "2           2.0      No Deposit     Unfurnished  apartment            2   \n",
       "3           2.0      No Deposit     Unfurnished  apartment            2   \n",
       "4           3.0      No Deposit  Semi-Furnished  apartment            3   \n",
       "\n",
       "   ratio_per_room  PricePerSqft  \n",
       "0     9500.000000     16.101695  \n",
       "1     6250.000000     11.160714  \n",
       "2    11000.000000     18.333333  \n",
       "3    14250.000000     38.000000  \n",
       "4    16666.666667     35.714286  "
      ]
     },
     "execution_count": 18,
     "metadata": {},
     "output_type": "execute_result"
    }
   ],
   "source": [
    "processed_df.eval(\"PricePerSqft = price/house_size\", inplace=True)\n",
    "processed_df.head()"
   ]
  },
  {
   "cell_type": "code",
   "execution_count": 19,
   "id": "52ed0427-5f29-49fd-895b-3b367687c307",
   "metadata": {},
   "outputs": [
    {
     "data": {
      "text/html": [
       "<div>\n",
       "<style scoped>\n",
       "    .dataframe tbody tr th:only-of-type {\n",
       "        vertical-align: middle;\n",
       "    }\n",
       "\n",
       "    .dataframe tbody tr th {\n",
       "        vertical-align: top;\n",
       "    }\n",
       "\n",
       "    .dataframe thead th {\n",
       "        text-align: right;\n",
       "    }\n",
       "</style>\n",
       "<table border=\"1\" class=\"dataframe\">\n",
       "  <thead>\n",
       "    <tr style=\"text-align: right;\">\n",
       "      <th></th>\n",
       "      <th>house_size</th>\n",
       "      <th>price</th>\n",
       "      <th>numBalconies</th>\n",
       "      <th>numBathrooms</th>\n",
       "      <th>numBedrooms</th>\n",
       "      <th>ratio_per_room</th>\n",
       "      <th>PricePerSqft</th>\n",
       "    </tr>\n",
       "  </thead>\n",
       "  <tbody>\n",
       "    <tr>\n",
       "      <th>count</th>\n",
       "      <td>5000.000000</td>\n",
       "      <td>5.000000e+03</td>\n",
       "      <td>733.000000</td>\n",
       "      <td>4986.000000</td>\n",
       "      <td>5000.000000</td>\n",
       "      <td>5000.000000</td>\n",
       "      <td>5000.000000</td>\n",
       "    </tr>\n",
       "    <tr>\n",
       "      <th>mean</th>\n",
       "      <td>1003.445200</td>\n",
       "      <td>6.239421e+04</td>\n",
       "      <td>2.064120</td>\n",
       "      <td>2.033895</td>\n",
       "      <td>1.906600</td>\n",
       "      <td>29303.198533</td>\n",
       "      <td>55.816196</td>\n",
       "    </tr>\n",
       "    <tr>\n",
       "      <th>std</th>\n",
       "      <td>592.373077</td>\n",
       "      <td>8.874473e+04</td>\n",
       "      <td>1.095187</td>\n",
       "      <td>0.800861</td>\n",
       "      <td>0.843338</td>\n",
       "      <td>24514.420003</td>\n",
       "      <td>39.796973</td>\n",
       "    </tr>\n",
       "    <tr>\n",
       "      <th>min</th>\n",
       "      <td>150.000000</td>\n",
       "      <td>2.800000e+03</td>\n",
       "      <td>1.000000</td>\n",
       "      <td>1.000000</td>\n",
       "      <td>1.000000</td>\n",
       "      <td>2666.666667</td>\n",
       "      <td>6.363636</td>\n",
       "    </tr>\n",
       "    <tr>\n",
       "      <th>25%</th>\n",
       "      <td>650.000000</td>\n",
       "      <td>2.100000e+04</td>\n",
       "      <td>1.000000</td>\n",
       "      <td>2.000000</td>\n",
       "      <td>1.000000</td>\n",
       "      <td>14000.000000</td>\n",
       "      <td>26.452840</td>\n",
       "    </tr>\n",
       "    <tr>\n",
       "      <th>50%</th>\n",
       "      <td>900.000000</td>\n",
       "      <td>4.000000e+04</td>\n",
       "      <td>2.000000</td>\n",
       "      <td>2.000000</td>\n",
       "      <td>2.000000</td>\n",
       "      <td>23000.000000</td>\n",
       "      <td>47.649730</td>\n",
       "    </tr>\n",
       "    <tr>\n",
       "      <th>75%</th>\n",
       "      <td>1200.000000</td>\n",
       "      <td>7.000000e+04</td>\n",
       "      <td>3.000000</td>\n",
       "      <td>2.000000</td>\n",
       "      <td>2.000000</td>\n",
       "      <td>35000.000000</td>\n",
       "      <td>71.428571</td>\n",
       "    </tr>\n",
       "    <tr>\n",
       "      <th>max</th>\n",
       "      <td>8326.000000</td>\n",
       "      <td>1.200000e+06</td>\n",
       "      <td>6.000000</td>\n",
       "      <td>7.000000</td>\n",
       "      <td>6.000000</td>\n",
       "      <td>300000.000000</td>\n",
       "      <td>380.000000</td>\n",
       "    </tr>\n",
       "  </tbody>\n",
       "</table>\n",
       "</div>"
      ],
      "text/plain": [
       "        house_size         price  numBalconies  numBathrooms  numBedrooms  \\\n",
       "count  5000.000000  5.000000e+03    733.000000   4986.000000  5000.000000   \n",
       "mean   1003.445200  6.239421e+04      2.064120      2.033895     1.906600   \n",
       "std     592.373077  8.874473e+04      1.095187      0.800861     0.843338   \n",
       "min     150.000000  2.800000e+03      1.000000      1.000000     1.000000   \n",
       "25%     650.000000  2.100000e+04      1.000000      2.000000     1.000000   \n",
       "50%     900.000000  4.000000e+04      2.000000      2.000000     2.000000   \n",
       "75%    1200.000000  7.000000e+04      3.000000      2.000000     2.000000   \n",
       "max    8326.000000  1.200000e+06      6.000000      7.000000     6.000000   \n",
       "\n",
       "       ratio_per_room  PricePerSqft  \n",
       "count     5000.000000   5000.000000  \n",
       "mean     29303.198533     55.816196  \n",
       "std      24514.420003     39.796973  \n",
       "min       2666.666667      6.363636  \n",
       "25%      14000.000000     26.452840  \n",
       "50%      23000.000000     47.649730  \n",
       "75%      35000.000000     71.428571  \n",
       "max     300000.000000    380.000000  "
      ]
     },
     "execution_count": 19,
     "metadata": {},
     "output_type": "execute_result"
    }
   ],
   "source": [
    "processed_df.describe()"
   ]
  },
  {
   "cell_type": "markdown",
   "id": "d6c7510a-2230-4059-9d56-45ec0788f029",
   "metadata": {},
   "source": [
    "### Create function for repeatative box plot for dashboard analysis, and move to the utilities"
   ]
  },
  {
   "cell_type": "code",
   "execution_count": 20,
   "id": "b6835194-06df-45a7-beb8-93e11f253715",
   "metadata": {},
   "outputs": [],
   "source": [
    "# def get_box_plot(input_df, plot_parameter=\"price\", **filter_kwargs):\n",
    "#     for key, value in filter_kwargs.items():\n",
    "#         if key in input_df.columns:\n",
    "#             input_df = input_df[input_df[key] == value]\n",
    "#     fig = px.box(input_df, y=plot_parameter)\n",
    "#     return fig\n",
    "\n",
    "from src.utils import get_box_plot"
   ]
  },
  {
   "cell_type": "code",
   "execution_count": 39,
   "id": "2e575ab2-73dd-4c70-9f50-de221af97eaa",
   "metadata": {},
   "outputs": [
    {
     "data": {
      "application/vnd.plotly.v1+json": {
       "config": {
        "plotlyServerURL": "https://plot.ly"
       },
       "data": [
        {
         "alignmentgroup": "True",
         "hovertemplate": "price=%{y}<extra></extra>",
         "legendgroup": "",
         "marker": {
          "color": "#636efa"
         },
         "name": "",
         "notched": false,
         "offsetgroup": "",
         "orientation": "v",
         "showlegend": false,
         "type": "box",
         "x0": " ",
         "xaxis": "x",
         "y": {
          "bdata": "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",
          "dtype": "i4"
         },
         "y0": " ",
         "yaxis": "y"
        }
       ],
       "layout": {
        "boxmode": "group",
        "legend": {
         "tracegroupgap": 0
        },
        "margin": {
         "t": 60
        },
        "template": {
         "data": {
          "bar": [
           {
            "error_x": {
             "color": "#2a3f5f"
            },
            "error_y": {
             "color": "#2a3f5f"
            },
            "marker": {
             "line": {
              "color": "#E5ECF6",
              "width": 0.5
             },
             "pattern": {
              "fillmode": "overlay",
              "size": 10,
              "solidity": 0.2
             }
            },
            "type": "bar"
           }
          ],
          "barpolar": [
           {
            "marker": {
             "line": {
              "color": "#E5ECF6",
              "width": 0.5
             },
             "pattern": {
              "fillmode": "overlay",
              "size": 10,
              "solidity": 0.2
             }
            },
            "type": "barpolar"
           }
          ],
          "carpet": [
           {
            "aaxis": {
             "endlinecolor": "#2a3f5f",
             "gridcolor": "white",
             "linecolor": "white",
             "minorgridcolor": "white",
             "startlinecolor": "#2a3f5f"
            },
            "baxis": {
             "endlinecolor": "#2a3f5f",
             "gridcolor": "white",
             "linecolor": "white",
             "minorgridcolor": "white",
             "startlinecolor": "#2a3f5f"
            },
            "type": "carpet"
           }
          ],
          "choropleth": [
           {
            "colorbar": {
             "outlinewidth": 0,
             "ticks": ""
            },
            "type": "choropleth"
           }
          ],
          "contour": [
           {
            "colorbar": {
             "outlinewidth": 0,
             "ticks": ""
            },
            "colorscale": [
             [
              0,
              "#0d0887"
             ],
             [
              0.1111111111111111,
              "#46039f"
             ],
             [
              0.2222222222222222,
              "#7201a8"
             ],
             [
              0.3333333333333333,
              "#9c179e"
             ],
             [
              0.4444444444444444,
              "#bd3786"
             ],
             [
              0.5555555555555556,
              "#d8576b"
             ],
             [
              0.6666666666666666,
              "#ed7953"
             ],
             [
              0.7777777777777778,
              "#fb9f3a"
             ],
             [
              0.8888888888888888,
              "#fdca26"
             ],
             [
              1,
              "#f0f921"
             ]
            ],
            "type": "contour"
           }
          ],
          "contourcarpet": [
           {
            "colorbar": {
             "outlinewidth": 0,
             "ticks": ""
            },
            "type": "contourcarpet"
           }
          ],
          "heatmap": [
           {
            "colorbar": {
             "outlinewidth": 0,
             "ticks": ""
            },
            "colorscale": [
             [
              0,
              "#0d0887"
             ],
             [
              0.1111111111111111,
              "#46039f"
             ],
             [
              0.2222222222222222,
              "#7201a8"
             ],
             [
              0.3333333333333333,
              "#9c179e"
             ],
             [
              0.4444444444444444,
              "#bd3786"
             ],
             [
              0.5555555555555556,
              "#d8576b"
             ],
             [
              0.6666666666666666,
              "#ed7953"
             ],
             [
              0.7777777777777778,
              "#fb9f3a"
             ],
             [
              0.8888888888888888,
              "#fdca26"
             ],
             [
              1,
              "#f0f921"
             ]
            ],
            "type": "heatmap"
           }
          ],
          "histogram": [
           {
            "marker": {
             "pattern": {
              "fillmode": "overlay",
              "size": 10,
              "solidity": 0.2
             }
            },
            "type": "histogram"
           }
          ],
          "histogram2d": [
           {
            "colorbar": {
             "outlinewidth": 0,
             "ticks": ""
            },
            "colorscale": [
             [
              0,
              "#0d0887"
             ],
             [
              0.1111111111111111,
              "#46039f"
             ],
             [
              0.2222222222222222,
              "#7201a8"
             ],
             [
              0.3333333333333333,
              "#9c179e"
             ],
             [
              0.4444444444444444,
              "#bd3786"
             ],
             [
              0.5555555555555556,
              "#d8576b"
             ],
             [
              0.6666666666666666,
              "#ed7953"
             ],
             [
              0.7777777777777778,
              "#fb9f3a"
             ],
             [
              0.8888888888888888,
              "#fdca26"
             ],
             [
              1,
              "#f0f921"
             ]
            ],
            "type": "histogram2d"
           }
          ],
          "histogram2dcontour": [
           {
            "colorbar": {
             "outlinewidth": 0,
             "ticks": ""
            },
            "colorscale": [
             [
              0,
              "#0d0887"
             ],
             [
              0.1111111111111111,
              "#46039f"
             ],
             [
              0.2222222222222222,
              "#7201a8"
             ],
             [
              0.3333333333333333,
              "#9c179e"
             ],
             [
              0.4444444444444444,
              "#bd3786"
             ],
             [
              0.5555555555555556,
              "#d8576b"
             ],
             [
              0.6666666666666666,
              "#ed7953"
             ],
             [
              0.7777777777777778,
              "#fb9f3a"
             ],
             [
              0.8888888888888888,
              "#fdca26"
             ],
             [
              1,
              "#f0f921"
             ]
            ],
            "type": "histogram2dcontour"
           }
          ],
          "mesh3d": [
           {
            "colorbar": {
             "outlinewidth": 0,
             "ticks": ""
            },
            "type": "mesh3d"
           }
          ],
          "parcoords": [
           {
            "line": {
             "colorbar": {
              "outlinewidth": 0,
              "ticks": ""
             }
            },
            "type": "parcoords"
           }
          ],
          "pie": [
           {
            "automargin": true,
            "type": "pie"
           }
          ],
          "scatter": [
           {
            "fillpattern": {
             "fillmode": "overlay",
             "size": 10,
             "solidity": 0.2
            },
            "type": "scatter"
           }
          ],
          "scatter3d": [
           {
            "line": {
             "colorbar": {
              "outlinewidth": 0,
              "ticks": ""
             }
            },
            "marker": {
             "colorbar": {
              "outlinewidth": 0,
              "ticks": ""
             }
            },
            "type": "scatter3d"
           }
          ],
          "scattercarpet": [
           {
            "marker": {
             "colorbar": {
              "outlinewidth": 0,
              "ticks": ""
             }
            },
            "type": "scattercarpet"
           }
          ],
          "scattergeo": [
           {
            "marker": {
             "colorbar": {
              "outlinewidth": 0,
              "ticks": ""
             }
            },
            "type": "scattergeo"
           }
          ],
          "scattergl": [
           {
            "marker": {
             "colorbar": {
              "outlinewidth": 0,
              "ticks": ""
             }
            },
            "type": "scattergl"
           }
          ],
          "scattermap": [
           {
            "marker": {
             "colorbar": {
              "outlinewidth": 0,
              "ticks": ""
             }
            },
            "type": "scattermap"
           }
          ],
          "scattermapbox": [
           {
            "marker": {
             "colorbar": {
              "outlinewidth": 0,
              "ticks": ""
             }
            },
            "type": "scattermapbox"
           }
          ],
          "scatterpolar": [
           {
            "marker": {
             "colorbar": {
              "outlinewidth": 0,
              "ticks": ""
             }
            },
            "type": "scatterpolar"
           }
          ],
          "scatterpolargl": [
           {
            "marker": {
             "colorbar": {
              "outlinewidth": 0,
              "ticks": ""
             }
            },
            "type": "scatterpolargl"
           }
          ],
          "scatterternary": [
           {
            "marker": {
             "colorbar": {
              "outlinewidth": 0,
              "ticks": ""
             }
            },
            "type": "scatterternary"
           }
          ],
          "surface": [
           {
            "colorbar": {
             "outlinewidth": 0,
             "ticks": ""
            },
            "colorscale": [
             [
              0,
              "#0d0887"
             ],
             [
              0.1111111111111111,
              "#46039f"
             ],
             [
              0.2222222222222222,
              "#7201a8"
             ],
             [
              0.3333333333333333,
              "#9c179e"
             ],
             [
              0.4444444444444444,
              "#bd3786"
             ],
             [
              0.5555555555555556,
              "#d8576b"
             ],
             [
              0.6666666666666666,
              "#ed7953"
             ],
             [
              0.7777777777777778,
              "#fb9f3a"
             ],
             [
              0.8888888888888888,
              "#fdca26"
             ],
             [
              1,
              "#f0f921"
             ]
            ],
            "type": "surface"
           }
          ],
          "table": [
           {
            "cells": {
             "fill": {
              "color": "#EBF0F8"
             },
             "line": {
              "color": "white"
             }
            },
            "header": {
             "fill": {
              "color": "#C8D4E3"
             },
             "line": {
              "color": "white"
             }
            },
            "type": "table"
           }
          ]
         },
         "layout": {
          "annotationdefaults": {
           "arrowcolor": "#2a3f5f",
           "arrowhead": 0,
           "arrowwidth": 1
          },
          "autotypenumbers": "strict",
          "coloraxis": {
           "colorbar": {
            "outlinewidth": 0,
            "ticks": ""
           }
          },
          "colorscale": {
           "diverging": [
            [
             0,
             "#8e0152"
            ],
            [
             0.1,
             "#c51b7d"
            ],
            [
             0.2,
             "#de77ae"
            ],
            [
             0.3,
             "#f1b6da"
            ],
            [
             0.4,
             "#fde0ef"
            ],
            [
             0.5,
             "#f7f7f7"
            ],
            [
             0.6,
             "#e6f5d0"
            ],
            [
             0.7,
             "#b8e186"
            ],
            [
             0.8,
             "#7fbc41"
            ],
            [
             0.9,
             "#4d9221"
            ],
            [
             1,
             "#276419"
            ]
           ],
           "sequential": [
            [
             0,
             "#0d0887"
            ],
            [
             0.1111111111111111,
             "#46039f"
            ],
            [
             0.2222222222222222,
             "#7201a8"
            ],
            [
             0.3333333333333333,
             "#9c179e"
            ],
            [
             0.4444444444444444,
             "#bd3786"
            ],
            [
             0.5555555555555556,
             "#d8576b"
            ],
            [
             0.6666666666666666,
             "#ed7953"
            ],
            [
             0.7777777777777778,
             "#fb9f3a"
            ],
            [
             0.8888888888888888,
             "#fdca26"
            ],
            [
             1,
             "#f0f921"
            ]
           ],
           "sequentialminus": [
            [
             0,
             "#0d0887"
            ],
            [
             0.1111111111111111,
             "#46039f"
            ],
            [
             0.2222222222222222,
             "#7201a8"
            ],
            [
             0.3333333333333333,
             "#9c179e"
            ],
            [
             0.4444444444444444,
             "#bd3786"
            ],
            [
             0.5555555555555556,
             "#d8576b"
            ],
            [
             0.6666666666666666,
             "#ed7953"
            ],
            [
             0.7777777777777778,
             "#fb9f3a"
            ],
            [
             0.8888888888888888,
             "#fdca26"
            ],
            [
             1,
             "#f0f921"
            ]
           ]
          },
          "colorway": [
           "#636efa",
           "#EF553B",
           "#00cc96",
           "#ab63fa",
           "#FFA15A",
           "#19d3f3",
           "#FF6692",
           "#B6E880",
           "#FF97FF",
           "#FECB52"
          ],
          "font": {
           "color": "#2a3f5f"
          },
          "geo": {
           "bgcolor": "white",
           "lakecolor": "white",
           "landcolor": "#E5ECF6",
           "showlakes": true,
           "showland": true,
           "subunitcolor": "white"
          },
          "hoverlabel": {
           "align": "left"
          },
          "hovermode": "closest",
          "mapbox": {
           "style": "light"
          },
          "paper_bgcolor": "white",
          "plot_bgcolor": "#E5ECF6",
          "polar": {
           "angularaxis": {
            "gridcolor": "white",
            "linecolor": "white",
            "ticks": ""
           },
           "bgcolor": "#E5ECF6",
           "radialaxis": {
            "gridcolor": "white",
            "linecolor": "white",
            "ticks": ""
           }
          },
          "scene": {
           "xaxis": {
            "backgroundcolor": "#E5ECF6",
            "gridcolor": "white",
            "gridwidth": 2,
            "linecolor": "white",
            "showbackground": true,
            "ticks": "",
            "zerolinecolor": "white"
           },
           "yaxis": {
            "backgroundcolor": "#E5ECF6",
            "gridcolor": "white",
            "gridwidth": 2,
            "linecolor": "white",
            "showbackground": true,
            "ticks": "",
            "zerolinecolor": "white"
           },
           "zaxis": {
            "backgroundcolor": "#E5ECF6",
            "gridcolor": "white",
            "gridwidth": 2,
            "linecolor": "white",
            "showbackground": true,
            "ticks": "",
            "zerolinecolor": "white"
           }
          },
          "shapedefaults": {
           "line": {
            "color": "#2a3f5f"
           }
          },
          "ternary": {
           "aaxis": {
            "gridcolor": "white",
            "linecolor": "white",
            "ticks": ""
           },
           "baxis": {
            "gridcolor": "white",
            "linecolor": "white",
            "ticks": ""
           },
           "bgcolor": "#E5ECF6",
           "caxis": {
            "gridcolor": "white",
            "linecolor": "white",
            "ticks": ""
           }
          },
          "title": {
           "x": 0.05
          },
          "xaxis": {
           "automargin": true,
           "gridcolor": "white",
           "linecolor": "white",
           "ticks": "",
           "title": {
            "standoff": 15
           },
           "zerolinecolor": "white",
           "zerolinewidth": 2
          },
          "yaxis": {
           "automargin": true,
           "gridcolor": "white",
           "linecolor": "white",
           "ticks": "",
           "title": {
            "standoff": 15
           },
           "zerolinecolor": "white",
           "zerolinewidth": 2
          }
         }
        },
        "xaxis": {
         "anchor": "y",
         "domain": [
          0,
          1
         ]
        },
        "yaxis": {
         "anchor": "x",
         "domain": [
          0,
          1
         ],
         "title": {
          "text": "price"
         }
        }
       }
      },
      "image/png": "[encoded data removed]"
     },
     "metadata": {},
     "output_type": "display_data"
    }
   ],
   "source": [
    "get_box_plot(processed_df, plot_parameter=\"price\").show()"
   ]
  },
  {
   "cell_type": "code",
   "execution_count": 40,
   "id": "8e7ee9e3-6b5e-4d7a-9aa5-135ed41bb8d5",
   "metadata": {},
   "outputs": [
    {
     "data": {
      "application/vnd.plotly.v1+json": {
       "config": {
        "plotlyServerURL": "https://plot.ly"
       },
       "data": [
        {
         "alignmentgroup": "True",
         "hovertemplate": "price=%{y}<extra></extra>",
         "legendgroup": "",
         "marker": {
          "color": "#636efa"
         },
         "name": "",
         "notched": false,
         "offsetgroup": "",
         "orientation": "v",
         "showlegend": false,
         "type": "box",
         "x0": " ",
         "xaxis": "x",
         "y": {
          "bdata": "aDYCAPgkAQAITAEAwNQBAMDUAQDY1gAAUEABAHjmAAAITAEAMPIAALCtAQAQmAIAoAkBALCtAQBwEQEAWA8CAKCGAQD4pwAAUEYAAFBGAABcRAAAcIIDAJBlAAB4YwEAkF8BANhTAQBI6AEAoIYBAIA4AQBwEQEARGEAAGDqAAD4JAEAcBEBAAhMAQDAXQAAkF8BADjBAQAITAEAGHMBAPgkAQDwSQIAQBkBALCtAQBwEQEAcBEBAHARAQBwEQEAcBEBAHARAQBwEQEAcBEBAHARAQBwEQEAUMMAAFDDAABQwwAAUMMAAFDDAACo3gAACM8AAAjPAAAIzwAArAcBALiIAACwswAA4C4AALAwAQDQfgEAIMsAABAhAQDwVQAA+CQBABCkAAAQpAAA8EkCAKCGAQAomgEAcBEBAHCUAAC4iAAAyK8AACcdAQB4XQIAJx0BAP92AQBQNAMA+CQBANjWAAAgTgAAwF0AACKhAAAITAEACEwBADjBAQB4aQAA4CICAECcAAAITAEA+CQBAFBGAACghgEAoIYBAHARAQBQwwAA+CQBACBOAACoYQAAUEYAAAhMAQBAnAAAgDgBAPgkAQBoNgIAYOoAAGDqAACG0wAAuIgAAHCUAACYqwIACEwBABhzAQBg6gAAgDgBAOj9AACQ4gAAGHMBAGDqAACAOAEAkOIAAPgkAQBwEQEAcBEBAEAZAQBg6gAAaL8AAIA+AAD4JAEAkF8BANjWAADY1gAAkOIAAIA4AQAITAEA6P0AAKAJAQDo/QAA6P0AAIA4AQC8NAAAQBkBAEANAwDIrwAA+CQBAOj9AACQXwEA6P0AANjWAADY1gAAkF8BAAhMAQDY1gAA2NYAANjWAAD4JAEAyK8AAFDDAABg6gAA+CQBAOj9AABQwwAAMHUAADB1AABAHwAAoIYBAMDUAQCQXwEAgDgBAHARAQAYcwEAaL8AAHARAQD4JAEA6P0AAOj9AABg6gAAuIIBAAhSAADo/QAA2FkAANhZAAC4iAAAQJwAAHS9AAB0vQAA6P0AAGDqAACYOgAAMHUAAFDDAAAgywAAOMEBAPgkAQB4aQAAeGkAAHhpAAAITAEAYOoAAHARAQB4aQAAMHUAAKQ4AACkOAAAgDgBAAB9AAA=",
          "dtype": "i4"
         },
         "y0": " ",
         "yaxis": "y"
        }
       ],
       "layout": {
        "boxmode": "group",
        "legend": {
         "tracegroupgap": 0
        },
        "margin": {
         "t": 60
        },
        "template": {
         "data": {
          "bar": [
           {
            "error_x": {
             "color": "#2a3f5f"
            },
            "error_y": {
             "color": "#2a3f5f"
            },
            "marker": {
             "line": {
              "color": "#E5ECF6",
              "width": 0.5
             },
             "pattern": {
              "fillmode": "overlay",
              "size": 10,
              "solidity": 0.2
             }
            },
            "type": "bar"
           }
          ],
          "barpolar": [
           {
            "marker": {
             "line": {
              "color": "#E5ECF6",
              "width": 0.5
             },
             "pattern": {
              "fillmode": "overlay",
              "size": 10,
              "solidity": 0.2
             }
            },
            "type": "barpolar"
           }
          ],
          "carpet": [
           {
            "aaxis": {
             "endlinecolor": "#2a3f5f",
             "gridcolor": "white",
             "linecolor": "white",
             "minorgridcolor": "white",
             "startlinecolor": "#2a3f5f"
            },
            "baxis": {
             "endlinecolor": "#2a3f5f",
             "gridcolor": "white",
             "linecolor": "white",
             "minorgridcolor": "white",
             "startlinecolor": "#2a3f5f"
            },
            "type": "carpet"
           }
          ],
          "choropleth": [
           {
            "colorbar": {
             "outlinewidth": 0,
             "ticks": ""
            },
            "type": "choropleth"
           }
          ],
          "contour": [
           {
            "colorbar": {
             "outlinewidth": 0,
             "ticks": ""
            },
            "colorscale": [
             [
              0,
              "#0d0887"
             ],
             [
              0.1111111111111111,
              "#46039f"
             ],
             [
              0.2222222222222222,
              "#7201a8"
             ],
             [
              0.3333333333333333,
              "#9c179e"
             ],
             [
              0.4444444444444444,
              "#bd3786"
             ],
             [
              0.5555555555555556,
              "#d8576b"
             ],
             [
              0.6666666666666666,
              "#ed7953"
             ],
             [
              0.7777777777777778,
              "#fb9f3a"
             ],
             [
              0.8888888888888888,
              "#fdca26"
             ],
             [
              1,
              "#f0f921"
             ]
            ],
            "type": "contour"
           }
          ],
          "contourcarpet": [
           {
            "colorbar": {
             "outlinewidth": 0,
             "ticks": ""
            },
            "type": "contourcarpet"
           }
          ],
          "heatmap": [
           {
            "colorbar": {
             "outlinewidth": 0,
             "ticks": ""
            },
            "colorscale": [
             [
              0,
              "#0d0887"
             ],
             [
              0.1111111111111111,
              "#46039f"
             ],
             [
              0.2222222222222222,
              "#7201a8"
             ],
             [
              0.3333333333333333,
              "#9c179e"
             ],
             [
              0.4444444444444444,
              "#bd3786"
             ],
             [
              0.5555555555555556,
              "#d8576b"
             ],
             [
              0.6666666666666666,
              "#ed7953"
             ],
             [
              0.7777777777777778,
              "#fb9f3a"
             ],
             [
              0.8888888888888888,
              "#fdca26"
             ],
             [
              1,
              "#f0f921"
             ]
            ],
            "type": "heatmap"
           }
          ],
          "histogram": [
           {
            "marker": {
             "pattern": {
              "fillmode": "overlay",
              "size": 10,
              "solidity": 0.2
             }
            },
            "type": "histogram"
           }
          ],
          "histogram2d": [
           {
            "colorbar": {
             "outlinewidth": 0,
             "ticks": ""
            },
            "colorscale": [
             [
              0,
              "#0d0887"
             ],
             [
              0.1111111111111111,
              "#46039f"
             ],
             [
              0.2222222222222222,
              "#7201a8"
             ],
             [
              0.3333333333333333,
              "#9c179e"
             ],
             [
              0.4444444444444444,
              "#bd3786"
             ],
             [
              0.5555555555555556,
              "#d8576b"
             ],
             [
              0.6666666666666666,
              "#ed7953"
             ],
             [
              0.7777777777777778,
              "#fb9f3a"
             ],
             [
              0.8888888888888888,
              "#fdca26"
             ],
             [
              1,
              "#f0f921"
             ]
            ],
            "type": "histogram2d"
           }
          ],
          "histogram2dcontour": [
           {
            "colorbar": {
             "outlinewidth": 0,
             "ticks": ""
            },
            "colorscale": [
             [
              0,
              "#0d0887"
             ],
             [
              0.1111111111111111,
              "#46039f"
             ],
             [
              0.2222222222222222,
              "#7201a8"
             ],
             [
              0.3333333333333333,
              "#9c179e"
             ],
             [
              0.4444444444444444,
              "#bd3786"
             ],
             [
              0.5555555555555556,
              "#d8576b"
             ],
             [
              0.6666666666666666,
              "#ed7953"
             ],
             [
              0.7777777777777778,
              "#fb9f3a"
             ],
             [
              0.8888888888888888,
              "#fdca26"
             ],
             [
              1,
              "#f0f921"
             ]
            ],
            "type": "histogram2dcontour"
           }
          ],
          "mesh3d": [
           {
            "colorbar": {
             "outlinewidth": 0,
             "ticks": ""
            },
            "type": "mesh3d"
           }
          ],
          "parcoords": [
           {
            "line": {
             "colorbar": {
              "outlinewidth": 0,
              "ticks": ""
             }
            },
            "type": "parcoords"
           }
          ],
          "pie": [
           {
            "automargin": true,
            "type": "pie"
           }
          ],
          "scatter": [
           {
            "fillpattern": {
             "fillmode": "overlay",
             "size": 10,
             "solidity": 0.2
            },
            "type": "scatter"
           }
          ],
          "scatter3d": [
           {
            "line": {
             "colorbar": {
              "outlinewidth": 0,
              "ticks": ""
             }
            },
            "marker": {
             "colorbar": {
              "outlinewidth": 0,
              "ticks": ""
             }
            },
            "type": "scatter3d"
           }
          ],
          "scattercarpet": [
           {
            "marker": {
             "colorbar": {
              "outlinewidth": 0,
              "ticks": ""
             }
            },
            "type": "scattercarpet"
           }
          ],
          "scattergeo": [
           {
            "marker": {
             "colorbar": {
              "outlinewidth": 0,
              "ticks": ""
             }
            },
            "type": "scattergeo"
           }
          ],
          "scattergl": [
           {
            "marker": {
             "colorbar": {
              "outlinewidth": 0,
              "ticks": ""
             }
            },
            "type": "scattergl"
           }
          ],
          "scattermap": [
           {
            "marker": {
             "colorbar": {
              "outlinewidth": 0,
              "ticks": ""
             }
            },
            "type": "scattermap"
           }
          ],
          "scattermapbox": [
           {
            "marker": {
             "colorbar": {
              "outlinewidth": 0,
              "ticks": ""
             }
            },
            "type": "scattermapbox"
           }
          ],
          "scatterpolar": [
           {
            "marker": {
             "colorbar": {
              "outlinewidth": 0,
              "ticks": ""
             }
            },
            "type": "scatterpolar"
           }
          ],
          "scatterpolargl": [
           {
            "marker": {
             "colorbar": {
              "outlinewidth": 0,
              "ticks": ""
             }
            },
            "type": "scatterpolargl"
           }
          ],
          "scatterternary": [
           {
            "marker": {
             "colorbar": {
              "outlinewidth": 0,
              "ticks": ""
             }
            },
            "type": "scatterternary"
           }
          ],
          "surface": [
           {
            "colorbar": {
             "outlinewidth": 0,
             "ticks": ""
            },
            "colorscale": [
             [
              0,
              "#0d0887"
             ],
             [
              0.1111111111111111,
              "#46039f"
             ],
             [
              0.2222222222222222,
              "#7201a8"
             ],
             [
              0.3333333333333333,
              "#9c179e"
             ],
             [
              0.4444444444444444,
              "#bd3786"
             ],
             [
              0.5555555555555556,
              "#d8576b"
             ],
             [
              0.6666666666666666,
              "#ed7953"
             ],
             [
              0.7777777777777778,
              "#fb9f3a"
             ],
             [
              0.8888888888888888,
              "#fdca26"
             ],
             [
              1,
              "#f0f921"
             ]
            ],
            "type": "surface"
           }
          ],
          "table": [
           {
            "cells": {
             "fill": {
              "color": "#EBF0F8"
             },
             "line": {
              "color": "white"
             }
            },
            "header": {
             "fill": {
              "color": "#C8D4E3"
             },
             "line": {
              "color": "white"
             }
            },
            "type": "table"
           }
          ]
         },
         "layout": {
          "annotationdefaults": {
           "arrowcolor": "#2a3f5f",
           "arrowhead": 0,
           "arrowwidth": 1
          },
          "autotypenumbers": "strict",
          "coloraxis": {
           "colorbar": {
            "outlinewidth": 0,
            "ticks": ""
           }
          },
          "colorscale": {
           "diverging": [
            [
             0,
             "#8e0152"
            ],
            [
             0.1,
             "#c51b7d"
            ],
            [
             0.2,
             "#de77ae"
            ],
            [
             0.3,
             "#f1b6da"
            ],
            [
             0.4,
             "#fde0ef"
            ],
            [
             0.5,
             "#f7f7f7"
            ],
            [
             0.6,
             "#e6f5d0"
            ],
            [
             0.7,
             "#b8e186"
            ],
            [
             0.8,
             "#7fbc41"
            ],
            [
             0.9,
             "#4d9221"
            ],
            [
             1,
             "#276419"
            ]
           ],
           "sequential": [
            [
             0,
             "#0d0887"
            ],
            [
             0.1111111111111111,
             "#46039f"
            ],
            [
             0.2222222222222222,
             "#7201a8"
            ],
            [
             0.3333333333333333,
             "#9c179e"
            ],
            [
             0.4444444444444444,
             "#bd3786"
            ],
            [
             0.5555555555555556,
             "#d8576b"
            ],
            [
             0.6666666666666666,
             "#ed7953"
            ],
            [
             0.7777777777777778,
             "#fb9f3a"
            ],
            [
             0.8888888888888888,
             "#fdca26"
            ],
            [
             1,
             "#f0f921"
            ]
           ],
           "sequentialminus": [
            [
             0,
             "#0d0887"
            ],
            [
             0.1111111111111111,
             "#46039f"
            ],
            [
             0.2222222222222222,
             "#7201a8"
            ],
            [
             0.3333333333333333,
             "#9c179e"
            ],
            [
             0.4444444444444444,
             "#bd3786"
            ],
            [
             0.5555555555555556,
             "#d8576b"
            ],
            [
             0.6666666666666666,
             "#ed7953"
            ],
            [
             0.7777777777777778,
             "#fb9f3a"
            ],
            [
             0.8888888888888888,
             "#fdca26"
            ],
            [
             1,
             "#f0f921"
            ]
           ]
          },
          "colorway": [
           "#636efa",
           "#EF553B",
           "#00cc96",
           "#ab63fa",
           "#FFA15A",
           "#19d3f3",
           "#FF6692",
           "#B6E880",
           "#FF97FF",
           "#FECB52"
          ],
          "font": {
           "color": "#2a3f5f"
          },
          "geo": {
           "bgcolor": "white",
           "lakecolor": "white",
           "landcolor": "#E5ECF6",
           "showlakes": true,
           "showland": true,
           "subunitcolor": "white"
          },
          "hoverlabel": {
           "align": "left"
          },
          "hovermode": "closest",
          "mapbox": {
           "style": "light"
          },
          "paper_bgcolor": "white",
          "plot_bgcolor": "#E5ECF6",
          "polar": {
           "angularaxis": {
            "gridcolor": "white",
            "linecolor": "white",
            "ticks": ""
           },
           "bgcolor": "#E5ECF6",
           "radialaxis": {
            "gridcolor": "white",
            "linecolor": "white",
            "ticks": ""
           }
          },
          "scene": {
           "xaxis": {
            "backgroundcolor": "#E5ECF6",
            "gridcolor": "white",
            "gridwidth": 2,
            "linecolor": "white",
            "showbackground": true,
            "ticks": "",
            "zerolinecolor": "white"
           },
           "yaxis": {
            "backgroundcolor": "#E5ECF6",
            "gridcolor": "white",
            "gridwidth": 2,
            "linecolor": "white",
            "showbackground": true,
            "ticks": "",
            "zerolinecolor": "white"
           },
           "zaxis": {
            "backgroundcolor": "#E5ECF6",
            "gridcolor": "white",
            "gridwidth": 2,
            "linecolor": "white",
            "showbackground": true,
            "ticks": "",
            "zerolinecolor": "white"
           }
          },
          "shapedefaults": {
           "line": {
            "color": "#2a3f5f"
           }
          },
          "ternary": {
           "aaxis": {
            "gridcolor": "white",
            "linecolor": "white",
            "ticks": ""
           },
           "baxis": {
            "gridcolor": "white",
            "linecolor": "white",
            "ticks": ""
           },
           "bgcolor": "#E5ECF6",
           "caxis": {
            "gridcolor": "white",
            "linecolor": "white",
            "ticks": ""
           }
          },
          "title": {
           "x": 0.05
          },
          "xaxis": {
           "automargin": true,
           "gridcolor": "white",
           "linecolor": "white",
           "ticks": "",
           "title": {
            "standoff": 15
           },
           "zerolinecolor": "white",
           "zerolinewidth": 2
          },
          "yaxis": {
           "automargin": true,
           "gridcolor": "white",
           "linecolor": "white",
           "ticks": "",
           "title": {
            "standoff": 15
           },
           "zerolinecolor": "white",
           "zerolinewidth": 2
          }
         }
        },
        "xaxis": {
         "anchor": "y",
         "domain": [
          0,
          1
         ]
        },
        "yaxis": {
         "anchor": "x",
         "domain": [
          0,
          1
         ],
         "title": {
          "text": "price"
         }
        }
       }
      },
      "image/png": "[encoded data removed]"
     },
     "metadata": {},
     "output_type": "display_data"
    }
   ],
   "source": [
    "get_box_plot(processed_df, plot_parameter=\"price\", numBedrooms=3, Status=\"Unfurnished\").show()"
   ]
  },
  {
   "cell_type": "code",
   "execution_count": 41,
   "id": "e5ffab4f-8101-49fb-b97f-3ae92418fc6d",
   "metadata": {},
   "outputs": [
    {
     "data": {
      "application/vnd.plotly.v1+json": {
       "config": {
        "plotlyServerURL": "https://plot.ly"
       },
       "data": [
        {
         "alignmentgroup": "True",
         "hovertemplate": "price=%{y}<extra></extra>",
         "legendgroup": "",
         "marker": {
          "color": "#636efa"
         },
         "name": "",
         "notched": false,
         "offsetgroup": "",
         "orientation": "v",
         "showlegend": false,
         "type": "box",
         "x0": " ",
         "xaxis": "x",
         "y": {
          "bdata": "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",
          "dtype": "i4"
         },
         "y0": " ",
         "yaxis": "y"
        }
       ],
       "layout": {
        "boxmode": "group",
        "legend": {
         "tracegroupgap": 0
        },
        "margin": {
         "t": 60
        },
        "template": {
         "data": {
          "bar": [
           {
            "error_x": {
             "color": "#2a3f5f"
            },
            "error_y": {
             "color": "#2a3f5f"
            },
            "marker": {
             "line": {
              "color": "#E5ECF6",
              "width": 0.5
             },
             "pattern": {
              "fillmode": "overlay",
              "size": 10,
              "solidity": 0.2
             }
            },
            "type": "bar"
           }
          ],
          "barpolar": [
           {
            "marker": {
             "line": {
              "color": "#E5ECF6",
              "width": 0.5
             },
             "pattern": {
              "fillmode": "overlay",
              "size": 10,
              "solidity": 0.2
             }
            },
            "type": "barpolar"
           }
          ],
          "carpet": [
           {
            "aaxis": {
             "endlinecolor": "#2a3f5f",
             "gridcolor": "white",
             "linecolor": "white",
             "minorgridcolor": "white",
             "startlinecolor": "#2a3f5f"
            },
            "baxis": {
             "endlinecolor": "#2a3f5f",
             "gridcolor": "white",
             "linecolor": "white",
             "minorgridcolor": "white",
             "startlinecolor": "#2a3f5f"
            },
            "type": "carpet"
           }
          ],
          "choropleth": [
           {
            "colorbar": {
             "outlinewidth": 0,
             "ticks": ""
            },
            "type": "choropleth"
           }
          ],
          "contour": [
           {
            "colorbar": {
             "outlinewidth": 0,
             "ticks": ""
            },
            "colorscale": [
             [
              0,
              "#0d0887"
             ],
             [
              0.1111111111111111,
              "#46039f"
             ],
             [
              0.2222222222222222,
              "#7201a8"
             ],
             [
              0.3333333333333333,
              "#9c179e"
             ],
             [
              0.4444444444444444,
              "#bd3786"
             ],
             [
              0.5555555555555556,
              "#d8576b"
             ],
             [
              0.6666666666666666,
              "#ed7953"
             ],
             [
              0.7777777777777778,
              "#fb9f3a"
             ],
             [
              0.8888888888888888,
              "#fdca26"
             ],
             [
              1,
              "#f0f921"
             ]
            ],
            "type": "contour"
           }
          ],
          "contourcarpet": [
           {
            "colorbar": {
             "outlinewidth": 0,
             "ticks": ""
            },
            "type": "contourcarpet"
           }
          ],
          "heatmap": [
           {
            "colorbar": {
             "outlinewidth": 0,
             "ticks": ""
            },
            "colorscale": [
             [
              0,
              "#0d0887"
             ],
             [
              0.1111111111111111,
              "#46039f"
             ],
             [
              0.2222222222222222,
              "#7201a8"
             ],
             [
              0.3333333333333333,
              "#9c179e"
             ],
             [
              0.4444444444444444,
              "#bd3786"
             ],
             [
              0.5555555555555556,
              "#d8576b"
             ],
             [
              0.6666666666666666,
              "#ed7953"
             ],
             [
              0.7777777777777778,
              "#fb9f3a"
             ],
             [
              0.8888888888888888,
              "#fdca26"
             ],
             [
              1,
              "#f0f921"
             ]
            ],
            "type": "heatmap"
           }
          ],
          "histogram": [
           {
            "marker": {
             "pattern": {
              "fillmode": "overlay",
              "size": 10,
              "solidity": 0.2
             }
            },
            "type": "histogram"
           }
          ],
          "histogram2d": [
           {
            "colorbar": {
             "outlinewidth": 0,
             "ticks": ""
            },
            "colorscale": [
             [
              0,
              "#0d0887"
             ],
             [
              0.1111111111111111,
              "#46039f"
             ],
             [
              0.2222222222222222,
              "#7201a8"
             ],
             [
              0.3333333333333333,
              "#9c179e"
             ],
             [
              0.4444444444444444,
              "#bd3786"
             ],
             [
              0.5555555555555556,
              "#d8576b"
             ],
             [
              0.6666666666666666,
              "#ed7953"
             ],
             [
              0.7777777777777778,
              "#fb9f3a"
             ],
             [
              0.8888888888888888,
              "#fdca26"
             ],
             [
              1,
              "#f0f921"
             ]
            ],
            "type": "histogram2d"
           }
          ],
          "histogram2dcontour": [
           {
            "colorbar": {
             "outlinewidth": 0,
             "ticks": ""
            },
            "colorscale": [
             [
              0,
              "#0d0887"
             ],
             [
              0.1111111111111111,
              "#46039f"
             ],
             [
              0.2222222222222222,
              "#7201a8"
             ],
             [
              0.3333333333333333,
              "#9c179e"
             ],
             [
              0.4444444444444444,
              "#bd3786"
             ],
             [
              0.5555555555555556,
              "#d8576b"
             ],
             [
              0.6666666666666666,
              "#ed7953"
             ],
             [
              0.7777777777777778,
              "#fb9f3a"
             ],
             [
              0.8888888888888888,
              "#fdca26"
             ],
             [
              1,
              "#f0f921"
             ]
            ],
            "type": "histogram2dcontour"
           }
          ],
          "mesh3d": [
           {
            "colorbar": {
             "outlinewidth": 0,
             "ticks": ""
            },
            "type": "mesh3d"
           }
          ],
          "parcoords": [
           {
            "line": {
             "colorbar": {
              "outlinewidth": 0,
              "ticks": ""
             }
            },
            "type": "parcoords"
           }
          ],
          "pie": [
           {
            "automargin": true,
            "type": "pie"
           }
          ],
          "scatter": [
           {
            "fillpattern": {
             "fillmode": "overlay",
             "size": 10,
             "solidity": 0.2
            },
            "type": "scatter"
           }
          ],
          "scatter3d": [
           {
            "line": {
             "colorbar": {
              "outlinewidth": 0,
              "ticks": ""
             }
            },
            "marker": {
             "colorbar": {
              "outlinewidth": 0,
              "ticks": ""
             }
            },
            "type": "scatter3d"
           }
          ],
          "scattercarpet": [
           {
            "marker": {
             "colorbar": {
              "outlinewidth": 0,
              "ticks": ""
             }
            },
            "type": "scattercarpet"
           }
          ],
          "scattergeo": [
           {
            "marker": {
             "colorbar": {
              "outlinewidth": 0,
              "ticks": ""
             }
            },
            "type": "scattergeo"
           }
          ],
          "scattergl": [
           {
            "marker": {
             "colorbar": {
              "outlinewidth": 0,
              "ticks": ""
             }
            },
            "type": "scattergl"
           }
          ],
          "scattermap": [
           {
            "marker": {
             "colorbar": {
              "outlinewidth": 0,
              "ticks": ""
             }
            },
            "type": "scattermap"
           }
          ],
          "scattermapbox": [
           {
            "marker": {
             "colorbar": {
              "outlinewidth": 0,
              "ticks": ""
             }
            },
            "type": "scattermapbox"
           }
          ],
          "scatterpolar": [
           {
            "marker": {
             "colorbar": {
              "outlinewidth": 0,
              "ticks": ""
             }
            },
            "type": "scatterpolar"
           }
          ],
          "scatterpolargl": [
           {
            "marker": {
             "colorbar": {
              "outlinewidth": 0,
              "ticks": ""
             }
            },
            "type": "scatterpolargl"
           }
          ],
          "scatterternary": [
           {
            "marker": {
             "colorbar": {
              "outlinewidth": 0,
              "ticks": ""
             }
            },
            "type": "scatterternary"
           }
          ],
          "surface": [
           {
            "colorbar": {
             "outlinewidth": 0,
             "ticks": ""
            },
            "colorscale": [
             [
              0,
              "#0d0887"
             ],
             [
              0.1111111111111111,
              "#46039f"
             ],
             [
              0.2222222222222222,
              "#7201a8"
             ],
             [
              0.3333333333333333,
              "#9c179e"
             ],
             [
              0.4444444444444444,
              "#bd3786"
             ],
             [
              0.5555555555555556,
              "#d8576b"
             ],
             [
              0.6666666666666666,
              "#ed7953"
             ],
             [
              0.7777777777777778,
              "#fb9f3a"
             ],
             [
              0.8888888888888888,
              "#fdca26"
             ],
             [
              1,
              "#f0f921"
             ]
            ],
            "type": "surface"
           }
          ],
          "table": [
           {
            "cells": {
             "fill": {
              "color": "#EBF0F8"
             },
             "line": {
              "color": "white"
             }
            },
            "header": {
             "fill": {
              "color": "#C8D4E3"
             },
             "line": {
              "color": "white"
             }
            },
            "type": "table"
           }
          ]
         },
         "layout": {
          "annotationdefaults": {
           "arrowcolor": "#2a3f5f",
           "arrowhead": 0,
           "arrowwidth": 1
          },
          "autotypenumbers": "strict",
          "coloraxis": {
           "colorbar": {
            "outlinewidth": 0,
            "ticks": ""
           }
          },
          "colorscale": {
           "diverging": [
            [
             0,
             "#8e0152"
            ],
            [
             0.1,
             "#c51b7d"
            ],
            [
             0.2,
             "#de77ae"
            ],
            [
             0.3,
             "#f1b6da"
            ],
            [
             0.4,
             "#fde0ef"
            ],
            [
             0.5,
             "#f7f7f7"
            ],
            [
             0.6,
             "#e6f5d0"
            ],
            [
             0.7,
             "#b8e186"
            ],
            [
             0.8,
             "#7fbc41"
            ],
            [
             0.9,
             "#4d9221"
            ],
            [
             1,
             "#276419"
            ]
           ],
           "sequential": [
            [
             0,
             "#0d0887"
            ],
            [
             0.1111111111111111,
             "#46039f"
            ],
            [
             0.2222222222222222,
             "#7201a8"
            ],
            [
             0.3333333333333333,
             "#9c179e"
            ],
            [
             0.4444444444444444,
             "#bd3786"
            ],
            [
             0.5555555555555556,
             "#d8576b"
            ],
            [
             0.6666666666666666,
             "#ed7953"
            ],
            [
             0.7777777777777778,
             "#fb9f3a"
            ],
            [
             0.8888888888888888,
             "#fdca26"
            ],
            [
             1,
             "#f0f921"
            ]
           ],
           "sequentialminus": [
            [
             0,
             "#0d0887"
            ],
            [
             0.1111111111111111,
             "#46039f"
            ],
            [
             0.2222222222222222,
             "#7201a8"
            ],
            [
             0.3333333333333333,
             "#9c179e"
            ],
            [
             0.4444444444444444,
             "#bd3786"
            ],
            [
             0.5555555555555556,
             "#d8576b"
            ],
            [
             0.6666666666666666,
             "#ed7953"
            ],
            [
             0.7777777777777778,
             "#fb9f3a"
            ],
            [
             0.8888888888888888,
             "#fdca26"
            ],
            [
             1,
             "#f0f921"
            ]
           ]
          },
          "colorway": [
           "#636efa",
           "#EF553B",
           "#00cc96",
           "#ab63fa",
           "#FFA15A",
           "#19d3f3",
           "#FF6692",
           "#B6E880",
           "#FF97FF",
           "#FECB52"
          ],
          "font": {
           "color": "#2a3f5f"
          },
          "geo": {
           "bgcolor": "white",
           "lakecolor": "white",
           "landcolor": "#E5ECF6",
           "showlakes": true,
           "showland": true,
           "subunitcolor": "white"
          },
          "hoverlabel": {
           "align": "left"
          },
          "hovermode": "closest",
          "mapbox": {
           "style": "light"
          },
          "paper_bgcolor": "white",
          "plot_bgcolor": "#E5ECF6",
          "polar": {
           "angularaxis": {
            "gridcolor": "white",
            "linecolor": "white",
            "ticks": ""
           },
           "bgcolor": "#E5ECF6",
           "radialaxis": {
            "gridcolor": "white",
            "linecolor": "white",
            "ticks": ""
           }
          },
          "scene": {
           "xaxis": {
            "backgroundcolor": "#E5ECF6",
            "gridcolor": "white",
            "gridwidth": 2,
            "linecolor": "white",
            "showbackground": true,
            "ticks": "",
            "zerolinecolor": "white"
           },
           "yaxis": {
            "backgroundcolor": "#E5ECF6",
            "gridcolor": "white",
            "gridwidth": 2,
            "linecolor": "white",
            "showbackground": true,
            "ticks": "",
            "zerolinecolor": "white"
           },
           "zaxis": {
            "backgroundcolor": "#E5ECF6",
            "gridcolor": "white",
            "gridwidth": 2,
            "linecolor": "white",
            "showbackground": true,
            "ticks": "",
            "zerolinecolor": "white"
           }
          },
          "shapedefaults": {
           "line": {
            "color": "#2a3f5f"
           }
          },
          "ternary": {
           "aaxis": {
            "gridcolor": "white",
            "linecolor": "white",
            "ticks": ""
           },
           "baxis": {
            "gridcolor": "white",
            "linecolor": "white",
            "ticks": ""
           },
           "bgcolor": "#E5ECF6",
           "caxis": {
            "gridcolor": "white",
            "linecolor": "white",
            "ticks": ""
           }
          },
          "title": {
           "x": 0.05
          },
          "xaxis": {
           "automargin": true,
           "gridcolor": "white",
           "linecolor": "white",
           "ticks": "",
           "title": {
            "standoff": 15
           },
           "zerolinecolor": "white",
           "zerolinewidth": 2
          },
          "yaxis": {
           "automargin": true,
           "gridcolor": "white",
           "linecolor": "white",
           "ticks": "",
           "title": {
            "standoff": 15
           },
           "zerolinecolor": "white",
           "zerolinewidth": 2
          }
         }
        },
        "xaxis": {
         "anchor": "y",
         "domain": [
          0,
          1
         ]
        },
        "yaxis": {
         "anchor": "x",
         "domain": [
          0,
          1
         ],
         "title": {
          "text": "price"
         }
        }
       }
      },
      "image/png": "[encoded data removed]"
     },
     "metadata": {},
     "output_type": "display_data"
    }
   ],
   "source": [
    "get_box_plot(processed_df, plot_parameter=\"price\", numBedrooms=2, Status=\"Unfurnished\").show()"
   ]
  },
  {
   "cell_type": "code",
   "execution_count": 42,
   "id": "de3e020f-7096-4232-82d8-ecbc300e6edd",
   "metadata": {},
   "outputs": [
    {
     "data": {
      "application/vnd.plotly.v1+json": {
       "config": {
        "plotlyServerURL": "https://plot.ly"
       },
       "data": [
        {
         "alignmentgroup": "True",
         "hovertemplate": "price=%{y}<extra></extra>",
         "legendgroup": "",
         "marker": {
          "color": "#636efa"
         },
         "name": "",
         "notched": false,
         "offsetgroup": "",
         "orientation": "v",
         "showlegend": false,
         "type": "box",
         "x0": " ",
         "xaxis": "x",
         "y": {
          "bdata": "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",
          "dtype": "i4"
         },
         "y0": " ",
         "yaxis": "y"
        }
       ],
       "layout": {
        "boxmode": "group",
        "legend": {
         "tracegroupgap": 0
        },
        "margin": {
         "t": 60
        },
        "template": {
         "data": {
          "bar": [
           {
            "error_x": {
             "color": "#2a3f5f"
            },
            "error_y": {
             "color": "#2a3f5f"
            },
            "marker": {
             "line": {
              "color": "#E5ECF6",
              "width": 0.5
             },
             "pattern": {
              "fillmode": "overlay",
              "size": 10,
              "solidity": 0.2
             }
            },
            "type": "bar"
           }
          ],
          "barpolar": [
           {
            "marker": {
             "line": {
              "color": "#E5ECF6",
              "width": 0.5
             },
             "pattern": {
              "fillmode": "overlay",
              "size": 10,
              "solidity": 0.2
             }
            },
            "type": "barpolar"
           }
          ],
          "carpet": [
           {
            "aaxis": {
             "endlinecolor": "#2a3f5f",
             "gridcolor": "white",
             "linecolor": "white",
             "minorgridcolor": "white",
             "startlinecolor": "#2a3f5f"
            },
            "baxis": {
             "endlinecolor": "#2a3f5f",
             "gridcolor": "white",
             "linecolor": "white",
             "minorgridcolor": "white",
             "startlinecolor": "#2a3f5f"
            },
            "type": "carpet"
           }
          ],
          "choropleth": [
           {
            "colorbar": {
             "outlinewidth": 0,
             "ticks": ""
            },
            "type": "choropleth"
           }
          ],
          "contour": [
           {
            "colorbar": {
             "outlinewidth": 0,
             "ticks": ""
            },
            "colorscale": [
             [
              0,
              "#0d0887"
             ],
             [
              0.1111111111111111,
              "#46039f"
             ],
             [
              0.2222222222222222,
              "#7201a8"
             ],
             [
              0.3333333333333333,
              "#9c179e"
             ],
             [
              0.4444444444444444,
              "#bd3786"
             ],
             [
              0.5555555555555556,
              "#d8576b"
             ],
             [
              0.6666666666666666,
              "#ed7953"
             ],
             [
              0.7777777777777778,
              "#fb9f3a"
             ],
             [
              0.8888888888888888,
              "#fdca26"
             ],
             [
              1,
              "#f0f921"
             ]
            ],
            "type": "contour"
           }
          ],
          "contourcarpet": [
           {
            "colorbar": {
             "outlinewidth": 0,
             "ticks": ""
            },
            "type": "contourcarpet"
           }
          ],
          "heatmap": [
           {
            "colorbar": {
             "outlinewidth": 0,
             "ticks": ""
            },
            "colorscale": [
             [
              0,
              "#0d0887"
             ],
             [
              0.1111111111111111,
              "#46039f"
             ],
             [
              0.2222222222222222,
              "#7201a8"
             ],
             [
              0.3333333333333333,
              "#9c179e"
             ],
             [
              0.4444444444444444,
              "#bd3786"
             ],
             [
              0.5555555555555556,
              "#d8576b"
             ],
             [
              0.6666666666666666,
              "#ed7953"
             ],
             [
              0.7777777777777778,
              "#fb9f3a"
             ],
             [
              0.8888888888888888,
              "#fdca26"
             ],
             [
              1,
              "#f0f921"
             ]
            ],
            "type": "heatmap"
           }
          ],
          "histogram": [
           {
            "marker": {
             "pattern": {
              "fillmode": "overlay",
              "size": 10,
              "solidity": 0.2
             }
            },
            "type": "histogram"
           }
          ],
          "histogram2d": [
           {
            "colorbar": {
             "outlinewidth": 0,
             "ticks": ""
            },
            "colorscale": [
             [
              0,
              "#0d0887"
             ],
             [
              0.1111111111111111,
              "#46039f"
             ],
             [
              0.2222222222222222,
              "#7201a8"
             ],
             [
              0.3333333333333333,
              "#9c179e"
             ],
             [
              0.4444444444444444,
              "#bd3786"
             ],
             [
              0.5555555555555556,
              "#d8576b"
             ],
             [
              0.6666666666666666,
              "#ed7953"
             ],
             [
              0.7777777777777778,
              "#fb9f3a"
             ],
             [
              0.8888888888888888,
              "#fdca26"
             ],
             [
              1,
              "#f0f921"
             ]
            ],
            "type": "histogram2d"
           }
          ],
          "histogram2dcontour": [
           {
            "colorbar": {
             "outlinewidth": 0,
             "ticks": ""
            },
            "colorscale": [
             [
              0,
              "#0d0887"
             ],
             [
              0.1111111111111111,
              "#46039f"
             ],
             [
              0.2222222222222222,
              "#7201a8"
             ],
             [
              0.3333333333333333,
              "#9c179e"
             ],
             [
              0.4444444444444444,
              "#bd3786"
             ],
             [
              0.5555555555555556,
              "#d8576b"
             ],
             [
              0.6666666666666666,
              "#ed7953"
             ],
             [
              0.7777777777777778,
              "#fb9f3a"
             ],
             [
              0.8888888888888888,
              "#fdca26"
             ],
             [
              1,
              "#f0f921"
             ]
            ],
            "type": "histogram2dcontour"
           }
          ],
          "mesh3d": [
           {
            "colorbar": {
             "outlinewidth": 0,
             "ticks": ""
            },
            "type": "mesh3d"
           }
          ],
          "parcoords": [
           {
            "line": {
             "colorbar": {
              "outlinewidth": 0,
              "ticks": ""
             }
            },
            "type": "parcoords"
           }
          ],
          "pie": [
           {
            "automargin": true,
            "type": "pie"
           }
          ],
          "scatter": [
           {
            "fillpattern": {
             "fillmode": "overlay",
             "size": 10,
             "solidity": 0.2
            },
            "type": "scatter"
           }
          ],
          "scatter3d": [
           {
            "line": {
             "colorbar": {
              "outlinewidth": 0,
              "ticks": ""
             }
            },
            "marker": {
             "colorbar": {
              "outlinewidth": 0,
              "ticks": ""
             }
            },
            "type": "scatter3d"
           }
          ],
          "scattercarpet": [
           {
            "marker": {
             "colorbar": {
              "outlinewidth": 0,
              "ticks": ""
             }
            },
            "type": "scattercarpet"
           }
          ],
          "scattergeo": [
           {
            "marker": {
             "colorbar": {
              "outlinewidth": 0,
              "ticks": ""
             }
            },
            "type": "scattergeo"
           }
          ],
          "scattergl": [
           {
            "marker": {
             "colorbar": {
              "outlinewidth": 0,
              "ticks": ""
             }
            },
            "type": "scattergl"
           }
          ],
          "scattermap": [
           {
            "marker": {
             "colorbar": {
              "outlinewidth": 0,
              "ticks": ""
             }
            },
            "type": "scattermap"
           }
          ],
          "scattermapbox": [
           {
            "marker": {
             "colorbar": {
              "outlinewidth": 0,
              "ticks": ""
             }
            },
            "type": "scattermapbox"
           }
          ],
          "scatterpolar": [
           {
            "marker": {
             "colorbar": {
              "outlinewidth": 0,
              "ticks": ""
             }
            },
            "type": "scatterpolar"
           }
          ],
          "scatterpolargl": [
           {
            "marker": {
             "colorbar": {
              "outlinewidth": 0,
              "ticks": ""
             }
            },
            "type": "scatterpolargl"
           }
          ],
          "scatterternary": [
           {
            "marker": {
             "colorbar": {
              "outlinewidth": 0,
              "ticks": ""
             }
            },
            "type": "scatterternary"
           }
          ],
          "surface": [
           {
            "colorbar": {
             "outlinewidth": 0,
             "ticks": ""
            },
            "colorscale": [
             [
              0,
              "#0d0887"
             ],
             [
              0.1111111111111111,
              "#46039f"
             ],
             [
              0.2222222222222222,
              "#7201a8"
             ],
             [
              0.3333333333333333,
              "#9c179e"
             ],
             [
              0.4444444444444444,
              "#bd3786"
             ],
             [
              0.5555555555555556,
              "#d8576b"
             ],
             [
              0.6666666666666666,
              "#ed7953"
             ],
             [
              0.7777777777777778,
              "#fb9f3a"
             ],
             [
              0.8888888888888888,
              "#fdca26"
             ],
             [
              1,
              "#f0f921"
             ]
            ],
            "type": "surface"
           }
          ],
          "table": [
           {
            "cells": {
             "fill": {
              "color": "#EBF0F8"
             },
             "line": {
              "color": "white"
             }
            },
            "header": {
             "fill": {
              "color": "#C8D4E3"
             },
             "line": {
              "color": "white"
             }
            },
            "type": "table"
           }
          ]
         },
         "layout": {
          "annotationdefaults": {
           "arrowcolor": "#2a3f5f",
           "arrowhead": 0,
           "arrowwidth": 1
          },
          "autotypenumbers": "strict",
          "coloraxis": {
           "colorbar": {
            "outlinewidth": 0,
            "ticks": ""
           }
          },
          "colorscale": {
           "diverging": [
            [
             0,
             "#8e0152"
            ],
            [
             0.1,
             "#c51b7d"
            ],
            [
             0.2,
             "#de77ae"
            ],
            [
             0.3,
             "#f1b6da"
            ],
            [
             0.4,
             "#fde0ef"
            ],
            [
             0.5,
             "#f7f7f7"
            ],
            [
             0.6,
             "#e6f5d0"
            ],
            [
             0.7,
             "#b8e186"
            ],
            [
             0.8,
             "#7fbc41"
            ],
            [
             0.9,
             "#4d9221"
            ],
            [
             1,
             "#276419"
            ]
           ],
           "sequential": [
            [
             0,
             "#0d0887"
            ],
            [
             0.1111111111111111,
             "#46039f"
            ],
            [
             0.2222222222222222,
             "#7201a8"
            ],
            [
             0.3333333333333333,
             "#9c179e"
            ],
            [
             0.4444444444444444,
             "#bd3786"
            ],
            [
             0.5555555555555556,
             "#d8576b"
            ],
            [
             0.6666666666666666,
             "#ed7953"
            ],
            [
             0.7777777777777778,
             "#fb9f3a"
            ],
            [
             0.8888888888888888,
             "#fdca26"
            ],
            [
             1,
             "#f0f921"
            ]
           ],
           "sequentialminus": [
            [
             0,
             "#0d0887"
            ],
            [
             0.1111111111111111,
             "#46039f"
            ],
            [
             0.2222222222222222,
             "#7201a8"
            ],
            [
             0.3333333333333333,
             "#9c179e"
            ],
            [
             0.4444444444444444,
             "#bd3786"
            ],
            [
             0.5555555555555556,
             "#d8576b"
            ],
            [
             0.6666666666666666,
             "#ed7953"
            ],
            [
             0.7777777777777778,
             "#fb9f3a"
            ],
            [
             0.8888888888888888,
             "#fdca26"
            ],
            [
             1,
             "#f0f921"
            ]
           ]
          },
          "colorway": [
           "#636efa",
           "#EF553B",
           "#00cc96",
           "#ab63fa",
           "#FFA15A",
           "#19d3f3",
           "#FF6692",
           "#B6E880",
           "#FF97FF",
           "#FECB52"
          ],
          "font": {
           "color": "#2a3f5f"
          },
          "geo": {
           "bgcolor": "white",
           "lakecolor": "white",
           "landcolor": "#E5ECF6",
           "showlakes": true,
           "showland": true,
           "subunitcolor": "white"
          },
          "hoverlabel": {
           "align": "left"
          },
          "hovermode": "closest",
          "mapbox": {
           "style": "light"
          },
          "paper_bgcolor": "white",
          "plot_bgcolor": "#E5ECF6",
          "polar": {
           "angularaxis": {
            "gridcolor": "white",
            "linecolor": "white",
            "ticks": ""
           },
           "bgcolor": "#E5ECF6",
           "radialaxis": {
            "gridcolor": "white",
            "linecolor": "white",
            "ticks": ""
           }
          },
          "scene": {
           "xaxis": {
            "backgroundcolor": "#E5ECF6",
            "gridcolor": "white",
            "gridwidth": 2,
            "linecolor": "white",
            "showbackground": true,
            "ticks": "",
            "zerolinecolor": "white"
           },
           "yaxis": {
            "backgroundcolor": "#E5ECF6",
            "gridcolor": "white",
            "gridwidth": 2,
            "linecolor": "white",
            "showbackground": true,
            "ticks": "",
            "zerolinecolor": "white"
           },
           "zaxis": {
            "backgroundcolor": "#E5ECF6",
            "gridcolor": "white",
            "gridwidth": 2,
            "linecolor": "white",
            "showbackground": true,
            "ticks": "",
            "zerolinecolor": "white"
           }
          },
          "shapedefaults": {
           "line": {
            "color": "#2a3f5f"
           }
          },
          "ternary": {
           "aaxis": {
            "gridcolor": "white",
            "linecolor": "white",
            "ticks": ""
           },
           "baxis": {
            "gridcolor": "white",
            "linecolor": "white",
            "ticks": ""
           },
           "bgcolor": "#E5ECF6",
           "caxis": {
            "gridcolor": "white",
            "linecolor": "white",
            "ticks": ""
           }
          },
          "title": {
           "x": 0.05
          },
          "xaxis": {
           "automargin": true,
           "gridcolor": "white",
           "linecolor": "white",
           "ticks": "",
           "title": {
            "standoff": 15
           },
           "zerolinecolor": "white",
           "zerolinewidth": 2
          },
          "yaxis": {
           "automargin": true,
           "gridcolor": "white",
           "linecolor": "white",
           "ticks": "",
           "title": {
            "standoff": 15
           },
           "zerolinecolor": "white",
           "zerolinewidth": 2
          }
         }
        },
        "xaxis": {
         "anchor": "y",
         "domain": [
          0,
          1
         ]
        },
        "yaxis": {
         "anchor": "x",
         "domain": [
          0,
          1
         ],
         "title": {
          "text": "price"
         }
        }
       }
      },
      "image/png": "[encoded data removed]"
     },
     "metadata": {},
     "output_type": "display_data"
    }
   ],
   "source": [
    "get_box_plot(processed_df, plot_parameter=\"price\", numBedrooms=2, Status=\"Semi-Furnished\").show()"
   ]
  },
  {
   "cell_type": "code",
   "execution_count": 43,
   "id": "110cf3ee-b432-437b-9bc2-10acedabff39",
   "metadata": {},
   "outputs": [
    {
     "data": {
      "application/vnd.plotly.v1+json": {
       "config": {
        "plotlyServerURL": "https://plot.ly"
       },
       "data": [
        {
         "alignmentgroup": "True",
         "hovertemplate": "price=%{y}<extra></extra>",
         "legendgroup": "",
         "marker": {
          "color": "#636efa"
         },
         "name": "",
         "notched": false,
         "offsetgroup": "",
         "orientation": "v",
         "showlegend": false,
         "type": "box",
         "x0": " ",
         "xaxis": "x",
         "y": {
          "bdata": "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",
          "dtype": "i4"
         },
         "y0": " ",
         "yaxis": "y"
        }
       ],
       "layout": {
        "boxmode": "group",
        "legend": {
         "tracegroupgap": 0
        },
        "margin": {
         "t": 60
        },
        "template": {
         "data": {
          "bar": [
           {
            "error_x": {
             "color": "#2a3f5f"
            },
            "error_y": {
             "color": "#2a3f5f"
            },
            "marker": {
             "line": {
              "color": "#E5ECF6",
              "width": 0.5
             },
             "pattern": {
              "fillmode": "overlay",
              "size": 10,
              "solidity": 0.2
             }
            },
            "type": "bar"
           }
          ],
          "barpolar": [
           {
            "marker": {
             "line": {
              "color": "#E5ECF6",
              "width": 0.5
             },
             "pattern": {
              "fillmode": "overlay",
              "size": 10,
              "solidity": 0.2
             }
            },
            "type": "barpolar"
           }
          ],
          "carpet": [
           {
            "aaxis": {
             "endlinecolor": "#2a3f5f",
             "gridcolor": "white",
             "linecolor": "white",
             "minorgridcolor": "white",
             "startlinecolor": "#2a3f5f"
            },
            "baxis": {
             "endlinecolor": "#2a3f5f",
             "gridcolor": "white",
             "linecolor": "white",
             "minorgridcolor": "white",
             "startlinecolor": "#2a3f5f"
            },
            "type": "carpet"
           }
          ],
          "choropleth": [
           {
            "colorbar": {
             "outlinewidth": 0,
             "ticks": ""
            },
            "type": "choropleth"
           }
          ],
          "contour": [
           {
            "colorbar": {
             "outlinewidth": 0,
             "ticks": ""
            },
            "colorscale": [
             [
              0,
              "#0d0887"
             ],
             [
              0.1111111111111111,
              "#46039f"
             ],
             [
              0.2222222222222222,
              "#7201a8"
             ],
             [
              0.3333333333333333,
              "#9c179e"
             ],
             [
              0.4444444444444444,
              "#bd3786"
             ],
             [
              0.5555555555555556,
              "#d8576b"
             ],
             [
              0.6666666666666666,
              "#ed7953"
             ],
             [
              0.7777777777777778,
              "#fb9f3a"
             ],
             [
              0.8888888888888888,
              "#fdca26"
             ],
             [
              1,
              "#f0f921"
             ]
            ],
            "type": "contour"
           }
          ],
          "contourcarpet": [
           {
            "colorbar": {
             "outlinewidth": 0,
             "ticks": ""
            },
            "type": "contourcarpet"
           }
          ],
          "heatmap": [
           {
            "colorbar": {
             "outlinewidth": 0,
             "ticks": ""
            },
            "colorscale": [
             [
              0,
              "#0d0887"
             ],
             [
              0.1111111111111111,
              "#46039f"
             ],
             [
              0.2222222222222222,
              "#7201a8"
             ],
             [
              0.3333333333333333,
              "#9c179e"
             ],
             [
              0.4444444444444444,
              "#bd3786"
             ],
             [
              0.5555555555555556,
              "#d8576b"
             ],
             [
              0.6666666666666666,
              "#ed7953"
             ],
             [
              0.7777777777777778,
              "#fb9f3a"
             ],
             [
              0.8888888888888888,
              "#fdca26"
             ],
             [
              1,
              "#f0f921"
             ]
            ],
            "type": "heatmap"
           }
          ],
          "histogram": [
           {
            "marker": {
             "pattern": {
              "fillmode": "overlay",
              "size": 10,
              "solidity": 0.2
             }
            },
            "type": "histogram"
           }
          ],
          "histogram2d": [
           {
            "colorbar": {
             "outlinewidth": 0,
             "ticks": ""
            },
            "colorscale": [
             [
              0,
              "#0d0887"
             ],
             [
              0.1111111111111111,
              "#46039f"
             ],
             [
              0.2222222222222222,
              "#7201a8"
             ],
             [
              0.3333333333333333,
              "#9c179e"
             ],
             [
              0.4444444444444444,
              "#bd3786"
             ],
             [
              0.5555555555555556,
              "#d8576b"
             ],
             [
              0.6666666666666666,
              "#ed7953"
             ],
             [
              0.7777777777777778,
              "#fb9f3a"
             ],
             [
              0.8888888888888888,
              "#fdca26"
             ],
             [
              1,
              "#f0f921"
             ]
            ],
            "type": "histogram2d"
           }
          ],
          "histogram2dcontour": [
           {
            "colorbar": {
             "outlinewidth": 0,
             "ticks": ""
            },
            "colorscale": [
             [
              0,
              "#0d0887"
             ],
             [
              0.1111111111111111,
              "#46039f"
             ],
             [
              0.2222222222222222,
              "#7201a8"
             ],
             [
              0.3333333333333333,
              "#9c179e"
             ],
             [
              0.4444444444444444,
              "#bd3786"
             ],
             [
              0.5555555555555556,
              "#d8576b"
             ],
             [
              0.6666666666666666,
              "#ed7953"
             ],
             [
              0.7777777777777778,
              "#fb9f3a"
             ],
             [
              0.8888888888888888,
              "#fdca26"
             ],
             [
              1,
              "#f0f921"
             ]
            ],
            "type": "histogram2dcontour"
           }
          ],
          "mesh3d": [
           {
            "colorbar": {
             "outlinewidth": 0,
             "ticks": ""
            },
            "type": "mesh3d"
           }
          ],
          "parcoords": [
           {
            "line": {
             "colorbar": {
              "outlinewidth": 0,
              "ticks": ""
             }
            },
            "type": "parcoords"
           }
          ],
          "pie": [
           {
            "automargin": true,
            "type": "pie"
           }
          ],
          "scatter": [
           {
            "fillpattern": {
             "fillmode": "overlay",
             "size": 10,
             "solidity": 0.2
            },
            "type": "scatter"
           }
          ],
          "scatter3d": [
           {
            "line": {
             "colorbar": {
              "outlinewidth": 0,
              "ticks": ""
             }
            },
            "marker": {
             "colorbar": {
              "outlinewidth": 0,
              "ticks": ""
             }
            },
            "type": "scatter3d"
           }
          ],
          "scattercarpet": [
           {
            "marker": {
             "colorbar": {
              "outlinewidth": 0,
              "ticks": ""
             }
            },
            "type": "scattercarpet"
           }
          ],
          "scattergeo": [
           {
            "marker": {
             "colorbar": {
              "outlinewidth": 0,
              "ticks": ""
             }
            },
            "type": "scattergeo"
           }
          ],
          "scattergl": [
           {
            "marker": {
             "colorbar": {
              "outlinewidth": 0,
              "ticks": ""
             }
            },
            "type": "scattergl"
           }
          ],
          "scattermap": [
           {
            "marker": {
             "colorbar": {
              "outlinewidth": 0,
              "ticks": ""
             }
            },
            "type": "scattermap"
           }
          ],
          "scattermapbox": [
           {
            "marker": {
             "colorbar": {
              "outlinewidth": 0,
              "ticks": ""
             }
            },
            "type": "scattermapbox"
           }
          ],
          "scatterpolar": [
           {
            "marker": {
             "colorbar": {
              "outlinewidth": 0,
              "ticks": ""
             }
            },
            "type": "scatterpolar"
           }
          ],
          "scatterpolargl": [
           {
            "marker": {
             "colorbar": {
              "outlinewidth": 0,
              "ticks": ""
             }
            },
            "type": "scatterpolargl"
           }
          ],
          "scatterternary": [
           {
            "marker": {
             "colorbar": {
              "outlinewidth": 0,
              "ticks": ""
             }
            },
            "type": "scatterternary"
           }
          ],
          "surface": [
           {
            "colorbar": {
             "outlinewidth": 0,
             "ticks": ""
            },
            "colorscale": [
             [
              0,
              "#0d0887"
             ],
             [
              0.1111111111111111,
              "#46039f"
             ],
             [
              0.2222222222222222,
              "#7201a8"
             ],
             [
              0.3333333333333333,
              "#9c179e"
             ],
             [
              0.4444444444444444,
              "#bd3786"
             ],
             [
              0.5555555555555556,
              "#d8576b"
             ],
             [
              0.6666666666666666,
              "#ed7953"
             ],
             [
              0.7777777777777778,
              "#fb9f3a"
             ],
             [
              0.8888888888888888,
              "#fdca26"
             ],
             [
              1,
              "#f0f921"
             ]
            ],
            "type": "surface"
           }
          ],
          "table": [
           {
            "cells": {
             "fill": {
              "color": "#EBF0F8"
             },
             "line": {
              "color": "white"
             }
            },
            "header": {
             "fill": {
              "color": "#C8D4E3"
             },
             "line": {
              "color": "white"
             }
            },
            "type": "table"
           }
          ]
         },
         "layout": {
          "annotationdefaults": {
           "arrowcolor": "#2a3f5f",
           "arrowhead": 0,
           "arrowwidth": 1
          },
          "autotypenumbers": "strict",
          "coloraxis": {
           "colorbar": {
            "outlinewidth": 0,
            "ticks": ""
           }
          },
          "colorscale": {
           "diverging": [
            [
             0,
             "#8e0152"
            ],
            [
             0.1,
             "#c51b7d"
            ],
            [
             0.2,
             "#de77ae"
            ],
            [
             0.3,
             "#f1b6da"
            ],
            [
             0.4,
             "#fde0ef"
            ],
            [
             0.5,
             "#f7f7f7"
            ],
            [
             0.6,
             "#e6f5d0"
            ],
            [
             0.7,
             "#b8e186"
            ],
            [
             0.8,
             "#7fbc41"
            ],
            [
             0.9,
             "#4d9221"
            ],
            [
             1,
             "#276419"
            ]
           ],
           "sequential": [
            [
             0,
             "#0d0887"
            ],
            [
             0.1111111111111111,
             "#46039f"
            ],
            [
             0.2222222222222222,
             "#7201a8"
            ],
            [
             0.3333333333333333,
             "#9c179e"
            ],
            [
             0.4444444444444444,
             "#bd3786"
            ],
            [
             0.5555555555555556,
             "#d8576b"
            ],
            [
             0.6666666666666666,
             "#ed7953"
            ],
            [
             0.7777777777777778,
             "#fb9f3a"
            ],
            [
             0.8888888888888888,
             "#fdca26"
            ],
            [
             1,
             "#f0f921"
            ]
           ],
           "sequentialminus": [
            [
             0,
             "#0d0887"
            ],
            [
             0.1111111111111111,
             "#46039f"
            ],
            [
             0.2222222222222222,
             "#7201a8"
            ],
            [
             0.3333333333333333,
             "#9c179e"
            ],
            [
             0.4444444444444444,
             "#bd3786"
            ],
            [
             0.5555555555555556,
             "#d8576b"
            ],
            [
             0.6666666666666666,
             "#ed7953"
            ],
            [
             0.7777777777777778,
             "#fb9f3a"
            ],
            [
             0.8888888888888888,
             "#fdca26"
            ],
            [
             1,
             "#f0f921"
            ]
           ]
          },
          "colorway": [
           "#636efa",
           "#EF553B",
           "#00cc96",
           "#ab63fa",
           "#FFA15A",
           "#19d3f3",
           "#FF6692",
           "#B6E880",
           "#FF97FF",
           "#FECB52"
          ],
          "font": {
           "color": "#2a3f5f"
          },
          "geo": {
           "bgcolor": "white",
           "lakecolor": "white",
           "landcolor": "#E5ECF6",
           "showlakes": true,
           "showland": true,
           "subunitcolor": "white"
          },
          "hoverlabel": {
           "align": "left"
          },
          "hovermode": "closest",
          "mapbox": {
           "style": "light"
          },
          "paper_bgcolor": "white",
          "plot_bgcolor": "#E5ECF6",
          "polar": {
           "angularaxis": {
            "gridcolor": "white",
            "linecolor": "white",
            "ticks": ""
           },
           "bgcolor": "#E5ECF6",
           "radialaxis": {
            "gridcolor": "white",
            "linecolor": "white",
            "ticks": ""
           }
          },
          "scene": {
           "xaxis": {
            "backgroundcolor": "#E5ECF6",
            "gridcolor": "white",
            "gridwidth": 2,
            "linecolor": "white",
            "showbackground": true,
            "ticks": "",
            "zerolinecolor": "white"
           },
           "yaxis": {
            "backgroundcolor": "#E5ECF6",
            "gridcolor": "white",
            "gridwidth": 2,
            "linecolor": "white",
            "showbackground": true,
            "ticks": "",
            "zerolinecolor": "white"
           },
           "zaxis": {
            "backgroundcolor": "#E5ECF6",
            "gridcolor": "white",
            "gridwidth": 2,
            "linecolor": "white",
            "showbackground": true,
            "ticks": "",
            "zerolinecolor": "white"
           }
          },
          "shapedefaults": {
           "line": {
            "color": "#2a3f5f"
           }
          },
          "ternary": {
           "aaxis": {
            "gridcolor": "white",
            "linecolor": "white",
            "ticks": ""
           },
           "baxis": {
            "gridcolor": "white",
            "linecolor": "white",
            "ticks": ""
           },
           "bgcolor": "#E5ECF6",
           "caxis": {
            "gridcolor": "white",
            "linecolor": "white",
            "ticks": ""
           }
          },
          "title": {
           "x": 0.05
          },
          "xaxis": {
           "automargin": true,
           "gridcolor": "white",
           "linecolor": "white",
           "ticks": "",
           "title": {
            "standoff": 15
           },
           "zerolinecolor": "white",
           "zerolinewidth": 2
          },
          "yaxis": {
           "automargin": true,
           "gridcolor": "white",
           "linecolor": "white",
           "ticks": "",
           "title": {
            "standoff": 15
           },
           "zerolinecolor": "white",
           "zerolinewidth": 2
          }
         }
        },
        "xaxis": {
         "anchor": "y",
         "domain": [
          0,
          1
         ]
        },
        "yaxis": {
         "anchor": "x",
         "domain": [
          0,
          1
         ],
         "title": {
          "text": "price"
         }
        }
       }
      },
      "image/png": "[encoded data removed]"
     },
     "metadata": {},
     "output_type": "display_data"
    }
   ],
   "source": [
    "get_box_plot(processed_df, plot_parameter=\"price\", numBedrooms=2, Status=\"Furnished\").show()"
   ]
  },
  {
   "cell_type": "code",
   "execution_count": 44,
   "id": "ee7f5b88-a804-418e-aa81-0d44c72a0f53",
   "metadata": {
    "scrolled": true
   },
   "outputs": [
    {
     "data": {
      "text/plain": [
       "array(['Ulwe', 'Panvel', 'Kandivali West', 'Chembur', 'Badlapur East',\n",
       "       'Dombivali', 'Bandra West', 'Andheri East', 'Bhayandar East',\n",
       "       'Goregaon West', 'Colaba', 'Kalamboli', 'Palghar', 'Nerul',\n",
       "       'Kandivali East', 'Sion', 'Andheri West', 'Juhu', 'Vasai',\n",
       "       'Thakurli', 'Powai', 'Jogeshwari East', 'Mira Road East',\n",
       "       'Thane West', 'Parel', 'Prabhadevi', 'Ghatkopar East',\n",
       "       'Kalyan West', 'Dadar East', 'vile parle west', 'Bhandup West',\n",
       "       'Borivali East', 'Mahalaxmi', 'Kanjurmarg', 'Seawoods',\n",
       "       'Dombivali East', 'Titwala', 'Karanjade', 'Girgaon',\n",
       "       'Malabar Hill', 'Dadar West', 'Goregaon East', 'Mahim', 'Sanpada',\n",
       "       'Mulund West', 'Tardeo', 'Malad East', 'Borivali West',\n",
       "       'Malad West', 'Kharghar', 'Jogeshwari West', 'Kamothe',\n",
       "       'Bandra East', 'Worli', 'Ville Parle East', 'Mulund East',\n",
       "       'Vikhroli', 'Ghatkopar West', 'Dombivli (West)', 'Cumballa Hill',\n",
       "       'Khar', 'Vevoor', 'Kanjurmarg East', 'Lower Parel', 'Marine Lines',\n",
       "       'Hiranandani Estates', 'Napeansea Road', 'Nala Sopara',\n",
       "       'Khar West', 'Byculla', 'Cuffe Parade', 'Matunga', 'Vasai east',\n",
       "       'MATUNGA WEST', 'Gamdevi', 'Agripada', 'Jacob Circle', 'Wadala',\n",
       "       'Sewri', 'Belapur', 'Airoli', 'Deonar', 'Dahisar West', 'Dahisar',\n",
       "       'Virar', 'Ghansoli', 'Boisar', 'Kalyan East', 'Churchgate',\n",
       "       'Kurla', 'Kurla East', 'Govandi', 'Tilak Nagar', 'Santosh Nagar',\n",
       "       'matunga east', 'Koper Khairane', 'Palava', 'Vashi',\n",
       "       'Santacruz West', 'Santacruz East', 'Bhayandar West',\n",
       "       'Bandra Kurla Complex', 'Dharamveer Nagar', 'Nalasopara West',\n",
       "       'Kalwa', 'Ville Parle West', 'Antarli', 'Shil Phata',\n",
       "       'Amrut Nagar', 'Virar East', 'Sector 21 Kamothe', 'Naigaon East',\n",
       "       'Khardi', 'Diva Gaon', 'Diva', 'Vasai West', 'Koproli', 'DN Nagar',\n",
       "       'Ambernath West', 'St Andrew Rd', 'Balkum', 'CBD Belapur East',\n",
       "       'Borivali (West)', 'Breach Candy', 'Sector 21 Ghansoli',\n",
       "       'Sector6 Kopar Khairane', 'Bhandup East', 'Parel Village',\n",
       "       'Pali Hill', 'Juhu Tara Rd', 'Juhu Scheme', 'Ghansoli Gaon',\n",
       "       'Mahape', 'Koparkhairane Station Road', 'Sector 5 Ghansoli',\n",
       "       'Mahim West', 'Marol andheri east', 'Badlapur West', 'juhu tara',\n",
       "       'Rasayani', 'Bhiwandi', 'Versova', 'Yari Road',\n",
       "       'colaba post office', 'Aarya Chanakya Nagar', 'Akurli Road',\n",
       "       'Akurli Road Number 1', 'Sector-15 Ghansoli', 'Walkeshwar',\n",
       "       'Sector-16 Koparkhairane', 'Carter Road', 'Marine Drive',\n",
       "       'Kasar vadavali', 'Sakinaka Andheri east', 'Ambernath East',\n",
       "       'Lokhandwala', 'nallasopara W', 'Seven Bunglow', 'Babhai Naka',\n",
       "       'Babhai', 'Kastur Park', 'yogi nagar',\n",
       "       'Jayraj Nagar near Yogi Nagar', 'Rabale', 'Virar West',\n",
       "       'Devidas Cross Lane', 'Devidas Rd', 'Ghodbunder Road',\n",
       "       'Kurla West', 'Piramal Nagar Housing Society Road', 'Taloja',\n",
       "       'Suyog Nagar', 'Hendre Pada', 'Peddar Road',\n",
       "       'Sector-19 Koper Khairane', 'Majiwada thane', 'karanjade panvel',\n",
       "       'Saphale', 'Syndicate', 'Sector5 Kopar Khairane',\n",
       "       'Nalasopara East', 'Gulmohar Road', 'Dahisar East',\n",
       "       'vakola santacuz e', 'Dharavi', 'Kapurbawadi', 'Vakola',\n",
       "       'Sector 12 Kharghar', 'Saki Naka'], dtype=object)"
      ]
     },
     "execution_count": 44,
     "metadata": {},
     "output_type": "execute_result"
    }
   ],
   "source": [
    "processed_df.location.unique()"
   ]
  },
  {
   "cell_type": "markdown",
   "id": "203738a5-d44a-448d-9f3b-c570e9a7fad6",
   "metadata": {},
   "source": [
    "## Use-case -- Looking for 2-BHK apartment in Bandra East, what would be the pricing?\n",
    "\n",
    "- Finding ____<price_range>____ for location __<e.g.>___ for __<category>____________ with __________<numBedrooms>_______ bedrooms.\n",
    "- Most pricing are in quartile range from Q1 to Q3"
   ]
  },
  {
   "cell_type": "code",
   "execution_count": 45,
   "id": "2853b881-d471-450f-8d92-f64f0603c9ce",
   "metadata": {},
   "outputs": [
    {
     "data": {
      "text/html": [
       "<div>\n",
       "<style scoped>\n",
       "    .dataframe tbody tr th:only-of-type {\n",
       "        vertical-align: middle;\n",
       "    }\n",
       "\n",
       "    .dataframe tbody tr th {\n",
       "        vertical-align: top;\n",
       "    }\n",
       "\n",
       "    .dataframe thead tr th {\n",
       "        text-align: left;\n",
       "    }\n",
       "\n",
       "    .dataframe thead tr:last-of-type th {\n",
       "        text-align: right;\n",
       "    }\n",
       "</style>\n",
       "<table border=\"1\" class=\"dataframe\">\n",
       "  <thead>\n",
       "    <tr>\n",
       "      <th></th>\n",
       "      <th colspan=\"8\" halign=\"left\">price</th>\n",
       "    </tr>\n",
       "    <tr>\n",
       "      <th></th>\n",
       "      <th>count</th>\n",
       "      <th>mean</th>\n",
       "      <th>std</th>\n",
       "      <th>min</th>\n",
       "      <th>25%</th>\n",
       "      <th>50%</th>\n",
       "      <th>75%</th>\n",
       "      <th>max</th>\n",
       "    </tr>\n",
       "    <tr>\n",
       "      <th>location</th>\n",
       "      <th></th>\n",
       "      <th></th>\n",
       "      <th></th>\n",
       "      <th></th>\n",
       "      <th></th>\n",
       "      <th></th>\n",
       "      <th></th>\n",
       "      <th></th>\n",
       "    </tr>\n",
       "  </thead>\n",
       "  <tbody>\n",
       "    <tr>\n",
       "      <th>Agripada</th>\n",
       "      <td>1.0</td>\n",
       "      <td>100000.000000</td>\n",
       "      <td>NaN</td>\n",
       "      <td>100000.0</td>\n",
       "      <td>100000.0</td>\n",
       "      <td>100000.0</td>\n",
       "      <td>100000.0</td>\n",
       "      <td>100000.0</td>\n",
       "    </tr>\n",
       "    <tr>\n",
       "      <th>Airoli</th>\n",
       "      <td>19.0</td>\n",
       "      <td>31552.631579</td>\n",
       "      <td>5673.757174</td>\n",
       "      <td>19000.0</td>\n",
       "      <td>28750.0</td>\n",
       "      <td>30000.0</td>\n",
       "      <td>37000.0</td>\n",
       "      <td>40000.0</td>\n",
       "    </tr>\n",
       "    <tr>\n",
       "      <th>Ambernath East</th>\n",
       "      <td>5.0</td>\n",
       "      <td>10600.000000</td>\n",
       "      <td>3209.361307</td>\n",
       "      <td>7000.0</td>\n",
       "      <td>8000.0</td>\n",
       "      <td>11000.0</td>\n",
       "      <td>12000.0</td>\n",
       "      <td>15000.0</td>\n",
       "    </tr>\n",
       "    <tr>\n",
       "      <th>Ambernath West</th>\n",
       "      <td>2.0</td>\n",
       "      <td>13500.000000</td>\n",
       "      <td>2121.320344</td>\n",
       "      <td>12000.0</td>\n",
       "      <td>12750.0</td>\n",
       "      <td>13500.0</td>\n",
       "      <td>14250.0</td>\n",
       "      <td>15000.0</td>\n",
       "    </tr>\n",
       "    <tr>\n",
       "      <th>Andheri East</th>\n",
       "      <td>71.0</td>\n",
       "      <td>58671.549296</td>\n",
       "      <td>13482.875345</td>\n",
       "      <td>22000.0</td>\n",
       "      <td>50000.0</td>\n",
       "      <td>57000.0</td>\n",
       "      <td>69500.0</td>\n",
       "      <td>90000.0</td>\n",
       "    </tr>\n",
       "    <tr>\n",
       "      <th>...</th>\n",
       "      <td>...</td>\n",
       "      <td>...</td>\n",
       "      <td>...</td>\n",
       "      <td>...</td>\n",
       "      <td>...</td>\n",
       "      <td>...</td>\n",
       "      <td>...</td>\n",
       "      <td>...</td>\n",
       "    </tr>\n",
       "    <tr>\n",
       "      <th>Wadala</th>\n",
       "      <td>9.0</td>\n",
       "      <td>82233.333333</td>\n",
       "      <td>15045.431200</td>\n",
       "      <td>62000.0</td>\n",
       "      <td>75000.0</td>\n",
       "      <td>85000.0</td>\n",
       "      <td>90000.0</td>\n",
       "      <td>110000.0</td>\n",
       "    </tr>\n",
       "    <tr>\n",
       "      <th>Worli</th>\n",
       "      <td>10.0</td>\n",
       "      <td>121000.000000</td>\n",
       "      <td>28751.811537</td>\n",
       "      <td>80000.0</td>\n",
       "      <td>105000.0</td>\n",
       "      <td>110000.0</td>\n",
       "      <td>150000.0</td>\n",
       "      <td>160000.0</td>\n",
       "    </tr>\n",
       "    <tr>\n",
       "      <th>Yari Road</th>\n",
       "      <td>3.0</td>\n",
       "      <td>68333.333333</td>\n",
       "      <td>7637.626158</td>\n",
       "      <td>60000.0</td>\n",
       "      <td>65000.0</td>\n",
       "      <td>70000.0</td>\n",
       "      <td>72500.0</td>\n",
       "      <td>75000.0</td>\n",
       "    </tr>\n",
       "    <tr>\n",
       "      <th>juhu tara</th>\n",
       "      <td>2.0</td>\n",
       "      <td>220000.000000</td>\n",
       "      <td>56568.542495</td>\n",
       "      <td>180000.0</td>\n",
       "      <td>200000.0</td>\n",
       "      <td>220000.0</td>\n",
       "      <td>240000.0</td>\n",
       "      <td>260000.0</td>\n",
       "    </tr>\n",
       "    <tr>\n",
       "      <th>vile parle west</th>\n",
       "      <td>2.0</td>\n",
       "      <td>85000.000000</td>\n",
       "      <td>14142.135624</td>\n",
       "      <td>75000.0</td>\n",
       "      <td>80000.0</td>\n",
       "      <td>85000.0</td>\n",
       "      <td>90000.0</td>\n",
       "      <td>95000.0</td>\n",
       "    </tr>\n",
       "  </tbody>\n",
       "</table>\n",
       "<p>135 rows × 8 columns</p>\n",
       "</div>"
      ],
      "text/plain": [
       "                price                                                   \\\n",
       "                count           mean           std       min       25%   \n",
       "location                                                                 \n",
       "Agripada          1.0  100000.000000           NaN  100000.0  100000.0   \n",
       "Airoli           19.0   31552.631579   5673.757174   19000.0   28750.0   \n",
       "Ambernath East    5.0   10600.000000   3209.361307    7000.0    8000.0   \n",
       "Ambernath West    2.0   13500.000000   2121.320344   12000.0   12750.0   \n",
       "Andheri East     71.0   58671.549296  13482.875345   22000.0   50000.0   \n",
       "...               ...            ...           ...       ...       ...   \n",
       "Wadala            9.0   82233.333333  15045.431200   62000.0   75000.0   \n",
       "Worli            10.0  121000.000000  28751.811537   80000.0  105000.0   \n",
       "Yari Road         3.0   68333.333333   7637.626158   60000.0   65000.0   \n",
       "juhu tara         2.0  220000.000000  56568.542495  180000.0  200000.0   \n",
       "vile parle west   2.0   85000.000000  14142.135624   75000.0   80000.0   \n",
       "\n",
       "                                               \n",
       "                      50%       75%       max  \n",
       "location                                       \n",
       "Agripada         100000.0  100000.0  100000.0  \n",
       "Airoli            30000.0   37000.0   40000.0  \n",
       "Ambernath East    11000.0   12000.0   15000.0  \n",
       "Ambernath West    13500.0   14250.0   15000.0  \n",
       "Andheri East      57000.0   69500.0   90000.0  \n",
       "...                   ...       ...       ...  \n",
       "Wadala            85000.0   90000.0  110000.0  \n",
       "Worli            110000.0  150000.0  160000.0  \n",
       "Yari Road         70000.0   72500.0   75000.0  \n",
       "juhu tara        220000.0  240000.0  260000.0  \n",
       "vile parle west   85000.0   90000.0   95000.0  \n",
       "\n",
       "[135 rows x 8 columns]"
      ]
     },
     "execution_count": 45,
     "metadata": {},
     "output_type": "execute_result"
    }
   ],
   "source": [
    "processed_df[processed_df['numBedrooms']==2].groupby('location')[['price']].describe()"
   ]
  },
  {
   "cell_type": "code",
   "execution_count": 46,
   "id": "fb3cd1bc-147b-411a-a7ee-eeb3b62e6201",
   "metadata": {},
   "outputs": [
    {
     "data": {
      "application/vnd.plotly.v1+json": {
       "config": {
        "plotlyServerURL": "https://plot.ly"
       },
       "data": [
        {
         "alignmentgroup": "True",
         "hovertemplate": "price=%{y}<extra></extra>",
         "legendgroup": "",
         "marker": {
          "color": "#636efa"
         },
         "name": "",
         "notched": false,
         "offsetgroup": "",
         "orientation": "v",
         "showlegend": false,
         "type": "box",
         "x0": " ",
         "xaxis": "x",
         "y": {
          "bdata": "uIIBAOj9AACwrQEAcBEBAHARAQDY1gAA6P0AANjWAADY1gAA",
          "dtype": "i4"
         },
         "y0": " ",
         "yaxis": "y"
        }
       ],
       "layout": {
        "boxmode": "group",
        "legend": {
         "tracegroupgap": 0
        },
        "margin": {
         "t": 60
        },
        "template": {
         "data": {
          "bar": [
           {
            "error_x": {
             "color": "#2a3f5f"
            },
            "error_y": {
             "color": "#2a3f5f"
            },
            "marker": {
             "line": {
              "color": "#E5ECF6",
              "width": 0.5
             },
             "pattern": {
              "fillmode": "overlay",
              "size": 10,
              "solidity": 0.2
             }
            },
            "type": "bar"
           }
          ],
          "barpolar": [
           {
            "marker": {
             "line": {
              "color": "#E5ECF6",
              "width": 0.5
             },
             "pattern": {
              "fillmode": "overlay",
              "size": 10,
              "solidity": 0.2
             }
            },
            "type": "barpolar"
           }
          ],
          "carpet": [
           {
            "aaxis": {
             "endlinecolor": "#2a3f5f",
             "gridcolor": "white",
             "linecolor": "white",
             "minorgridcolor": "white",
             "startlinecolor": "#2a3f5f"
            },
            "baxis": {
             "endlinecolor": "#2a3f5f",
             "gridcolor": "white",
             "linecolor": "white",
             "minorgridcolor": "white",
             "startlinecolor": "#2a3f5f"
            },
            "type": "carpet"
           }
          ],
          "choropleth": [
           {
            "colorbar": {
             "outlinewidth": 0,
             "ticks": ""
            },
            "type": "choropleth"
           }
          ],
          "contour": [
           {
            "colorbar": {
             "outlinewidth": 0,
             "ticks": ""
            },
            "colorscale": [
             [
              0,
              "#0d0887"
             ],
             [
              0.1111111111111111,
              "#46039f"
             ],
             [
              0.2222222222222222,
              "#7201a8"
             ],
             [
              0.3333333333333333,
              "#9c179e"
             ],
             [
              0.4444444444444444,
              "#bd3786"
             ],
             [
              0.5555555555555556,
              "#d8576b"
             ],
             [
              0.6666666666666666,
              "#ed7953"
             ],
             [
              0.7777777777777778,
              "#fb9f3a"
             ],
             [
              0.8888888888888888,
              "#fdca26"
             ],
             [
              1,
              "#f0f921"
             ]
            ],
            "type": "contour"
           }
          ],
          "contourcarpet": [
           {
            "colorbar": {
             "outlinewidth": 0,
             "ticks": ""
            },
            "type": "contourcarpet"
           }
          ],
          "heatmap": [
           {
            "colorbar": {
             "outlinewidth": 0,
             "ticks": ""
            },
            "colorscale": [
             [
              0,
              "#0d0887"
             ],
             [
              0.1111111111111111,
              "#46039f"
             ],
             [
              0.2222222222222222,
              "#7201a8"
             ],
             [
              0.3333333333333333,
              "#9c179e"
             ],
             [
              0.4444444444444444,
              "#bd3786"
             ],
             [
              0.5555555555555556,
              "#d8576b"
             ],
             [
              0.6666666666666666,
              "#ed7953"
             ],
             [
              0.7777777777777778,
              "#fb9f3a"
             ],
             [
              0.8888888888888888,
              "#fdca26"
             ],
             [
              1,
              "#f0f921"
             ]
            ],
            "type": "heatmap"
           }
          ],
          "histogram": [
           {
            "marker": {
             "pattern": {
              "fillmode": "overlay",
              "size": 10,
              "solidity": 0.2
             }
            },
            "type": "histogram"
           }
          ],
          "histogram2d": [
           {
            "colorbar": {
             "outlinewidth": 0,
             "ticks": ""
            },
            "colorscale": [
             [
              0,
              "#0d0887"
             ],
             [
              0.1111111111111111,
              "#46039f"
             ],
             [
              0.2222222222222222,
              "#7201a8"
             ],
             [
              0.3333333333333333,
              "#9c179e"
             ],
             [
              0.4444444444444444,
              "#bd3786"
             ],
             [
              0.5555555555555556,
              "#d8576b"
             ],
             [
              0.6666666666666666,
              "#ed7953"
             ],
             [
              0.7777777777777778,
              "#fb9f3a"
             ],
             [
              0.8888888888888888,
              "#fdca26"
             ],
             [
              1,
              "#f0f921"
             ]
            ],
            "type": "histogram2d"
           }
          ],
          "histogram2dcontour": [
           {
            "colorbar": {
             "outlinewidth": 0,
             "ticks": ""
            },
            "colorscale": [
             [
              0,
              "#0d0887"
             ],
             [
              0.1111111111111111,
              "#46039f"
             ],
             [
              0.2222222222222222,
              "#7201a8"
             ],
             [
              0.3333333333333333,
              "#9c179e"
             ],
             [
              0.4444444444444444,
              "#bd3786"
             ],
             [
              0.5555555555555556,
              "#d8576b"
             ],
             [
              0.6666666666666666,
              "#ed7953"
             ],
             [
              0.7777777777777778,
              "#fb9f3a"
             ],
             [
              0.8888888888888888,
              "#fdca26"
             ],
             [
              1,
              "#f0f921"
             ]
            ],
            "type": "histogram2dcontour"
           }
          ],
          "mesh3d": [
           {
            "colorbar": {
             "outlinewidth": 0,
             "ticks": ""
            },
            "type": "mesh3d"
           }
          ],
          "parcoords": [
           {
            "line": {
             "colorbar": {
              "outlinewidth": 0,
              "ticks": ""
             }
            },
            "type": "parcoords"
           }
          ],
          "pie": [
           {
            "automargin": true,
            "type": "pie"
           }
          ],
          "scatter": [
           {
            "fillpattern": {
             "fillmode": "overlay",
             "size": 10,
             "solidity": 0.2
            },
            "type": "scatter"
           }
          ],
          "scatter3d": [
           {
            "line": {
             "colorbar": {
              "outlinewidth": 0,
              "ticks": ""
             }
            },
            "marker": {
             "colorbar": {
              "outlinewidth": 0,
              "ticks": ""
             }
            },
            "type": "scatter3d"
           }
          ],
          "scattercarpet": [
           {
            "marker": {
             "colorbar": {
              "outlinewidth": 0,
              "ticks": ""
             }
            },
            "type": "scattercarpet"
           }
          ],
          "scattergeo": [
           {
            "marker": {
             "colorbar": {
              "outlinewidth": 0,
              "ticks": ""
             }
            },
            "type": "scattergeo"
           }
          ],
          "scattergl": [
           {
            "marker": {
             "colorbar": {
              "outlinewidth": 0,
              "ticks": ""
             }
            },
            "type": "scattergl"
           }
          ],
          "scattermap": [
           {
            "marker": {
             "colorbar": {
              "outlinewidth": 0,
              "ticks": ""
             }
            },
            "type": "scattermap"
           }
          ],
          "scattermapbox": [
           {
            "marker": {
             "colorbar": {
              "outlinewidth": 0,
              "ticks": ""
             }
            },
            "type": "scattermapbox"
           }
          ],
          "scatterpolar": [
           {
            "marker": {
             "colorbar": {
              "outlinewidth": 0,
              "ticks": ""
             }
            },
            "type": "scatterpolar"
           }
          ],
          "scatterpolargl": [
           {
            "marker": {
             "colorbar": {
              "outlinewidth": 0,
              "ticks": ""
             }
            },
            "type": "scatterpolargl"
           }
          ],
          "scatterternary": [
           {
            "marker": {
             "colorbar": {
              "outlinewidth": 0,
              "ticks": ""
             }
            },
            "type": "scatterternary"
           }
          ],
          "surface": [
           {
            "colorbar": {
             "outlinewidth": 0,
             "ticks": ""
            },
            "colorscale": [
             [
              0,
              "#0d0887"
             ],
             [
              0.1111111111111111,
              "#46039f"
             ],
             [
              0.2222222222222222,
              "#7201a8"
             ],
             [
              0.3333333333333333,
              "#9c179e"
             ],
             [
              0.4444444444444444,
              "#bd3786"
             ],
             [
              0.5555555555555556,
              "#d8576b"
             ],
             [
              0.6666666666666666,
              "#ed7953"
             ],
             [
              0.7777777777777778,
              "#fb9f3a"
             ],
             [
              0.8888888888888888,
              "#fdca26"
             ],
             [
              1,
              "#f0f921"
             ]
            ],
            "type": "surface"
           }
          ],
          "table": [
           {
            "cells": {
             "fill": {
              "color": "#EBF0F8"
             },
             "line": {
              "color": "white"
             }
            },
            "header": {
             "fill": {
              "color": "#C8D4E3"
             },
             "line": {
              "color": "white"
             }
            },
            "type": "table"
           }
          ]
         },
         "layout": {
          "annotationdefaults": {
           "arrowcolor": "#2a3f5f",
           "arrowhead": 0,
           "arrowwidth": 1
          },
          "autotypenumbers": "strict",
          "coloraxis": {
           "colorbar": {
            "outlinewidth": 0,
            "ticks": ""
           }
          },
          "colorscale": {
           "diverging": [
            [
             0,
             "#8e0152"
            ],
            [
             0.1,
             "#c51b7d"
            ],
            [
             0.2,
             "#de77ae"
            ],
            [
             0.3,
             "#f1b6da"
            ],
            [
             0.4,
             "#fde0ef"
            ],
            [
             0.5,
             "#f7f7f7"
            ],
            [
             0.6,
             "#e6f5d0"
            ],
            [
             0.7,
             "#b8e186"
            ],
            [
             0.8,
             "#7fbc41"
            ],
            [
             0.9,
             "#4d9221"
            ],
            [
             1,
             "#276419"
            ]
           ],
           "sequential": [
            [
             0,
             "#0d0887"
            ],
            [
             0.1111111111111111,
             "#46039f"
            ],
            [
             0.2222222222222222,
             "#7201a8"
            ],
            [
             0.3333333333333333,
             "#9c179e"
            ],
            [
             0.4444444444444444,
             "#bd3786"
            ],
            [
             0.5555555555555556,
             "#d8576b"
            ],
            [
             0.6666666666666666,
             "#ed7953"
            ],
            [
             0.7777777777777778,
             "#fb9f3a"
            ],
            [
             0.8888888888888888,
             "#fdca26"
            ],
            [
             1,
             "#f0f921"
            ]
           ],
           "sequentialminus": [
            [
             0,
             "#0d0887"
            ],
            [
             0.1111111111111111,
             "#46039f"
            ],
            [
             0.2222222222222222,
             "#7201a8"
            ],
            [
             0.3333333333333333,
             "#9c179e"
            ],
            [
             0.4444444444444444,
             "#bd3786"
            ],
            [
             0.5555555555555556,
             "#d8576b"
            ],
            [
             0.6666666666666666,
             "#ed7953"
            ],
            [
             0.7777777777777778,
             "#fb9f3a"
            ],
            [
             0.8888888888888888,
             "#fdca26"
            ],
            [
             1,
             "#f0f921"
            ]
           ]
          },
          "colorway": [
           "#636efa",
           "#EF553B",
           "#00cc96",
           "#ab63fa",
           "#FFA15A",
           "#19d3f3",
           "#FF6692",
           "#B6E880",
           "#FF97FF",
           "#FECB52"
          ],
          "font": {
           "color": "#2a3f5f"
          },
          "geo": {
           "bgcolor": "white",
           "lakecolor": "white",
           "landcolor": "#E5ECF6",
           "showlakes": true,
           "showland": true,
           "subunitcolor": "white"
          },
          "hoverlabel": {
           "align": "left"
          },
          "hovermode": "closest",
          "mapbox": {
           "style": "light"
          },
          "paper_bgcolor": "white",
          "plot_bgcolor": "#E5ECF6",
          "polar": {
           "angularaxis": {
            "gridcolor": "white",
            "linecolor": "white",
            "ticks": ""
           },
           "bgcolor": "#E5ECF6",
           "radialaxis": {
            "gridcolor": "white",
            "linecolor": "white",
            "ticks": ""
           }
          },
          "scene": {
           "xaxis": {
            "backgroundcolor": "#E5ECF6",
            "gridcolor": "white",
            "gridwidth": 2,
            "linecolor": "white",
            "showbackground": true,
            "ticks": "",
            "zerolinecolor": "white"
           },
           "yaxis": {
            "backgroundcolor": "#E5ECF6",
            "gridcolor": "white",
            "gridwidth": 2,
            "linecolor": "white",
            "showbackground": true,
            "ticks": "",
            "zerolinecolor": "white"
           },
           "zaxis": {
            "backgroundcolor": "#E5ECF6",
            "gridcolor": "white",
            "gridwidth": 2,
            "linecolor": "white",
            "showbackground": true,
            "ticks": "",
            "zerolinecolor": "white"
           }
          },
          "shapedefaults": {
           "line": {
            "color": "#2a3f5f"
           }
          },
          "ternary": {
           "aaxis": {
            "gridcolor": "white",
            "linecolor": "white",
            "ticks": ""
           },
           "baxis": {
            "gridcolor": "white",
            "linecolor": "white",
            "ticks": ""
           },
           "bgcolor": "#E5ECF6",
           "caxis": {
            "gridcolor": "white",
            "linecolor": "white",
            "ticks": ""
           }
          },
          "title": {
           "x": 0.05
          },
          "xaxis": {
           "automargin": true,
           "gridcolor": "white",
           "linecolor": "white",
           "ticks": "",
           "title": {
            "standoff": 15
           },
           "zerolinecolor": "white",
           "zerolinewidth": 2
          },
          "yaxis": {
           "automargin": true,
           "gridcolor": "white",
           "linecolor": "white",
           "ticks": "",
           "title": {
            "standoff": 15
           },
           "zerolinecolor": "white",
           "zerolinewidth": 2
          }
         }
        },
        "xaxis": {
         "anchor": "y",
         "domain": [
          0,
          1
         ]
        },
        "yaxis": {
         "anchor": "x",
         "domain": [
          0,
          1
         ],
         "title": {
          "text": "price"
         }
        }
       }
      },
      "image/png": "[encoded data removed]"
     },
     "metadata": {},
     "output_type": "display_data"
    }
   ],
   "source": [
    "get_box_plot(processed_df, plot_parameter=\"price\", numBedrooms=2, category=\"apartment\", location=\"Bandra East\").show()"
   ]
  },
  {
   "cell_type": "code",
   "execution_count": 47,
   "id": "8bc633ab-7a6e-44bd-bcc2-6f56028c9330",
   "metadata": {},
   "outputs": [
    {
     "data": {
      "application/vnd.plotly.v1+json": {
       "config": {
        "plotlyServerURL": "https://plot.ly"
       },
       "data": [
        {
         "alignmentgroup": "True",
         "hovertemplate": "price=%{y}<extra></extra>",
         "legendgroup": "",
         "marker": {
          "color": "#636efa"
         },
         "name": "",
         "notched": false,
         "offsetgroup": "",
         "orientation": "v",
         "showlegend": false,
         "type": "box",
         "x0": " ",
         "xaxis": "x",
         "y": {
          "bdata": "uIIBAOj9AADY1gAA6P0AAA==",
          "dtype": "i4"
         },
         "y0": " ",
         "yaxis": "y"
        }
       ],
       "layout": {
        "boxmode": "group",
        "legend": {
         "tracegroupgap": 0
        },
        "margin": {
         "t": 60
        },
        "template": {
         "data": {
          "bar": [
           {
            "error_x": {
             "color": "#2a3f5f"
            },
            "error_y": {
             "color": "#2a3f5f"
            },
            "marker": {
             "line": {
              "color": "#E5ECF6",
              "width": 0.5
             },
             "pattern": {
              "fillmode": "overlay",
              "size": 10,
              "solidity": 0.2
             }
            },
            "type": "bar"
           }
          ],
          "barpolar": [
           {
            "marker": {
             "line": {
              "color": "#E5ECF6",
              "width": 0.5
             },
             "pattern": {
              "fillmode": "overlay",
              "size": 10,
              "solidity": 0.2
             }
            },
            "type": "barpolar"
           }
          ],
          "carpet": [
           {
            "aaxis": {
             "endlinecolor": "#2a3f5f",
             "gridcolor": "white",
             "linecolor": "white",
             "minorgridcolor": "white",
             "startlinecolor": "#2a3f5f"
            },
            "baxis": {
             "endlinecolor": "#2a3f5f",
             "gridcolor": "white",
             "linecolor": "white",
             "minorgridcolor": "white",
             "startlinecolor": "#2a3f5f"
            },
            "type": "carpet"
           }
          ],
          "choropleth": [
           {
            "colorbar": {
             "outlinewidth": 0,
             "ticks": ""
            },
            "type": "choropleth"
           }
          ],
          "contour": [
           {
            "colorbar": {
             "outlinewidth": 0,
             "ticks": ""
            },
            "colorscale": [
             [
              0,
              "#0d0887"
             ],
             [
              0.1111111111111111,
              "#46039f"
             ],
             [
              0.2222222222222222,
              "#7201a8"
             ],
             [
              0.3333333333333333,
              "#9c179e"
             ],
             [
              0.4444444444444444,
              "#bd3786"
             ],
             [
              0.5555555555555556,
              "#d8576b"
             ],
             [
              0.6666666666666666,
              "#ed7953"
             ],
             [
              0.7777777777777778,
              "#fb9f3a"
             ],
             [
              0.8888888888888888,
              "#fdca26"
             ],
             [
              1,
              "#f0f921"
             ]
            ],
            "type": "contour"
           }
          ],
          "contourcarpet": [
           {
            "colorbar": {
             "outlinewidth": 0,
             "ticks": ""
            },
            "type": "contourcarpet"
           }
          ],
          "heatmap": [
           {
            "colorbar": {
             "outlinewidth": 0,
             "ticks": ""
            },
            "colorscale": [
             [
              0,
              "#0d0887"
             ],
             [
              0.1111111111111111,
              "#46039f"
             ],
             [
              0.2222222222222222,
              "#7201a8"
             ],
             [
              0.3333333333333333,
              "#9c179e"
             ],
             [
              0.4444444444444444,
              "#bd3786"
             ],
             [
              0.5555555555555556,
              "#d8576b"
             ],
             [
              0.6666666666666666,
              "#ed7953"
             ],
             [
              0.7777777777777778,
              "#fb9f3a"
             ],
             [
              0.8888888888888888,
              "#fdca26"
             ],
             [
              1,
              "#f0f921"
             ]
            ],
            "type": "heatmap"
           }
          ],
          "histogram": [
           {
            "marker": {
             "pattern": {
              "fillmode": "overlay",
              "size": 10,
              "solidity": 0.2
             }
            },
            "type": "histogram"
           }
          ],
          "histogram2d": [
           {
            "colorbar": {
             "outlinewidth": 0,
             "ticks": ""
            },
            "colorscale": [
             [
              0,
              "#0d0887"
             ],
             [
              0.1111111111111111,
              "#46039f"
             ],
             [
              0.2222222222222222,
              "#7201a8"
             ],
             [
              0.3333333333333333,
              "#9c179e"
             ],
             [
              0.4444444444444444,
              "#bd3786"
             ],
             [
              0.5555555555555556,
              "#d8576b"
             ],
             [
              0.6666666666666666,
              "#ed7953"
             ],
             [
              0.7777777777777778,
              "#fb9f3a"
             ],
             [
              0.8888888888888888,
              "#fdca26"
             ],
             [
              1,
              "#f0f921"
             ]
            ],
            "type": "histogram2d"
           }
          ],
          "histogram2dcontour": [
           {
            "colorbar": {
             "outlinewidth": 0,
             "ticks": ""
            },
            "colorscale": [
             [
              0,
              "#0d0887"
             ],
             [
              0.1111111111111111,
              "#46039f"
             ],
             [
              0.2222222222222222,
              "#7201a8"
             ],
             [
              0.3333333333333333,
              "#9c179e"
             ],
             [
              0.4444444444444444,
              "#bd3786"
             ],
             [
              0.5555555555555556,
              "#d8576b"
             ],
             [
              0.6666666666666666,
              "#ed7953"
             ],
             [
              0.7777777777777778,
              "#fb9f3a"
             ],
             [
              0.8888888888888888,
              "#fdca26"
             ],
             [
              1,
              "#f0f921"
             ]
            ],
            "type": "histogram2dcontour"
           }
          ],
          "mesh3d": [
           {
            "colorbar": {
             "outlinewidth": 0,
             "ticks": ""
            },
            "type": "mesh3d"
           }
          ],
          "parcoords": [
           {
            "line": {
             "colorbar": {
              "outlinewidth": 0,
              "ticks": ""
             }
            },
            "type": "parcoords"
           }
          ],
          "pie": [
           {
            "automargin": true,
            "type": "pie"
           }
          ],
          "scatter": [
           {
            "fillpattern": {
             "fillmode": "overlay",
             "size": 10,
             "solidity": 0.2
            },
            "type": "scatter"
           }
          ],
          "scatter3d": [
           {
            "line": {
             "colorbar": {
              "outlinewidth": 0,
              "ticks": ""
             }
            },
            "marker": {
             "colorbar": {
              "outlinewidth": 0,
              "ticks": ""
             }
            },
            "type": "scatter3d"
           }
          ],
          "scattercarpet": [
           {
            "marker": {
             "colorbar": {
              "outlinewidth": 0,
              "ticks": ""
             }
            },
            "type": "scattercarpet"
           }
          ],
          "scattergeo": [
           {
            "marker": {
             "colorbar": {
              "outlinewidth": 0,
              "ticks": ""
             }
            },
            "type": "scattergeo"
           }
          ],
          "scattergl": [
           {
            "marker": {
             "colorbar": {
              "outlinewidth": 0,
              "ticks": ""
             }
            },
            "type": "scattergl"
           }
          ],
          "scattermap": [
           {
            "marker": {
             "colorbar": {
              "outlinewidth": 0,
              "ticks": ""
             }
            },
            "type": "scattermap"
           }
          ],
          "scattermapbox": [
           {
            "marker": {
             "colorbar": {
              "outlinewidth": 0,
              "ticks": ""
             }
            },
            "type": "scattermapbox"
           }
          ],
          "scatterpolar": [
           {
            "marker": {
             "colorbar": {
              "outlinewidth": 0,
              "ticks": ""
             }
            },
            "type": "scatterpolar"
           }
          ],
          "scatterpolargl": [
           {
            "marker": {
             "colorbar": {
              "outlinewidth": 0,
              "ticks": ""
             }
            },
            "type": "scatterpolargl"
           }
          ],
          "scatterternary": [
           {
            "marker": {
             "colorbar": {
              "outlinewidth": 0,
              "ticks": ""
             }
            },
            "type": "scatterternary"
           }
          ],
          "surface": [
           {
            "colorbar": {
             "outlinewidth": 0,
             "ticks": ""
            },
            "colorscale": [
             [
              0,
              "#0d0887"
             ],
             [
              0.1111111111111111,
              "#46039f"
             ],
             [
              0.2222222222222222,
              "#7201a8"
             ],
             [
              0.3333333333333333,
              "#9c179e"
             ],
             [
              0.4444444444444444,
              "#bd3786"
             ],
             [
              0.5555555555555556,
              "#d8576b"
             ],
             [
              0.6666666666666666,
              "#ed7953"
             ],
             [
              0.7777777777777778,
              "#fb9f3a"
             ],
             [
              0.8888888888888888,
              "#fdca26"
             ],
             [
              1,
              "#f0f921"
             ]
            ],
            "type": "surface"
           }
          ],
          "table": [
           {
            "cells": {
             "fill": {
              "color": "#EBF0F8"
             },
             "line": {
              "color": "white"
             }
            },
            "header": {
             "fill": {
              "color": "#C8D4E3"
             },
             "line": {
              "color": "white"
             }
            },
            "type": "table"
           }
          ]
         },
         "layout": {
          "annotationdefaults": {
           "arrowcolor": "#2a3f5f",
           "arrowhead": 0,
           "arrowwidth": 1
          },
          "autotypenumbers": "strict",
          "coloraxis": {
           "colorbar": {
            "outlinewidth": 0,
            "ticks": ""
           }
          },
          "colorscale": {
           "diverging": [
            [
             0,
             "#8e0152"
            ],
            [
             0.1,
             "#c51b7d"
            ],
            [
             0.2,
             "#de77ae"
            ],
            [
             0.3,
             "#f1b6da"
            ],
            [
             0.4,
             "#fde0ef"
            ],
            [
             0.5,
             "#f7f7f7"
            ],
            [
             0.6,
             "#e6f5d0"
            ],
            [
             0.7,
             "#b8e186"
            ],
            [
             0.8,
             "#7fbc41"
            ],
            [
             0.9,
             "#4d9221"
            ],
            [
             1,
             "#276419"
            ]
           ],
           "sequential": [
            [
             0,
             "#0d0887"
            ],
            [
             0.1111111111111111,
             "#46039f"
            ],
            [
             0.2222222222222222,
             "#7201a8"
            ],
            [
             0.3333333333333333,
             "#9c179e"
            ],
            [
             0.4444444444444444,
             "#bd3786"
            ],
            [
             0.5555555555555556,
             "#d8576b"
            ],
            [
             0.6666666666666666,
             "#ed7953"
            ],
            [
             0.7777777777777778,
             "#fb9f3a"
            ],
            [
             0.8888888888888888,
             "#fdca26"
            ],
            [
             1,
             "#f0f921"
            ]
           ],
           "sequentialminus": [
            [
             0,
             "#0d0887"
            ],
            [
             0.1111111111111111,
             "#46039f"
            ],
            [
             0.2222222222222222,
             "#7201a8"
            ],
            [
             0.3333333333333333,
             "#9c179e"
            ],
            [
             0.4444444444444444,
             "#bd3786"
            ],
            [
             0.5555555555555556,
             "#d8576b"
            ],
            [
             0.6666666666666666,
             "#ed7953"
            ],
            [
             0.7777777777777778,
             "#fb9f3a"
            ],
            [
             0.8888888888888888,
             "#fdca26"
            ],
            [
             1,
             "#f0f921"
            ]
           ]
          },
          "colorway": [
           "#636efa",
           "#EF553B",
           "#00cc96",
           "#ab63fa",
           "#FFA15A",
           "#19d3f3",
           "#FF6692",
           "#B6E880",
           "#FF97FF",
           "#FECB52"
          ],
          "font": {
           "color": "#2a3f5f"
          },
          "geo": {
           "bgcolor": "white",
           "lakecolor": "white",
           "landcolor": "#E5ECF6",
           "showlakes": true,
           "showland": true,
           "subunitcolor": "white"
          },
          "hoverlabel": {
           "align": "left"
          },
          "hovermode": "closest",
          "mapbox": {
           "style": "light"
          },
          "paper_bgcolor": "white",
          "plot_bgcolor": "#E5ECF6",
          "polar": {
           "angularaxis": {
            "gridcolor": "white",
            "linecolor": "white",
            "ticks": ""
           },
           "bgcolor": "#E5ECF6",
           "radialaxis": {
            "gridcolor": "white",
            "linecolor": "white",
            "ticks": ""
           }
          },
          "scene": {
           "xaxis": {
            "backgroundcolor": "#E5ECF6",
            "gridcolor": "white",
            "gridwidth": 2,
            "linecolor": "white",
            "showbackground": true,
            "ticks": "",
            "zerolinecolor": "white"
           },
           "yaxis": {
            "backgroundcolor": "#E5ECF6",
            "gridcolor": "white",
            "gridwidth": 2,
            "linecolor": "white",
            "showbackground": true,
            "ticks": "",
            "zerolinecolor": "white"
           },
           "zaxis": {
            "backgroundcolor": "#E5ECF6",
            "gridcolor": "white",
            "gridwidth": 2,
            "linecolor": "white",
            "showbackground": true,
            "ticks": "",
            "zerolinecolor": "white"
           }
          },
          "shapedefaults": {
           "line": {
            "color": "#2a3f5f"
           }
          },
          "ternary": {
           "aaxis": {
            "gridcolor": "white",
            "linecolor": "white",
            "ticks": ""
           },
           "baxis": {
            "gridcolor": "white",
            "linecolor": "white",
            "ticks": ""
           },
           "bgcolor": "#E5ECF6",
           "caxis": {
            "gridcolor": "white",
            "linecolor": "white",
            "ticks": ""
           }
          },
          "title": {
           "x": 0.05
          },
          "xaxis": {
           "automargin": true,
           "gridcolor": "white",
           "linecolor": "white",
           "ticks": "",
           "title": {
            "standoff": 15
           },
           "zerolinecolor": "white",
           "zerolinewidth": 2
          },
          "yaxis": {
           "automargin": true,
           "gridcolor": "white",
           "linecolor": "white",
           "ticks": "",
           "title": {
            "standoff": 15
           },
           "zerolinecolor": "white",
           "zerolinewidth": 2
          }
         }
        },
        "xaxis": {
         "anchor": "y",
         "domain": [
          0,
          1
         ]
        },
        "yaxis": {
         "anchor": "x",
         "domain": [
          0,
          1
         ],
         "title": {
          "text": "price"
         }
        }
       }
      },
      "image/png": "[encoded data removed]"
     },
     "metadata": {},
     "output_type": "display_data"
    }
   ],
   "source": [
    "get_box_plot(processed_df, plot_parameter=\"price\", numBedrooms=2, category=\"apartment\", location=\"Bandra East\", Status=\"Furnished\").show()"
   ]
  },
  {
   "cell_type": "code",
   "execution_count": 48,
   "id": "846739c8-9ab9-4673-a106-fae6869b4e12",
   "metadata": {},
   "outputs": [
    {
     "data": {
      "text/html": [
       "<div>\n",
       "<style scoped>\n",
       "    .dataframe tbody tr th:only-of-type {\n",
       "        vertical-align: middle;\n",
       "    }\n",
       "\n",
       "    .dataframe tbody tr th {\n",
       "        vertical-align: top;\n",
       "    }\n",
       "\n",
       "    .dataframe thead th {\n",
       "        text-align: right;\n",
       "    }\n",
       "</style>\n",
       "<table border=\"1\" class=\"dataframe\">\n",
       "  <thead>\n",
       "    <tr style=\"text-align: right;\">\n",
       "      <th></th>\n",
       "      <th>house_type</th>\n",
       "      <th>house_size</th>\n",
       "      <th>location</th>\n",
       "      <th>price</th>\n",
       "      <th>numBalconies</th>\n",
       "      <th>numBathrooms</th>\n",
       "      <th>SecurityDeposit</th>\n",
       "      <th>category</th>\n",
       "      <th>numBedrooms</th>\n",
       "      <th>ratio_per_room</th>\n",
       "      <th>PricePerSqft</th>\n",
       "    </tr>\n",
       "    <tr>\n",
       "      <th>Status</th>\n",
       "      <th></th>\n",
       "      <th></th>\n",
       "      <th></th>\n",
       "      <th></th>\n",
       "      <th></th>\n",
       "      <th></th>\n",
       "      <th></th>\n",
       "      <th></th>\n",
       "      <th></th>\n",
       "      <th></th>\n",
       "      <th></th>\n",
       "    </tr>\n",
       "  </thead>\n",
       "  <tbody>\n",
       "    <tr>\n",
       "      <th>Furnished</th>\n",
       "      <td>6</td>\n",
       "      <td>6</td>\n",
       "      <td>6</td>\n",
       "      <td>6</td>\n",
       "      <td>0</td>\n",
       "      <td>6</td>\n",
       "      <td>6</td>\n",
       "      <td>6</td>\n",
       "      <td>6</td>\n",
       "      <td>6</td>\n",
       "      <td>6</td>\n",
       "    </tr>\n",
       "    <tr>\n",
       "      <th>Semi-Furnished</th>\n",
       "      <td>6</td>\n",
       "      <td>6</td>\n",
       "      <td>6</td>\n",
       "      <td>6</td>\n",
       "      <td>1</td>\n",
       "      <td>6</td>\n",
       "      <td>6</td>\n",
       "      <td>6</td>\n",
       "      <td>6</td>\n",
       "      <td>6</td>\n",
       "      <td>6</td>\n",
       "    </tr>\n",
       "    <tr>\n",
       "      <th>Unfurnished</th>\n",
       "      <td>2</td>\n",
       "      <td>2</td>\n",
       "      <td>2</td>\n",
       "      <td>2</td>\n",
       "      <td>1</td>\n",
       "      <td>2</td>\n",
       "      <td>2</td>\n",
       "      <td>2</td>\n",
       "      <td>2</td>\n",
       "      <td>2</td>\n",
       "      <td>2</td>\n",
       "    </tr>\n",
       "  </tbody>\n",
       "</table>\n",
       "</div>"
      ],
      "text/plain": [
       "                house_type  house_size  location  price  numBalconies  \\\n",
       "Status                                                                  \n",
       "Furnished                6           6         6      6             0   \n",
       "Semi-Furnished           6           6         6      6             1   \n",
       "Unfurnished              2           2         2      2             1   \n",
       "\n",
       "                numBathrooms  SecurityDeposit  category  numBedrooms  \\\n",
       "Status                                                                 \n",
       "Furnished                  6                6         6            6   \n",
       "Semi-Furnished             6                6         6            6   \n",
       "Unfurnished                2                2         2            2   \n",
       "\n",
       "                ratio_per_room  PricePerSqft  \n",
       "Status                                        \n",
       "Furnished                    6             6  \n",
       "Semi-Furnished               6             6  \n",
       "Unfurnished                  2             2  "
      ]
     },
     "execution_count": 48,
     "metadata": {},
     "output_type": "execute_result"
    }
   ],
   "source": [
    "processed_df[processed_df[\"location\"]==\"Bandra East\"].groupby(\"Status\").count()"
   ]
  },
  {
   "cell_type": "code",
   "execution_count": 49,
   "id": "d7253a5b-a573-4a8c-be24-c49623b3c209",
   "metadata": {},
   "outputs": [
    {
     "data": {
      "application/vnd.plotly.v1+json": {
       "config": {
        "plotlyServerURL": "https://plot.ly"
       },
       "data": [
        {
         "alignmentgroup": "True",
         "hovertemplate": "price=%{y}<extra></extra>",
         "legendgroup": "",
         "marker": {
          "color": "#636efa"
         },
         "name": "",
         "notched": false,
         "offsetgroup": "",
         "orientation": "v",
         "showlegend": false,
         "type": "box",
         "x0": " ",
         "xaxis": "x",
         "y": {
          "bdata": "sK0BAHARAQBwEQEA",
          "dtype": "i4"
         },
         "y0": " ",
         "yaxis": "y"
        }
       ],
       "layout": {
        "boxmode": "group",
        "legend": {
         "tracegroupgap": 0
        },
        "margin": {
         "t": 60
        },
        "template": {
         "data": {
          "bar": [
           {
            "error_x": {
             "color": "#2a3f5f"
            },
            "error_y": {
             "color": "#2a3f5f"
            },
            "marker": {
             "line": {
              "color": "#E5ECF6",
              "width": 0.5
             },
             "pattern": {
              "fillmode": "overlay",
              "size": 10,
              "solidity": 0.2
             }
            },
            "type": "bar"
           }
          ],
          "barpolar": [
           {
            "marker": {
             "line": {
              "color": "#E5ECF6",
              "width": 0.5
             },
             "pattern": {
              "fillmode": "overlay",
              "size": 10,
              "solidity": 0.2
             }
            },
            "type": "barpolar"
           }
          ],
          "carpet": [
           {
            "aaxis": {
             "endlinecolor": "#2a3f5f",
             "gridcolor": "white",
             "linecolor": "white",
             "minorgridcolor": "white",
             "startlinecolor": "#2a3f5f"
            },
            "baxis": {
             "endlinecolor": "#2a3f5f",
             "gridcolor": "white",
             "linecolor": "white",
             "minorgridcolor": "white",
             "startlinecolor": "#2a3f5f"
            },
            "type": "carpet"
           }
          ],
          "choropleth": [
           {
            "colorbar": {
             "outlinewidth": 0,
             "ticks": ""
            },
            "type": "choropleth"
           }
          ],
          "contour": [
           {
            "colorbar": {
             "outlinewidth": 0,
             "ticks": ""
            },
            "colorscale": [
             [
              0,
              "#0d0887"
             ],
             [
              0.1111111111111111,
              "#46039f"
             ],
             [
              0.2222222222222222,
              "#7201a8"
             ],
             [
              0.3333333333333333,
              "#9c179e"
             ],
             [
              0.4444444444444444,
              "#bd3786"
             ],
             [
              0.5555555555555556,
              "#d8576b"
             ],
             [
              0.6666666666666666,
              "#ed7953"
             ],
             [
              0.7777777777777778,
              "#fb9f3a"
             ],
             [
              0.8888888888888888,
              "#fdca26"
             ],
             [
              1,
              "#f0f921"
             ]
            ],
            "type": "contour"
           }
          ],
          "contourcarpet": [
           {
            "colorbar": {
             "outlinewidth": 0,
             "ticks": ""
            },
            "type": "contourcarpet"
           }
          ],
          "heatmap": [
           {
            "colorbar": {
             "outlinewidth": 0,
             "ticks": ""
            },
            "colorscale": [
             [
              0,
              "#0d0887"
             ],
             [
              0.1111111111111111,
              "#46039f"
             ],
             [
              0.2222222222222222,
              "#7201a8"
             ],
             [
              0.3333333333333333,
              "#9c179e"
             ],
             [
              0.4444444444444444,
              "#bd3786"
             ],
             [
              0.5555555555555556,
              "#d8576b"
             ],
             [
              0.6666666666666666,
              "#ed7953"
             ],
             [
              0.7777777777777778,
              "#fb9f3a"
             ],
             [
              0.8888888888888888,
              "#fdca26"
             ],
             [
              1,
              "#f0f921"
             ]
            ],
            "type": "heatmap"
           }
          ],
          "histogram": [
           {
            "marker": {
             "pattern": {
              "fillmode": "overlay",
              "size": 10,
              "solidity": 0.2
             }
            },
            "type": "histogram"
           }
          ],
          "histogram2d": [
           {
            "colorbar": {
             "outlinewidth": 0,
             "ticks": ""
            },
            "colorscale": [
             [
              0,
              "#0d0887"
             ],
             [
              0.1111111111111111,
              "#46039f"
             ],
             [
              0.2222222222222222,
              "#7201a8"
             ],
             [
              0.3333333333333333,
              "#9c179e"
             ],
             [
              0.4444444444444444,
              "#bd3786"
             ],
             [
              0.5555555555555556,
              "#d8576b"
             ],
             [
              0.6666666666666666,
              "#ed7953"
             ],
             [
              0.7777777777777778,
              "#fb9f3a"
             ],
             [
              0.8888888888888888,
              "#fdca26"
             ],
             [
              1,
              "#f0f921"
             ]
            ],
            "type": "histogram2d"
           }
          ],
          "histogram2dcontour": [
           {
            "colorbar": {
             "outlinewidth": 0,
             "ticks": ""
            },
            "colorscale": [
             [
              0,
              "#0d0887"
             ],
             [
              0.1111111111111111,
              "#46039f"
             ],
             [
              0.2222222222222222,
              "#7201a8"
             ],
             [
              0.3333333333333333,
              "#9c179e"
             ],
             [
              0.4444444444444444,
              "#bd3786"
             ],
             [
              0.5555555555555556,
              "#d8576b"
             ],
             [
              0.6666666666666666,
              "#ed7953"
             ],
             [
              0.7777777777777778,
              "#fb9f3a"
             ],
             [
              0.8888888888888888,
              "#fdca26"
             ],
             [
              1,
              "#f0f921"
             ]
            ],
            "type": "histogram2dcontour"
           }
          ],
          "mesh3d": [
           {
            "colorbar": {
             "outlinewidth": 0,
             "ticks": ""
            },
            "type": "mesh3d"
           }
          ],
          "parcoords": [
           {
            "line": {
             "colorbar": {
              "outlinewidth": 0,
              "ticks": ""
             }
            },
            "type": "parcoords"
           }
          ],
          "pie": [
           {
            "automargin": true,
            "type": "pie"
           }
          ],
          "scatter": [
           {
            "fillpattern": {
             "fillmode": "overlay",
             "size": 10,
             "solidity": 0.2
            },
            "type": "scatter"
           }
          ],
          "scatter3d": [
           {
            "line": {
             "colorbar": {
              "outlinewidth": 0,
              "ticks": ""
             }
            },
            "marker": {
             "colorbar": {
              "outlinewidth": 0,
              "ticks": ""
             }
            },
            "type": "scatter3d"
           }
          ],
          "scattercarpet": [
           {
            "marker": {
             "colorbar": {
              "outlinewidth": 0,
              "ticks": ""
             }
            },
            "type": "scattercarpet"
           }
          ],
          "scattergeo": [
           {
            "marker": {
             "colorbar": {
              "outlinewidth": 0,
              "ticks": ""
             }
            },
            "type": "scattergeo"
           }
          ],
          "scattergl": [
           {
            "marker": {
             "colorbar": {
              "outlinewidth": 0,
              "ticks": ""
             }
            },
            "type": "scattergl"
           }
          ],
          "scattermap": [
           {
            "marker": {
             "colorbar": {
              "outlinewidth": 0,
              "ticks": ""
             }
            },
            "type": "scattermap"
           }
          ],
          "scattermapbox": [
           {
            "marker": {
             "colorbar": {
              "outlinewidth": 0,
              "ticks": ""
             }
            },
            "type": "scattermapbox"
           }
          ],
          "scatterpolar": [
           {
            "marker": {
             "colorbar": {
              "outlinewidth": 0,
              "ticks": ""
             }
            },
            "type": "scatterpolar"
           }
          ],
          "scatterpolargl": [
           {
            "marker": {
             "colorbar": {
              "outlinewidth": 0,
              "ticks": ""
             }
            },
            "type": "scatterpolargl"
           }
          ],
          "scatterternary": [
           {
            "marker": {
             "colorbar": {
              "outlinewidth": 0,
              "ticks": ""
             }
            },
            "type": "scatterternary"
           }
          ],
          "surface": [
           {
            "colorbar": {
             "outlinewidth": 0,
             "ticks": ""
            },
            "colorscale": [
             [
              0,
              "#0d0887"
             ],
             [
              0.1111111111111111,
              "#46039f"
             ],
             [
              0.2222222222222222,
              "#7201a8"
             ],
             [
              0.3333333333333333,
              "#9c179e"
             ],
             [
              0.4444444444444444,
              "#bd3786"
             ],
             [
              0.5555555555555556,
              "#d8576b"
             ],
             [
              0.6666666666666666,
              "#ed7953"
             ],
             [
              0.7777777777777778,
              "#fb9f3a"
             ],
             [
              0.8888888888888888,
              "#fdca26"
             ],
             [
              1,
              "#f0f921"
             ]
            ],
            "type": "surface"
           }
          ],
          "table": [
           {
            "cells": {
             "fill": {
              "color": "#EBF0F8"
             },
             "line": {
              "color": "white"
             }
            },
            "header": {
             "fill": {
              "color": "#C8D4E3"
             },
             "line": {
              "color": "white"
             }
            },
            "type": "table"
           }
          ]
         },
         "layout": {
          "annotationdefaults": {
           "arrowcolor": "#2a3f5f",
           "arrowhead": 0,
           "arrowwidth": 1
          },
          "autotypenumbers": "strict",
          "coloraxis": {
           "colorbar": {
            "outlinewidth": 0,
            "ticks": ""
           }
          },
          "colorscale": {
           "diverging": [
            [
             0,
             "#8e0152"
            ],
            [
             0.1,
             "#c51b7d"
            ],
            [
             0.2,
             "#de77ae"
            ],
            [
             0.3,
             "#f1b6da"
            ],
            [
             0.4,
             "#fde0ef"
            ],
            [
             0.5,
             "#f7f7f7"
            ],
            [
             0.6,
             "#e6f5d0"
            ],
            [
             0.7,
             "#b8e186"
            ],
            [
             0.8,
             "#7fbc41"
            ],
            [
             0.9,
             "#4d9221"
            ],
            [
             1,
             "#276419"
            ]
           ],
           "sequential": [
            [
             0,
             "#0d0887"
            ],
            [
             0.1111111111111111,
             "#46039f"
            ],
            [
             0.2222222222222222,
             "#7201a8"
            ],
            [
             0.3333333333333333,
             "#9c179e"
            ],
            [
             0.4444444444444444,
             "#bd3786"
            ],
            [
             0.5555555555555556,
             "#d8576b"
            ],
            [
             0.6666666666666666,
             "#ed7953"
            ],
            [
             0.7777777777777778,
             "#fb9f3a"
            ],
            [
             0.8888888888888888,
             "#fdca26"
            ],
            [
             1,
             "#f0f921"
            ]
           ],
           "sequentialminus": [
            [
             0,
             "#0d0887"
            ],
            [
             0.1111111111111111,
             "#46039f"
            ],
            [
             0.2222222222222222,
             "#7201a8"
            ],
            [
             0.3333333333333333,
             "#9c179e"
            ],
            [
             0.4444444444444444,
             "#bd3786"
            ],
            [
             0.5555555555555556,
             "#d8576b"
            ],
            [
             0.6666666666666666,
             "#ed7953"
            ],
            [
             0.7777777777777778,
             "#fb9f3a"
            ],
            [
             0.8888888888888888,
             "#fdca26"
            ],
            [
             1,
             "#f0f921"
            ]
           ]
          },
          "colorway": [
           "#636efa",
           "#EF553B",
           "#00cc96",
           "#ab63fa",
           "#FFA15A",
           "#19d3f3",
           "#FF6692",
           "#B6E880",
           "#FF97FF",
           "#FECB52"
          ],
          "font": {
           "color": "#2a3f5f"
          },
          "geo": {
           "bgcolor": "white",
           "lakecolor": "white",
           "landcolor": "#E5ECF6",
           "showlakes": true,
           "showland": true,
           "subunitcolor": "white"
          },
          "hoverlabel": {
           "align": "left"
          },
          "hovermode": "closest",
          "mapbox": {
           "style": "light"
          },
          "paper_bgcolor": "white",
          "plot_bgcolor": "#E5ECF6",
          "polar": {
           "angularaxis": {
            "gridcolor": "white",
            "linecolor": "white",
            "ticks": ""
           },
           "bgcolor": "#E5ECF6",
           "radialaxis": {
            "gridcolor": "white",
            "linecolor": "white",
            "ticks": ""
           }
          },
          "scene": {
           "xaxis": {
            "backgroundcolor": "#E5ECF6",
            "gridcolor": "white",
            "gridwidth": 2,
            "linecolor": "white",
            "showbackground": true,
            "ticks": "",
            "zerolinecolor": "white"
           },
           "yaxis": {
            "backgroundcolor": "#E5ECF6",
            "gridcolor": "white",
            "gridwidth": 2,
            "linecolor": "white",
            "showbackground": true,
            "ticks": "",
            "zerolinecolor": "white"
           },
           "zaxis": {
            "backgroundcolor": "#E5ECF6",
            "gridcolor": "white",
            "gridwidth": 2,
            "linecolor": "white",
            "showbackground": true,
            "ticks": "",
            "zerolinecolor": "white"
           }
          },
          "shapedefaults": {
           "line": {
            "color": "#2a3f5f"
           }
          },
          "ternary": {
           "aaxis": {
            "gridcolor": "white",
            "linecolor": "white",
            "ticks": ""
           },
           "baxis": {
            "gridcolor": "white",
            "linecolor": "white",
            "ticks": ""
           },
           "bgcolor": "#E5ECF6",
           "caxis": {
            "gridcolor": "white",
            "linecolor": "white",
            "ticks": ""
           }
          },
          "title": {
           "x": 0.05
          },
          "xaxis": {
           "automargin": true,
           "gridcolor": "white",
           "linecolor": "white",
           "ticks": "",
           "title": {
            "standoff": 15
           },
           "zerolinecolor": "white",
           "zerolinewidth": 2
          },
          "yaxis": {
           "automargin": true,
           "gridcolor": "white",
           "linecolor": "white",
           "ticks": "",
           "title": {
            "standoff": 15
           },
           "zerolinecolor": "white",
           "zerolinewidth": 2
          }
         }
        },
        "xaxis": {
         "anchor": "y",
         "domain": [
          0,
          1
         ]
        },
        "yaxis": {
         "anchor": "x",
         "domain": [
          0,
          1
         ],
         "title": {
          "text": "price"
         }
        }
       }
      },
      "image/png": "[encoded data removed]"
     },
     "metadata": {},
     "output_type": "display_data"
    }
   ],
   "source": [
    "get_box_plot(processed_df, plot_parameter=\"price\", numBedrooms=2, category=\"apartment\", location=\"Bandra East\", Status=\"Semi-Furnished\").show()"
   ]
  },
  {
   "cell_type": "markdown",
   "id": "7cc75c8d-8470-404b-b548-2e2f0922e5d5",
   "metadata": {},
   "source": [
    "## Top 10 costliest/premium area\n",
    "\n",
    "- No of have Balconies  --- Higher the better\n",
    "- No of have Bedrooms --- Higher the better\n",
    "- Cateogy of -- villa or penthouse or independent floor\n",
    "- Furnished/Semi-Furnished"
   ]
  },
  {
   "cell_type": "code",
   "execution_count": 50,
   "id": "7382e142-6e8a-4058-b78f-8a6fb15ea739",
   "metadata": {},
   "outputs": [
    {
     "data": {
      "text/plain": [
       "np.float64(2.0)"
      ]
     },
     "execution_count": 50,
     "metadata": {},
     "output_type": "execute_result"
    }
   ],
   "source": [
    "processed_df[processed_df[\"location\"]==\"Bandra East\"].numBedrooms.median()"
   ]
  },
  {
   "cell_type": "code",
   "execution_count": 51,
   "id": "d9a12e4c-a7b5-4481-9363-d4fa0adfb499",
   "metadata": {},
   "outputs": [
    {
     "data": {
      "text/plain": [
       "np.int64(4)"
      ]
     },
     "execution_count": 51,
     "metadata": {},
     "output_type": "execute_result"
    }
   ],
   "source": [
    "processed_df[processed_df[\"location\"]==\"Bandra East\"].numBedrooms.max()"
   ]
  },
  {
   "cell_type": "code",
   "execution_count": 52,
   "id": "1b124309-1122-4e5e-b30b-b814db214241",
   "metadata": {},
   "outputs": [
    {
     "data": {
      "text/html": [
       "<div>\n",
       "<style scoped>\n",
       "    .dataframe tbody tr th:only-of-type {\n",
       "        vertical-align: middle;\n",
       "    }\n",
       "\n",
       "    .dataframe tbody tr th {\n",
       "        vertical-align: top;\n",
       "    }\n",
       "\n",
       "    .dataframe thead th {\n",
       "        text-align: right;\n",
       "    }\n",
       "</style>\n",
       "<table border=\"1\" class=\"dataframe\">\n",
       "  <thead>\n",
       "    <tr style=\"text-align: right;\">\n",
       "      <th></th>\n",
       "      <th>house_type</th>\n",
       "      <th>house_size</th>\n",
       "      <th>price</th>\n",
       "      <th>numBalconies</th>\n",
       "      <th>numBathrooms</th>\n",
       "      <th>SecurityDeposit</th>\n",
       "      <th>Status</th>\n",
       "      <th>category</th>\n",
       "      <th>numBedrooms</th>\n",
       "      <th>ratio_per_room</th>\n",
       "      <th>PricePerSqft</th>\n",
       "    </tr>\n",
       "    <tr>\n",
       "      <th>location</th>\n",
       "      <th></th>\n",
       "      <th></th>\n",
       "      <th></th>\n",
       "      <th></th>\n",
       "      <th></th>\n",
       "      <th></th>\n",
       "      <th></th>\n",
       "      <th></th>\n",
       "      <th></th>\n",
       "      <th></th>\n",
       "      <th></th>\n",
       "    </tr>\n",
       "  </thead>\n",
       "  <tbody>\n",
       "    <tr>\n",
       "      <th>Aarya Chanakya Nagar</th>\n",
       "      <td>1</td>\n",
       "      <td>1</td>\n",
       "      <td>1</td>\n",
       "      <td>0</td>\n",
       "      <td>1</td>\n",
       "      <td>1</td>\n",
       "      <td>1</td>\n",
       "      <td>1</td>\n",
       "      <td>1</td>\n",
       "      <td>1</td>\n",
       "      <td>1</td>\n",
       "    </tr>\n",
       "    <tr>\n",
       "      <th>Akurli Road</th>\n",
       "      <td>1</td>\n",
       "      <td>1</td>\n",
       "      <td>1</td>\n",
       "      <td>0</td>\n",
       "      <td>1</td>\n",
       "      <td>1</td>\n",
       "      <td>1</td>\n",
       "      <td>1</td>\n",
       "      <td>1</td>\n",
       "      <td>1</td>\n",
       "      <td>1</td>\n",
       "    </tr>\n",
       "    <tr>\n",
       "      <th>Akurli Road Number 1</th>\n",
       "      <td>1</td>\n",
       "      <td>1</td>\n",
       "      <td>1</td>\n",
       "      <td>0</td>\n",
       "      <td>1</td>\n",
       "      <td>1</td>\n",
       "      <td>1</td>\n",
       "      <td>1</td>\n",
       "      <td>1</td>\n",
       "      <td>1</td>\n",
       "      <td>1</td>\n",
       "    </tr>\n",
       "    <tr>\n",
       "      <th>Babhai</th>\n",
       "      <td>1</td>\n",
       "      <td>1</td>\n",
       "      <td>1</td>\n",
       "      <td>0</td>\n",
       "      <td>1</td>\n",
       "      <td>1</td>\n",
       "      <td>1</td>\n",
       "      <td>1</td>\n",
       "      <td>1</td>\n",
       "      <td>1</td>\n",
       "      <td>1</td>\n",
       "    </tr>\n",
       "    <tr>\n",
       "      <th>Antarli</th>\n",
       "      <td>1</td>\n",
       "      <td>1</td>\n",
       "      <td>1</td>\n",
       "      <td>0</td>\n",
       "      <td>1</td>\n",
       "      <td>1</td>\n",
       "      <td>1</td>\n",
       "      <td>1</td>\n",
       "      <td>1</td>\n",
       "      <td>1</td>\n",
       "      <td>1</td>\n",
       "    </tr>\n",
       "    <tr>\n",
       "      <th>...</th>\n",
       "      <td>...</td>\n",
       "      <td>...</td>\n",
       "      <td>...</td>\n",
       "      <td>...</td>\n",
       "      <td>...</td>\n",
       "      <td>...</td>\n",
       "      <td>...</td>\n",
       "      <td>...</td>\n",
       "      <td>...</td>\n",
       "      <td>...</td>\n",
       "      <td>...</td>\n",
       "    </tr>\n",
       "    <tr>\n",
       "      <th>Ghansoli</th>\n",
       "      <td>196</td>\n",
       "      <td>196</td>\n",
       "      <td>196</td>\n",
       "      <td>149</td>\n",
       "      <td>196</td>\n",
       "      <td>196</td>\n",
       "      <td>196</td>\n",
       "      <td>196</td>\n",
       "      <td>196</td>\n",
       "      <td>196</td>\n",
       "      <td>196</td>\n",
       "    </tr>\n",
       "    <tr>\n",
       "      <th>Kharghar</th>\n",
       "      <td>255</td>\n",
       "      <td>255</td>\n",
       "      <td>255</td>\n",
       "      <td>57</td>\n",
       "      <td>254</td>\n",
       "      <td>255</td>\n",
       "      <td>255</td>\n",
       "      <td>255</td>\n",
       "      <td>255</td>\n",
       "      <td>255</td>\n",
       "      <td>255</td>\n",
       "    </tr>\n",
       "    <tr>\n",
       "      <th>Andheri East</th>\n",
       "      <td>284</td>\n",
       "      <td>284</td>\n",
       "      <td>284</td>\n",
       "      <td>8</td>\n",
       "      <td>284</td>\n",
       "      <td>284</td>\n",
       "      <td>284</td>\n",
       "      <td>284</td>\n",
       "      <td>284</td>\n",
       "      <td>284</td>\n",
       "      <td>284</td>\n",
       "    </tr>\n",
       "    <tr>\n",
       "      <th>Thane West</th>\n",
       "      <td>287</td>\n",
       "      <td>287</td>\n",
       "      <td>287</td>\n",
       "      <td>33</td>\n",
       "      <td>287</td>\n",
       "      <td>287</td>\n",
       "      <td>287</td>\n",
       "      <td>287</td>\n",
       "      <td>287</td>\n",
       "      <td>287</td>\n",
       "      <td>287</td>\n",
       "    </tr>\n",
       "    <tr>\n",
       "      <th>Andheri West</th>\n",
       "      <td>362</td>\n",
       "      <td>362</td>\n",
       "      <td>362</td>\n",
       "      <td>71</td>\n",
       "      <td>361</td>\n",
       "      <td>362</td>\n",
       "      <td>362</td>\n",
       "      <td>362</td>\n",
       "      <td>362</td>\n",
       "      <td>362</td>\n",
       "      <td>362</td>\n",
       "    </tr>\n",
       "  </tbody>\n",
       "</table>\n",
       "<p>189 rows × 11 columns</p>\n",
       "</div>"
      ],
      "text/plain": [
       "                      house_type  house_size  price  numBalconies  \\\n",
       "location                                                            \n",
       "Aarya Chanakya Nagar           1           1      1             0   \n",
       "Akurli Road                    1           1      1             0   \n",
       "Akurli Road Number 1           1           1      1             0   \n",
       "Babhai                         1           1      1             0   \n",
       "Antarli                        1           1      1             0   \n",
       "...                          ...         ...    ...           ...   \n",
       "Ghansoli                     196         196    196           149   \n",
       "Kharghar                     255         255    255            57   \n",
       "Andheri East                 284         284    284             8   \n",
       "Thane West                   287         287    287            33   \n",
       "Andheri West                 362         362    362            71   \n",
       "\n",
       "                      numBathrooms  SecurityDeposit  Status  category  \\\n",
       "location                                                                \n",
       "Aarya Chanakya Nagar             1                1       1         1   \n",
       "Akurli Road                      1                1       1         1   \n",
       "Akurli Road Number 1             1                1       1         1   \n",
       "Babhai                           1                1       1         1   \n",
       "Antarli                          1                1       1         1   \n",
       "...                            ...              ...     ...       ...   \n",
       "Ghansoli                       196              196     196       196   \n",
       "Kharghar                       254              255     255       255   \n",
       "Andheri East                   284              284     284       284   \n",
       "Thane West                     287              287     287       287   \n",
       "Andheri West                   361              362     362       362   \n",
       "\n",
       "                      numBedrooms  ratio_per_room  PricePerSqft  \n",
       "location                                                         \n",
       "Aarya Chanakya Nagar            1               1             1  \n",
       "Akurli Road                     1               1             1  \n",
       "Akurli Road Number 1            1               1             1  \n",
       "Babhai                          1               1             1  \n",
       "Antarli                         1               1             1  \n",
       "...                           ...             ...           ...  \n",
       "Ghansoli                      196             196           196  \n",
       "Kharghar                      255             255           255  \n",
       "Andheri East                  284             284           284  \n",
       "Thane West                    287             287           287  \n",
       "Andheri West                  362             362           362  \n",
       "\n",
       "[189 rows x 11 columns]"
      ]
     },
     "execution_count": 52,
     "metadata": {},
     "output_type": "execute_result"
    }
   ],
   "source": [
    "processed_df.groupby(\"location\").count().sort_values(by=['house_type'])"
   ]
  },
  {
   "cell_type": "code",
   "execution_count": 53,
   "id": "144c3bf6-bb1f-4e41-a02e-666f7a41e5c9",
   "metadata": {},
   "outputs": [
    {
     "data": {
      "text/plain": [
       "location\n",
       "Churchgate           4.0\n",
       "Marine Drive         4.0\n",
       "Walkeshwar           4.0\n",
       "Jacob Circle         4.0\n",
       "Gamdevi              3.5\n",
       "Gulmohar Road        3.0\n",
       "Lower Parel          3.0\n",
       "matunga east         3.0\n",
       "Worli                3.0\n",
       "vakola santacuz e    3.0\n",
       "Name: numBedrooms, dtype: float64"
      ]
     },
     "execution_count": 53,
     "metadata": {},
     "output_type": "execute_result"
    }
   ],
   "source": [
    "median_distribution_bedrooms = processed_df.groupby(\"location\")[\"numBedrooms\"].median().sort_values(ascending=False)\n",
    "median_distribution_bedrooms.head(10)"
   ]
  },
  {
   "cell_type": "code",
   "execution_count": 54,
   "id": "1ae53381-6b0a-4e86-9781-f4a4915504bc",
   "metadata": {},
   "outputs": [
    {
     "data": {
      "text/plain": [
       "location\n",
       "Churchgate           4.0\n",
       "Marine Drive         4.0\n",
       "Walkeshwar           4.0\n",
       "Jacob Circle         4.0\n",
       "Gamdevi              3.5\n",
       "Gulmohar Road        3.0\n",
       "Lower Parel          3.0\n",
       "matunga east         3.0\n",
       "Worli                3.0\n",
       "vakola santacuz e    3.0\n",
       "Name: numBedrooms, dtype: float64"
      ]
     },
     "execution_count": 54,
     "metadata": {},
     "output_type": "execute_result"
    }
   ],
   "source": [
    "mean_distribution_bedrooms = processed_df.groupby(\"location\")[\"numBedrooms\"].median().sort_values(ascending=False)\n",
    "mean_distribution_bedrooms.head(10)"
   ]
  },
  {
   "cell_type": "code",
   "execution_count": 55,
   "id": "4e7cee95-df8f-4542-af8f-98f6e1d83c28",
   "metadata": {},
   "outputs": [
    {
     "data": {
      "text/plain": [
       "location\n",
       "Jacob Circle    237500.000000\n",
       "Marine Drive    131250.000000\n",
       "Walkeshwar      131250.000000\n",
       "juhu tara       125000.000000\n",
       "Churchgate      125000.000000\n",
       "Breach Candy    120000.000000\n",
       "Agripada        114166.666667\n",
       "Kapurbawadi     100000.000000\n",
       "Lower Parel     100000.000000\n",
       "Carter Road     100000.000000\n",
       "Name: ratio_per_room, dtype: float64"
      ]
     },
     "execution_count": 55,
     "metadata": {},
     "output_type": "execute_result"
    }
   ],
   "source": [
    "median_distribution_bedrooms = processed_df.groupby(\"location\")[\"ratio_per_room\"].median().sort_values(ascending=False)\n",
    "median_distribution_bedrooms.head(10)"
   ]
  },
  {
   "cell_type": "code",
   "execution_count": 56,
   "id": "f4e6160e-97a9-43a8-9f6c-8f7c7fb340bb",
   "metadata": {},
   "outputs": [
    {
     "name": "stdout",
     "output_type": "stream",
     "text": [
      "<class 'pandas.core.frame.DataFrame'>\n",
      "RangeIndex: 5000 entries, 0 to 4999\n",
      "Data columns (total 12 columns):\n",
      " #   Column           Non-Null Count  Dtype  \n",
      "---  ------           --------------  -----  \n",
      " 0   house_type       5000 non-null   object \n",
      " 1   house_size       5000 non-null   int64  \n",
      " 2   location         5000 non-null   object \n",
      " 3   price            5000 non-null   int64  \n",
      " 4   numBalconies     733 non-null    float64\n",
      " 5   numBathrooms     4986 non-null   float64\n",
      " 6   SecurityDeposit  5000 non-null   object \n",
      " 7   Status           5000 non-null   object \n",
      " 8   category         5000 non-null   object \n",
      " 9   numBedrooms      5000 non-null   int64  \n",
      " 10  ratio_per_room   5000 non-null   float64\n",
      " 11  PricePerSqft     5000 non-null   float64\n",
      "dtypes: float64(4), int64(3), object(5)\n",
      "memory usage: 468.9+ KB\n"
     ]
    }
   ],
   "source": [
    "processed_df.info()"
   ]
  },
  {
   "cell_type": "code",
   "execution_count": 57,
   "id": "6c85e830-efc4-44ed-8c8d-7e72495f77ec",
   "metadata": {},
   "outputs": [
    {
     "data": {
      "text/html": [
       "<div>\n",
       "<style scoped>\n",
       "    .dataframe tbody tr th:only-of-type {\n",
       "        vertical-align: middle;\n",
       "    }\n",
       "\n",
       "    .dataframe tbody tr th {\n",
       "        vertical-align: top;\n",
       "    }\n",
       "\n",
       "    .dataframe thead th {\n",
       "        text-align: right;\n",
       "    }\n",
       "</style>\n",
       "<table border=\"1\" class=\"dataframe\">\n",
       "  <thead>\n",
       "    <tr style=\"text-align: right;\">\n",
       "      <th></th>\n",
       "      <th>price</th>\n",
       "      <th>numBedrooms</th>\n",
       "      <th>ratio_per_room</th>\n",
       "    </tr>\n",
       "    <tr>\n",
       "      <th>location</th>\n",
       "      <th></th>\n",
       "      <th></th>\n",
       "      <th></th>\n",
       "    </tr>\n",
       "  </thead>\n",
       "  <tbody>\n",
       "    <tr>\n",
       "      <th>Jacob Circle</th>\n",
       "      <td>950000.000000</td>\n",
       "      <td>4.000000</td>\n",
       "      <td>237500.000000</td>\n",
       "    </tr>\n",
       "    <tr>\n",
       "      <th>Marine Drive</th>\n",
       "      <td>525000.000000</td>\n",
       "      <td>4.000000</td>\n",
       "      <td>131250.000000</td>\n",
       "    </tr>\n",
       "    <tr>\n",
       "      <th>Walkeshwar</th>\n",
       "      <td>525000.000000</td>\n",
       "      <td>4.000000</td>\n",
       "      <td>131250.000000</td>\n",
       "    </tr>\n",
       "    <tr>\n",
       "      <th>Breach Candy</th>\n",
       "      <td>120000.000000</td>\n",
       "      <td>1.000000</td>\n",
       "      <td>120000.000000</td>\n",
       "    </tr>\n",
       "    <tr>\n",
       "      <th>juhu tara</th>\n",
       "      <td>271666.666667</td>\n",
       "      <td>2.333333</td>\n",
       "      <td>115000.000000</td>\n",
       "    </tr>\n",
       "    <tr>\n",
       "      <th>...</th>\n",
       "      <td>...</td>\n",
       "      <td>...</td>\n",
       "      <td>...</td>\n",
       "    </tr>\n",
       "    <tr>\n",
       "      <th>Hendre Pada</th>\n",
       "      <td>4500.000000</td>\n",
       "      <td>1.000000</td>\n",
       "      <td>4500.000000</td>\n",
       "    </tr>\n",
       "    <tr>\n",
       "      <th>Badlapur East</th>\n",
       "      <td>5747.058824</td>\n",
       "      <td>1.294118</td>\n",
       "      <td>4305.882353</td>\n",
       "    </tr>\n",
       "    <tr>\n",
       "      <th>Koproli</th>\n",
       "      <td>8500.000000</td>\n",
       "      <td>2.000000</td>\n",
       "      <td>4250.000000</td>\n",
       "    </tr>\n",
       "    <tr>\n",
       "      <th>Vevoor</th>\n",
       "      <td>5750.000000</td>\n",
       "      <td>1.500000</td>\n",
       "      <td>4000.000000</td>\n",
       "    </tr>\n",
       "    <tr>\n",
       "      <th>Saphale</th>\n",
       "      <td>3650.000000</td>\n",
       "      <td>1.000000</td>\n",
       "      <td>3650.000000</td>\n",
       "    </tr>\n",
       "  </tbody>\n",
       "</table>\n",
       "<p>189 rows × 3 columns</p>\n",
       "</div>"
      ],
      "text/plain": [
       "                       price  numBedrooms  ratio_per_room\n",
       "location                                                 \n",
       "Jacob Circle   950000.000000     4.000000   237500.000000\n",
       "Marine Drive   525000.000000     4.000000   131250.000000\n",
       "Walkeshwar     525000.000000     4.000000   131250.000000\n",
       "Breach Candy   120000.000000     1.000000   120000.000000\n",
       "juhu tara      271666.666667     2.333333   115000.000000\n",
       "...                      ...          ...             ...\n",
       "Hendre Pada      4500.000000     1.000000     4500.000000\n",
       "Badlapur East    5747.058824     1.294118     4305.882353\n",
       "Koproli          8500.000000     2.000000     4250.000000\n",
       "Vevoor           5750.000000     1.500000     4000.000000\n",
       "Saphale          3650.000000     1.000000     3650.000000\n",
       "\n",
       "[189 rows x 3 columns]"
      ]
     },
     "execution_count": 57,
     "metadata": {},
     "output_type": "execute_result"
    }
   ],
   "source": [
    "processed_df.groupby(\"location\")[[\"price\", \"numBedrooms\", \"ratio_per_room\"]].mean().sort_values(by=\"ratio_per_room\", ascending=False)"
   ]
  },
  {
   "cell_type": "code",
   "execution_count": 58,
   "id": "e4119ed8-bf4a-44f2-863a-6c9161927bf2",
   "metadata": {},
   "outputs": [
    {
     "data": {
      "text/html": [
       "<div>\n",
       "<style scoped>\n",
       "    .dataframe tbody tr th:only-of-type {\n",
       "        vertical-align: middle;\n",
       "    }\n",
       "\n",
       "    .dataframe tbody tr th {\n",
       "        vertical-align: top;\n",
       "    }\n",
       "\n",
       "    .dataframe thead th {\n",
       "        text-align: right;\n",
       "    }\n",
       "</style>\n",
       "<table border=\"1\" class=\"dataframe\">\n",
       "  <thead>\n",
       "    <tr style=\"text-align: right;\">\n",
       "      <th></th>\n",
       "      <th>price</th>\n",
       "      <th>numBedrooms</th>\n",
       "      <th>ratio_per_room</th>\n",
       "    </tr>\n",
       "    <tr>\n",
       "      <th>location</th>\n",
       "      <th></th>\n",
       "      <th></th>\n",
       "      <th></th>\n",
       "    </tr>\n",
       "  </thead>\n",
       "  <tbody>\n",
       "    <tr>\n",
       "      <th>Jacob Circle</th>\n",
       "      <td>950000.0</td>\n",
       "      <td>4.0</td>\n",
       "      <td>237500.0</td>\n",
       "    </tr>\n",
       "    <tr>\n",
       "      <th>Marine Drive</th>\n",
       "      <td>525000.0</td>\n",
       "      <td>4.0</td>\n",
       "      <td>131250.0</td>\n",
       "    </tr>\n",
       "    <tr>\n",
       "      <th>Walkeshwar</th>\n",
       "      <td>525000.0</td>\n",
       "      <td>4.0</td>\n",
       "      <td>131250.0</td>\n",
       "    </tr>\n",
       "    <tr>\n",
       "      <th>juhu tara</th>\n",
       "      <td>260000.0</td>\n",
       "      <td>2.0</td>\n",
       "      <td>125000.0</td>\n",
       "    </tr>\n",
       "    <tr>\n",
       "      <th>Churchgate</th>\n",
       "      <td>500000.0</td>\n",
       "      <td>4.0</td>\n",
       "      <td>125000.0</td>\n",
       "    </tr>\n",
       "    <tr>\n",
       "      <th>...</th>\n",
       "      <td>...</td>\n",
       "      <td>...</td>\n",
       "      <td>...</td>\n",
       "    </tr>\n",
       "    <tr>\n",
       "      <th>Hendre Pada</th>\n",
       "      <td>4500.0</td>\n",
       "      <td>1.0</td>\n",
       "      <td>4500.0</td>\n",
       "    </tr>\n",
       "    <tr>\n",
       "      <th>Koproli</th>\n",
       "      <td>8500.0</td>\n",
       "      <td>2.0</td>\n",
       "      <td>4250.0</td>\n",
       "    </tr>\n",
       "    <tr>\n",
       "      <th>Badlapur East</th>\n",
       "      <td>5000.0</td>\n",
       "      <td>1.0</td>\n",
       "      <td>4000.0</td>\n",
       "    </tr>\n",
       "    <tr>\n",
       "      <th>Vevoor</th>\n",
       "      <td>5750.0</td>\n",
       "      <td>1.5</td>\n",
       "      <td>4000.0</td>\n",
       "    </tr>\n",
       "    <tr>\n",
       "      <th>Saphale</th>\n",
       "      <td>3650.0</td>\n",
       "      <td>1.0</td>\n",
       "      <td>3650.0</td>\n",
       "    </tr>\n",
       "  </tbody>\n",
       "</table>\n",
       "<p>189 rows × 3 columns</p>\n",
       "</div>"
      ],
      "text/plain": [
       "                  price  numBedrooms  ratio_per_room\n",
       "location                                            \n",
       "Jacob Circle   950000.0          4.0        237500.0\n",
       "Marine Drive   525000.0          4.0        131250.0\n",
       "Walkeshwar     525000.0          4.0        131250.0\n",
       "juhu tara      260000.0          2.0        125000.0\n",
       "Churchgate     500000.0          4.0        125000.0\n",
       "...                 ...          ...             ...\n",
       "Hendre Pada      4500.0          1.0          4500.0\n",
       "Koproli          8500.0          2.0          4250.0\n",
       "Badlapur East    5000.0          1.0          4000.0\n",
       "Vevoor           5750.0          1.5          4000.0\n",
       "Saphale          3650.0          1.0          3650.0\n",
       "\n",
       "[189 rows x 3 columns]"
      ]
     },
     "execution_count": 58,
     "metadata": {},
     "output_type": "execute_result"
    }
   ],
   "source": [
    "processed_df.groupby(\"location\")[[\"price\", \"numBedrooms\", \"ratio_per_room\"]].median().sort_values(by=\"ratio_per_room\", ascending=False)"
   ]
  },
  {
   "cell_type": "code",
   "execution_count": 59,
   "id": "d3071616-1e0e-47fb-8f94-c6151aa1d08a",
   "metadata": {},
   "outputs": [
    {
     "name": "stdout",
     "output_type": "stream",
     "text": [
      "<class 'pandas.core.frame.DataFrame'>\n",
      "RangeIndex: 5000 entries, 0 to 4999\n",
      "Data columns (total 12 columns):\n",
      " #   Column           Non-Null Count  Dtype  \n",
      "---  ------           --------------  -----  \n",
      " 0   house_type       5000 non-null   object \n",
      " 1   house_size       5000 non-null   int64  \n",
      " 2   location         5000 non-null   object \n",
      " 3   price            5000 non-null   int64  \n",
      " 4   numBalconies     733 non-null    float64\n",
      " 5   numBathrooms     4986 non-null   float64\n",
      " 6   SecurityDeposit  5000 non-null   object \n",
      " 7   Status           5000 non-null   object \n",
      " 8   category         5000 non-null   object \n",
      " 9   numBedrooms      5000 non-null   int64  \n",
      " 10  ratio_per_room   5000 non-null   float64\n",
      " 11  PricePerSqft     5000 non-null   float64\n",
      "dtypes: float64(4), int64(3), object(5)\n",
      "memory usage: 468.9+ KB\n"
     ]
    }
   ],
   "source": [
    "processed_df.info()"
   ]
  },
  {
   "cell_type": "code",
   "execution_count": 62,
   "id": "829085c7-2748-4f38-b140-9b7e72aca8ad",
   "metadata": {},
   "outputs": [],
   "source": [
    "processed_df.to_csv(os.path.join(PROCESSED_DATA_DIR, \"refined_lvl1.csv\"))"
   ]
  },
  {
   "cell_type": "code",
   "execution_count": null,
   "id": "26ccb6ad-7125-498f-a68b-09a6625cbc5d",
   "metadata": {},
   "outputs": [],
   "source": []
  }
 ],
 "metadata": {
  "kernelspec": {
   "display_name": "Python 3 (ipykernel)",
   "language": "python",
   "name": "python3"
  },
  "language_info": {
   "codemirror_mode": {
    "name": "ipython",
    "version": 3
   },
   "file_extension": ".py",
   "mimetype": "text/x-python",
   "name": "python",
   "nbconvert_exporter": "python",
   "pygments_lexer": "ipython3",
   "version": "3.13.5"
  }
 },
 "nbformat": 4,
 "nbformat_minor": 5
}
